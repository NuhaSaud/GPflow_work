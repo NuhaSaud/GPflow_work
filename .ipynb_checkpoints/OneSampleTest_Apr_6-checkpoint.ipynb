{
 "cells": [
  {
   "cell_type": "markdown",
   "metadata": {},
   "source": [
    "# One Sample test"
   ]
  },
  {
   "cell_type": "markdown",
   "metadata": {},
   "source": [
    "Nuha BinTayyash, 2020\n",
    "\n",
    "This notebook shows one smaple test likelihood ratio with the gpflow 2 commit id = 8094187a5a501e55b0cb34b7ea1d12a5b28643ad"
   ]
  },
  {
   "cell_type": "code",
   "execution_count": 1,
   "metadata": {},
   "outputs": [
    {
     "name": "stdout",
     "output_type": "stream",
     "text": [
      "Populating the interactive namespace from numpy and matplotlib\n"
     ]
    }
   ],
   "source": [
    "import os \n",
    "import numpy as np\n",
    "import tensorflow as tf\n",
    "import gpflow\n",
    "import pandas as pd\n",
    "import warnings\n",
    "from tqdm import tqdm\n",
    "from sklearn import metrics\n",
    "from scipy.signal import savgol_filter\n",
    "import scipy.stats as ss\n",
    "warnings.filterwarnings('ignore')\n",
    "%pylab inline "
   ]
  },
  {
   "cell_type": "code",
   "execution_count": 2,
   "metadata": {},
   "outputs": [
    {
     "name": "stdout",
     "output_type": "stream",
     "text": [
      "tensorflow version: 2.1.0\n",
      "GPflow version: 2.0.0\n"
     ]
    }
   ],
   "source": [
    "print('tensorflow version:',tf.__version__)\n",
    "print('GPflow version:',gpflow.__version__)"
   ]
  },
  {
   "cell_type": "markdown",
   "metadata": {},
   "source": [
    "Simulated count data"
   ]
  },
  {
   "cell_type": "code",
   "execution_count": 3,
   "metadata": {},
   "outputs": [],
   "source": [
    "X = pd.read_csv('time_points.csv',index_col=[0])\n",
    "X = X.values.astype(float) # time points \n",
    "X = X.reshape([-1,1])\n",
    "Y =  pd.read_csv('high_counts_high_dispersion.csv',index_col=[0])\n",
    "genes_name = Y.index.values.tolist() # genes name\n",
    "Y = Y.values.astype(int) # gene expression matrix"
   ]
  },
  {
   "cell_type": "code",
   "execution_count": 4,
   "metadata": {},
   "outputs": [],
   "source": [
    "def samples_posterior_predictive_distribution(xtest,model):\n",
    "        \n",
    "        var = []\n",
    "        f_samples = []\n",
    "        for i in range(20):\n",
    "            f_samples.append(model.predict_f_samples(xtest, 10))\n",
    "            f = np.vstack(f_samples)\n",
    "            link_f = np.exp(f[:, :, 0])\n",
    "            y = []\n",
    "            link_f_mean = np.mean(link_f, 0)\n",
    "            for i in range(link_f_mean.shape[0]):\n",
    "                y.append(ss.poisson.rvs(link_f_mean[i], size = 500)) \n",
    "            y = np.vstack(y)\n",
    "            var.append(y.T)\n",
    "\n",
    "        var = np.vstack(var)\n",
    "        mean = savgol_filter(np.mean(var,axis = 0), int(xtest.shape[0]/2)+1, 3)\n",
    "        mean = [(i > 0) * i for i in mean]\n",
    "        return mean,var\n",
    "# Hyper-parameters initialization\n",
    "def init_hyper_parameters(seed_value):\n",
    "    hyper_parameters = {}   \n",
    "    hyper_parameters['ls'] = np.random.uniform(0. , (np.max(X)-np.min(X))/10.)    \n",
    "    hyper_parameters['var'] = np.random.uniform(1., 20.)\n",
    "    \n",
    "    if model_index == 2:\n",
    "        hyper_parameters['ls'] = 1000. # constant kernel\n",
    "\n",
    "    tf.compat.v1.get_default_graph()\n",
    "    tf.compat.v1.set_random_seed(seed_value)\n",
    "    tf.random.set_seed(seed_value)\n",
    "    gpflow.config.set_default_float(np.float64)\n",
    "    \n",
    "    return hyper_parameters\n",
    "\n",
    "# fit a GP and fix Cholesky decomposition failure,optimization failure and bad solution \n",
    "# by random initialization if detected  \n",
    "\n",
    "def fit_GP(count_fix,lik_name):\n",
    "    np.random.seed(count_fix)\n",
    "    hyper_parameters = init_hyper_parameters(count_fix)\n",
    "    fit_successed = True   \n",
    "    try:\n",
    "        # select RBF kernel or constant kernel\n",
    "        if hyper_parameters['ls'] == 1000:\n",
    "            kern = gpflow.kernels.Constant(variance= hyper_parameters['var']) \n",
    "        else:\n",
    "            kern = gpflow.kernels.RBF( variance= hyper_parameters['var'],lengthscales = hyper_parameters['ls'])     \n",
    "        \n",
    "        y = Y[i].astype(float)\n",
    "        y = y.reshape([-1,1])\n",
    "        if lik_name == 'Gaussian':\n",
    "            y = np.log(y+1)\n",
    "            model = gpflow.models.GPR((X, y), kern)\n",
    "        else:\n",
    "            model = gpflow.models.VGP((X,y), kernel= kern,likelihood= gpflow.likelihoods.Poisson())\n",
    "        \n",
    "        o = gpflow.optimizers.Scipy()\n",
    "        res = o.minimize(model.training_loss, variables=model.trainable_variables,options=dict(maxiter=5000))\n",
    "        \n",
    "        if not(res.success):\n",
    "            if count_fix < 10:\n",
    "                print('Optimization fail.')\n",
    "                count_fix = count_fix +1 \n",
    "                fit_successed,model = fit_GP(count_fix,lik_name)\n",
    "            else:\n",
    "                print('Can not fit a Gaussian process, Optimization fail.')\n",
    "                fit_successed = False\n",
    "    except tf.errors.InvalidArgumentError as e:\n",
    "        if count_fix < 10:\n",
    "            print('Cholesky decomposition was not successful.')\n",
    "            count_fix = count_fix +1 \n",
    "            fit_successed,model = fit_GP(count_fix,lik_name)\n",
    "        else:\n",
    "            print('Can not fit a Gaussian process, Cholesky decomposition was not successful.')\n",
    "            fit_successed = False\n",
    "\n",
    "    if fit_successed:\n",
    "        xtest = np.linspace(np.min(X),np.max(X),100)[:,None]\n",
    "        if lik_name == 'Gaussian':\n",
    "            mean, var = model.predict_y(xtest)\n",
    "            mean = mean.numpy()\n",
    "            var = var.numpy()\n",
    "        else:\n",
    "            # mean of posterior predictive samples\n",
    "            mean,var = samples_posterior_predictive_distribution(xtest,model)         \n",
    "        \n",
    "        \n",
    "        if count_fix < 5: # limit number of trial to fix bad solution \n",
    "            y_mean = np.mean(y)\n",
    "            mean_mean = np.mean(mean) \n",
    "            print(model_index)\n",
    "            print('y_mean',y_mean)\n",
    "            print('mean_mean',mean_mean)\n",
    "            print('abs(round((mean_mean-y_mean)/y_mean))',abs(round((mean_mean-y_mean)/y_mean)))\n",
    "\n",
    "            if y_mean > 0.0:\n",
    "                if abs(round((mean_mean-y_mean)/y_mean)) > 0 or mean_mean == 0.0:\n",
    "                    print('local Optima')\n",
    "                    print(model_index)\n",
    "                    print('y_mean',y_mean)\n",
    "                    print('mean_mean',mean_mean)\n",
    "                    print('abs(round((mean_mean-y_mean)/y_mean))',abs(round((mean_mean-y_mean)/y_mean)))\n",
    "                    count_fix = count_fix +1 \n",
    "                    fit_successed,model = fit_GP(count_fix,lik_name)\n",
    "\n",
    "    return fit_successed,model\n",
    "\n",
    "def fit_model(lik_name):\n",
    "    count_fix = 0\n",
    "    fit_successed,model = fit_GP(count_fix,lik_name)\n",
    "\n",
    "    if fit_successed:\n",
    "        log_likelihood = model.log_posterior_density().numpy()\n",
    "        ckpt = tf.train.Checkpoint(model= model, step=tf.Variable(1))\n",
    "        dir_name = 'models/'\n",
    "        if not os.path.exists(dir_name):\n",
    "            os.mkdir(dir_name)\n",
    "        filename = dir_name+genes_name[i]+'_model_'+str(model_index)\n",
    "        ckpt.write(filename)\n",
    "\n",
    "    else:\n",
    "        log_likelihood = np.nan  # set to Nan in case of Cholesky decomposition failure or optimization failure \n",
    "        model = None\n",
    "    return log_likelihood,model\n",
    "    "
   ]
  },
  {
   "cell_type": "code",
   "execution_count": 5,
   "metadata": {
    "scrolled": true
   },
   "outputs": [
    {
     "name": "stderr",
     "output_type": "stream",
     "text": [
      "\r",
      "  0%|          | 0/360 [00:00<?, ?it/s]"
     ]
    },
    {
     "name": "stdout",
     "output_type": "stream",
     "text": [
      "1\n",
      "y_mean 4.48220322325731\n",
      "mean_mean 4.76045117970345\n",
      "abs(round((mean_mean-y_mean)/y_mean)) 0.0\n"
     ]
    },
    {
     "name": "stderr",
     "output_type": "stream",
     "text": [
      "\r",
      "  0%|          | 1/360 [00:03<23:25,  3.91s/it]"
     ]
    },
    {
     "name": "stdout",
     "output_type": "stream",
     "text": [
      "2\n",
      "y_mean 4.48220322325731\n",
      "mean_mean 4.4194730619412015\n",
      "abs(round((mean_mean-y_mean)/y_mean)) 0.0\n",
      "1\n",
      "y_mean 6.397262257208371\n",
      "mean_mean 6.393758034347436\n",
      "abs(round((mean_mean-y_mean)/y_mean)) 0.0\n"
     ]
    },
    {
     "name": "stderr",
     "output_type": "stream",
     "text": [
      "\r",
      "  1%|          | 2/360 [00:04<17:29,  2.93s/it]"
     ]
    },
    {
     "name": "stdout",
     "output_type": "stream",
     "text": [
      "2\n",
      "y_mean 6.397262257208371\n",
      "mean_mean 6.393758119430953\n",
      "abs(round((mean_mean-y_mean)/y_mean)) 0.0\n",
      "1\n",
      "y_mean 5.76452458587395\n",
      "mean_mean 5.86527733113894\n",
      "abs(round((mean_mean-y_mean)/y_mean)) 0.0\n"
     ]
    },
    {
     "name": "stderr",
     "output_type": "stream",
     "text": [
      "\r",
      "  1%|          | 3/360 [00:05<13:14,  2.23s/it]"
     ]
    },
    {
     "name": "stdout",
     "output_type": "stream",
     "text": [
      "2\n",
      "y_mean 5.76452458587395\n",
      "mean_mean 5.737480571658311\n",
      "abs(round((mean_mean-y_mean)/y_mean)) 0.0\n",
      "1\n",
      "y_mean 6.839476242762679\n",
      "mean_mean 6.83639276517741\n",
      "abs(round((mean_mean-y_mean)/y_mean)) 0.0\n"
     ]
    },
    {
     "name": "stderr",
     "output_type": "stream",
     "text": [
      "\r",
      "  1%|          | 4/360 [00:05<10:31,  1.77s/it]"
     ]
    },
    {
     "name": "stdout",
     "output_type": "stream",
     "text": [
      "2\n",
      "y_mean 6.839476242762679\n",
      "mean_mean 6.836392590470608\n",
      "abs(round((mean_mean-y_mean)/y_mean)) 0.0\n",
      "1\n",
      "y_mean 7.413311056437315\n",
      "mean_mean 7.50456349086291\n",
      "abs(round((mean_mean-y_mean)/y_mean)) 0.0\n"
     ]
    },
    {
     "name": "stderr",
     "output_type": "stream",
     "text": [
      "\r",
      "  1%|▏         | 5/360 [00:06<08:31,  1.44s/it]"
     ]
    },
    {
     "name": "stdout",
     "output_type": "stream",
     "text": [
      "2\n",
      "y_mean 7.413311056437315\n",
      "mean_mean 7.377889441053452\n",
      "abs(round((mean_mean-y_mean)/y_mean)) 0.0\n",
      "1\n",
      "y_mean 7.9770226069875845\n",
      "mean_mean 7.974638714011711\n",
      "abs(round((mean_mean-y_mean)/y_mean)) 0.0\n"
     ]
    },
    {
     "name": "stderr",
     "output_type": "stream",
     "text": [
      "\r",
      "  2%|▏         | 6/360 [00:07<07:31,  1.27s/it]"
     ]
    },
    {
     "name": "stdout",
     "output_type": "stream",
     "text": [
      "2\n",
      "y_mean 7.9770226069875845\n",
      "mean_mean 7.974638961540475\n",
      "abs(round((mean_mean-y_mean)/y_mean)) 0.0\n",
      "1\n",
      "y_mean 4.580415768092619\n",
      "mean_mean 4.842747308789272\n",
      "abs(round((mean_mean-y_mean)/y_mean)) 0.0\n"
     ]
    },
    {
     "name": "stderr",
     "output_type": "stream",
     "text": [
      "\r",
      "  2%|▏         | 7/360 [00:08<06:24,  1.09s/it]"
     ]
    },
    {
     "name": "stdout",
     "output_type": "stream",
     "text": [
      "2\n",
      "y_mean 4.580415768092619\n",
      "mean_mean 4.54846350632613\n",
      "abs(round((mean_mean-y_mean)/y_mean)) 0.0\n",
      "1\n",
      "y_mean 5.873519871387574\n",
      "mean_mean 5.871682674481192\n",
      "abs(round((mean_mean-y_mean)/y_mean)) 0.0\n"
     ]
    },
    {
     "name": "stderr",
     "output_type": "stream",
     "text": [
      "\r",
      "  2%|▏         | 8/360 [00:08<05:34,  1.05it/s]"
     ]
    },
    {
     "name": "stdout",
     "output_type": "stream",
     "text": [
      "2\n",
      "y_mean 5.873519871387574\n",
      "mean_mean 5.871664542509016\n",
      "abs(round((mean_mean-y_mean)/y_mean)) 0.0\n",
      "1\n",
      "y_mean 4.7783589370154305\n",
      "mean_mean 5.043141652382119\n",
      "abs(round((mean_mean-y_mean)/y_mean)) 0.0\n"
     ]
    },
    {
     "name": "stderr",
     "output_type": "stream",
     "text": [
      "\r",
      "  2%|▎         | 9/360 [00:09<04:55,  1.19it/s]"
     ]
    },
    {
     "name": "stdout",
     "output_type": "stream",
     "text": [
      "2\n",
      "y_mean 4.7783589370154305\n",
      "mean_mean 4.746163834244133\n",
      "abs(round((mean_mean-y_mean)/y_mean)) 0.0\n",
      "1\n",
      "y_mean 6.337534249600448\n",
      "mean_mean 6.3360803768872325\n",
      "abs(round((mean_mean-y_mean)/y_mean)) 0.0\n"
     ]
    },
    {
     "name": "stderr",
     "output_type": "stream",
     "text": [
      "\r",
      "  3%|▎         | 10/360 [00:09<04:35,  1.27it/s]"
     ]
    },
    {
     "name": "stdout",
     "output_type": "stream",
     "text": [
      "2\n",
      "y_mean 6.337534249600448\n",
      "mean_mean 6.335832997508549\n",
      "abs(round((mean_mean-y_mean)/y_mean)) 0.0\n",
      "1\n",
      "y_mean 6.7682900067642\n",
      "mean_mean 6.574589839016802\n",
      "abs(round((mean_mean-y_mean)/y_mean)) 0.0\n"
     ]
    },
    {
     "name": "stderr",
     "output_type": "stream",
     "text": [
      "\r",
      "  3%|▎         | 11/360 [00:10<04:11,  1.39it/s]"
     ]
    },
    {
     "name": "stdout",
     "output_type": "stream",
     "text": [
      "2\n",
      "y_mean 6.7682900067642\n",
      "mean_mean 6.746626521063209\n",
      "abs(round((mean_mean-y_mean)/y_mean)) 0.0\n",
      "1\n",
      "y_mean 8.189369972787965\n",
      "mean_mean 8.188540150693012\n",
      "abs(round((mean_mean-y_mean)/y_mean)) 0.0\n"
     ]
    },
    {
     "name": "stderr",
     "output_type": "stream",
     "text": [
      "\r",
      "  3%|▎         | 12/360 [00:11<04:02,  1.44it/s]"
     ]
    },
    {
     "name": "stdout",
     "output_type": "stream",
     "text": [
      "2\n",
      "y_mean 8.189369972787965\n",
      "mean_mean 8.188464943920673\n",
      "abs(round((mean_mean-y_mean)/y_mean)) 0.0\n",
      "1\n",
      "y_mean 5.635569261667727\n",
      "mean_mean 5.609173146996179\n",
      "abs(round((mean_mean-y_mean)/y_mean)) 0.0\n"
     ]
    },
    {
     "name": "stderr",
     "output_type": "stream",
     "text": [
      "\r",
      "  4%|▎         | 13/360 [00:11<03:54,  1.48it/s]"
     ]
    },
    {
     "name": "stdout",
     "output_type": "stream",
     "text": [
      "2\n",
      "y_mean 5.635569261667727\n",
      "mean_mean 5.60917633795141\n",
      "abs(round((mean_mean-y_mean)/y_mean)) 0.0\n",
      "1\n",
      "y_mean 6.39698276783287\n",
      "mean_mean 6.394362768499002\n",
      "abs(round((mean_mean-y_mean)/y_mean)) 0.0\n"
     ]
    },
    {
     "name": "stderr",
     "output_type": "stream",
     "text": [
      "\r",
      "  4%|▍         | 14/360 [00:12<04:02,  1.43it/s]"
     ]
    },
    {
     "name": "stdout",
     "output_type": "stream",
     "text": [
      "2\n",
      "y_mean 6.39698276783287\n",
      "mean_mean 6.394367539384653\n",
      "abs(round((mean_mean-y_mean)/y_mean)) 0.0\n",
      "1\n",
      "y_mean 5.972968917094317\n",
      "mean_mean 5.938149552275753\n",
      "abs(round((mean_mean-y_mean)/y_mean)) 0.0\n"
     ]
    },
    {
     "name": "stderr",
     "output_type": "stream",
     "text": [
      "\r",
      "  4%|▍         | 15/360 [00:13<04:06,  1.40it/s]"
     ]
    },
    {
     "name": "stdout",
     "output_type": "stream",
     "text": [
      "2\n",
      "y_mean 5.972968917094317\n",
      "mean_mean 5.938149770750871\n",
      "abs(round((mean_mean-y_mean)/y_mean)) 0.0\n",
      "1\n",
      "y_mean 7.942135987234233\n",
      "mean_mean 7.889962894466451\n",
      "abs(round((mean_mean-y_mean)/y_mean)) 0.0\n"
     ]
    },
    {
     "name": "stderr",
     "output_type": "stream",
     "text": [
      "\r",
      "  4%|▍         | 16/360 [00:14<04:27,  1.28it/s]"
     ]
    },
    {
     "name": "stdout",
     "output_type": "stream",
     "text": [
      "2\n",
      "y_mean 7.942135987234233\n",
      "mean_mean 7.940266651591556\n",
      "abs(round((mean_mean-y_mean)/y_mean)) 0.0\n",
      "Cholesky decomposition was not successful.\n",
      "1\n",
      "y_mean 6.605665332346903\n",
      "mean_mean 6.5947236553558595\n",
      "abs(round((mean_mean-y_mean)/y_mean)) 0.0\n",
      "1\n",
      "y_mean 6.605665332346903\n",
      "mean_mean 6.5947236553558595\n",
      "abs(round((mean_mean-y_mean)/y_mean)) 0.0\n"
     ]
    },
    {
     "name": "stderr",
     "output_type": "stream",
     "text": [
      "\r",
      "  5%|▍         | 17/360 [00:15<05:42,  1.00it/s]"
     ]
    },
    {
     "name": "stdout",
     "output_type": "stream",
     "text": [
      "2\n",
      "y_mean 6.605665332346903\n",
      "mean_mean 6.5947236833503675\n",
      "abs(round((mean_mean-y_mean)/y_mean)) 0.0\n",
      "1\n",
      "y_mean 7.7358964522675775\n",
      "mean_mean 7.7346213945584825\n",
      "abs(round((mean_mean-y_mean)/y_mean)) 0.0\n"
     ]
    },
    {
     "name": "stderr",
     "output_type": "stream",
     "text": [
      "\r",
      "  5%|▌         | 18/360 [00:17<06:31,  1.14s/it]"
     ]
    },
    {
     "name": "stdout",
     "output_type": "stream",
     "text": [
      "2\n",
      "y_mean 7.7358964522675775\n",
      "mean_mean 7.734619821512574\n",
      "abs(round((mean_mean-y_mean)/y_mean)) 0.0\n",
      "1\n",
      "y_mean 4.9619196378865915\n",
      "mean_mean 4.949383816648119\n",
      "abs(round((mean_mean-y_mean)/y_mean)) 0.0\n"
     ]
    },
    {
     "name": "stderr",
     "output_type": "stream",
     "text": [
      "\r",
      "  5%|▌         | 19/360 [00:18<06:30,  1.15s/it]"
     ]
    },
    {
     "name": "stdout",
     "output_type": "stream",
     "text": [
      "2\n",
      "y_mean 4.9619196378865915\n",
      "mean_mean 4.949383991872615\n",
      "abs(round((mean_mean-y_mean)/y_mean)) 0.0\n",
      "1\n",
      "y_mean 6.31629158668389\n",
      "mean_mean 6.3149844253618355\n",
      "abs(round((mean_mean-y_mean)/y_mean)) 0.0\n"
     ]
    },
    {
     "name": "stderr",
     "output_type": "stream",
     "text": [
      "\r",
      "  6%|▌         | 20/360 [00:19<05:43,  1.01s/it]"
     ]
    },
    {
     "name": "stdout",
     "output_type": "stream",
     "text": [
      "2\n",
      "y_mean 6.31629158668389\n",
      "mean_mean 6.314879719934891\n",
      "abs(round((mean_mean-y_mean)/y_mean)) 0.0\n",
      "1\n",
      "y_mean 5.6964016538808995\n",
      "mean_mean 5.4007782360195336\n",
      "abs(round((mean_mean-y_mean)/y_mean)) 0.0\n"
     ]
    },
    {
     "name": "stderr",
     "output_type": "stream",
     "text": [
      "\r",
      "  6%|▌         | 21/360 [00:19<05:12,  1.08it/s]"
     ]
    },
    {
     "name": "stdout",
     "output_type": "stream",
     "text": [
      "2\n",
      "y_mean 5.6964016538808995\n",
      "mean_mean 5.663905647218855\n",
      "abs(round((mean_mean-y_mean)/y_mean)) 0.0\n",
      "1\n",
      "y_mean 7.6467115162842845\n",
      "mean_mean 7.644919697677453\n",
      "abs(round((mean_mean-y_mean)/y_mean)) 0.0\n"
     ]
    },
    {
     "name": "stderr",
     "output_type": "stream",
     "text": [
      "\r",
      "  6%|▌         | 22/360 [00:20<04:43,  1.19it/s]"
     ]
    },
    {
     "name": "stdout",
     "output_type": "stream",
     "text": [
      "2\n",
      "y_mean 7.6467115162842845\n",
      "mean_mean 7.644920202816411\n",
      "abs(round((mean_mean-y_mean)/y_mean)) 0.0\n",
      "1\n",
      "y_mean 6.274146950848582\n",
      "mean_mean 6.0826299004965305\n",
      "abs(round((mean_mean-y_mean)/y_mean)) 0.0\n"
     ]
    },
    {
     "name": "stderr",
     "output_type": "stream",
     "text": [
      "\r",
      "  6%|▋         | 23/360 [00:21<04:36,  1.22it/s]"
     ]
    },
    {
     "name": "stdout",
     "output_type": "stream",
     "text": [
      "2\n",
      "y_mean 6.274146950848582\n",
      "mean_mean 6.250900869249663\n",
      "abs(round((mean_mean-y_mean)/y_mean)) 0.0\n",
      "Cholesky decomposition was not successful.\n",
      "1\n",
      "y_mean 8.208704194932894\n",
      "mean_mean 8.207588605775767\n",
      "abs(round((mean_mean-y_mean)/y_mean)) 0.0\n",
      "1\n",
      "y_mean 8.208704194932894\n",
      "mean_mean 8.207588605775767\n",
      "abs(round((mean_mean-y_mean)/y_mean)) 0.0\n"
     ]
    },
    {
     "name": "stderr",
     "output_type": "stream",
     "text": [
      "\r",
      "  7%|▋         | 24/360 [00:22<05:31,  1.01it/s]"
     ]
    },
    {
     "name": "stdout",
     "output_type": "stream",
     "text": [
      "2\n",
      "y_mean 8.208704194932894\n",
      "mean_mean 8.207588713860615\n",
      "abs(round((mean_mean-y_mean)/y_mean)) 0.0\n",
      "1\n",
      "y_mean 6.143279096383072\n",
      "mean_mean 6.314809658500025\n",
      "abs(round((mean_mean-y_mean)/y_mean)) 0.0\n"
     ]
    },
    {
     "name": "stderr",
     "output_type": "stream",
     "text": [
      "\r",
      "  7%|▋         | 25/360 [00:23<05:13,  1.07it/s]"
     ]
    },
    {
     "name": "stdout",
     "output_type": "stream",
     "text": [
      "2\n",
      "y_mean 6.143279096383072\n",
      "mean_mean 6.116784645899875\n",
      "abs(round((mean_mean-y_mean)/y_mean)) 0.0\n",
      "1\n",
      "y_mean 7.283248072402142\n",
      "mean_mean 7.281239197405841\n",
      "abs(round((mean_mean-y_mean)/y_mean)) 0.0\n"
     ]
    },
    {
     "name": "stderr",
     "output_type": "stream",
     "text": [
      "\r",
      "  7%|▋         | 26/360 [00:24<04:48,  1.16it/s]"
     ]
    },
    {
     "name": "stdout",
     "output_type": "stream",
     "text": [
      "2\n",
      "y_mean 7.283248072402142\n",
      "mean_mean 7.2812397562388425\n",
      "abs(round((mean_mean-y_mean)/y_mean)) 0.0\n",
      "1\n",
      "y_mean 6.248623450320067\n",
      "mean_mean 6.532071005798998\n",
      "abs(round((mean_mean-y_mean)/y_mean)) 0.0\n"
     ]
    },
    {
     "name": "stderr",
     "output_type": "stream",
     "text": [
      "\r",
      "  8%|▊         | 27/360 [00:24<04:25,  1.25it/s]"
     ]
    },
    {
     "name": "stdout",
     "output_type": "stream",
     "text": [
      "2\n",
      "y_mean 6.248623450320067\n",
      "mean_mean 6.225926887097536\n",
      "abs(round((mean_mean-y_mean)/y_mean)) 0.0\n",
      "1\n",
      "y_mean 7.0654097236663596\n",
      "mean_mean 7.064270632058366\n",
      "abs(round((mean_mean-y_mean)/y_mean)) 0.0\n"
     ]
    },
    {
     "name": "stderr",
     "output_type": "stream",
     "text": [
      "\r",
      "  8%|▊         | 28/360 [00:25<04:15,  1.30it/s]"
     ]
    },
    {
     "name": "stdout",
     "output_type": "stream",
     "text": [
      "2\n",
      "y_mean 7.0654097236663596\n",
      "mean_mean 7.064256520560829\n",
      "abs(round((mean_mean-y_mean)/y_mean)) 0.0\n",
      "1\n",
      "y_mean 6.918830304396504\n",
      "mean_mean 7.064751795481589\n",
      "abs(round((mean_mean-y_mean)/y_mean)) 0.0\n"
     ]
    },
    {
     "name": "stderr",
     "output_type": "stream",
     "text": [
      "\r",
      "  8%|▊         | 29/360 [00:26<04:04,  1.36it/s]"
     ]
    },
    {
     "name": "stdout",
     "output_type": "stream",
     "text": [
      "2\n",
      "y_mean 6.918830304396504\n",
      "mean_mean 6.905036787222376\n",
      "abs(round((mean_mean-y_mean)/y_mean)) 0.0\n",
      "1\n",
      "y_mean 7.296458070798298\n",
      "mean_mean 7.247159120901695\n",
      "abs(round((mean_mean-y_mean)/y_mean)) 0.0\n"
     ]
    },
    {
     "name": "stderr",
     "output_type": "stream",
     "text": [
      "\r",
      "  8%|▊         | 30/360 [00:26<03:57,  1.39it/s]"
     ]
    },
    {
     "name": "stdout",
     "output_type": "stream",
     "text": [
      "2\n",
      "y_mean 7.296458070798298\n",
      "mean_mean 7.295495141392394\n",
      "abs(round((mean_mean-y_mean)/y_mean)) 0.0\n",
      "1\n",
      "y_mean 5.320652808527377\n",
      "mean_mean 4.987493087519658\n",
      "abs(round((mean_mean-y_mean)/y_mean)) 0.0\n"
     ]
    },
    {
     "name": "stderr",
     "output_type": "stream",
     "text": [
      "\r",
      "  9%|▊         | 31/360 [00:27<03:47,  1.44it/s]"
     ]
    },
    {
     "name": "stdout",
     "output_type": "stream",
     "text": [
      "2\n",
      "y_mean 5.320652808527377\n",
      "mean_mean 5.266637805582008\n",
      "abs(round((mean_mean-y_mean)/y_mean)) 0.0\n",
      "1\n",
      "y_mean 7.3488645199254865\n",
      "mean_mean 7.347246896999714\n",
      "abs(round((mean_mean-y_mean)/y_mean)) 0.0\n"
     ]
    },
    {
     "name": "stderr",
     "output_type": "stream",
     "text": [
      "\r",
      "  9%|▉         | 32/360 [00:28<03:47,  1.44it/s]"
     ]
    },
    {
     "name": "stdout",
     "output_type": "stream",
     "text": [
      "2\n",
      "y_mean 7.3488645199254865\n",
      "mean_mean 7.347248063957892\n",
      "abs(round((mean_mean-y_mean)/y_mean)) 0.0\n",
      "1\n",
      "y_mean 6.090922187238423\n",
      "mean_mean 6.037285612673128\n",
      "abs(round((mean_mean-y_mean)/y_mean)) 0.0\n"
     ]
    },
    {
     "name": "stderr",
     "output_type": "stream",
     "text": [
      "\r",
      "  9%|▉         | 33/360 [00:28<03:47,  1.44it/s]"
     ]
    },
    {
     "name": "stdout",
     "output_type": "stream",
     "text": [
      "2\n",
      "y_mean 6.090922187238423\n",
      "mean_mean 6.057417421008309\n",
      "abs(round((mean_mean-y_mean)/y_mean)) 0.0\n",
      "1\n",
      "y_mean 8.032499180652955\n",
      "mean_mean 8.030560786722729\n",
      "abs(round((mean_mean-y_mean)/y_mean)) 0.0\n"
     ]
    },
    {
     "name": "stderr",
     "output_type": "stream",
     "text": [
      "\r",
      "  9%|▉         | 34/360 [00:29<03:52,  1.40it/s]"
     ]
    },
    {
     "name": "stdout",
     "output_type": "stream",
     "text": [
      "2\n",
      "y_mean 8.032499180652955\n",
      "mean_mean 8.030561057011354\n",
      "abs(round((mean_mean-y_mean)/y_mean)) 0.0\n",
      "1\n",
      "y_mean 6.522486645739459\n",
      "mean_mean 6.139118101500351\n",
      "abs(round((mean_mean-y_mean)/y_mean)) 0.0\n"
     ]
    },
    {
     "name": "stderr",
     "output_type": "stream",
     "text": [
      "\r",
      " 10%|▉         | 35/360 [00:30<04:06,  1.32it/s]"
     ]
    },
    {
     "name": "stdout",
     "output_type": "stream",
     "text": [
      "2\n",
      "y_mean 6.522486645739459\n",
      "mean_mean 6.492622813074311\n",
      "abs(round((mean_mean-y_mean)/y_mean)) 0.0\n",
      "1\n",
      "y_mean 8.079989290963828\n",
      "mean_mean 8.079063873584568\n",
      "abs(round((mean_mean-y_mean)/y_mean)) 0.0\n"
     ]
    },
    {
     "name": "stderr",
     "output_type": "stream",
     "text": [
      "\r",
      " 10%|█         | 36/360 [00:31<04:24,  1.23it/s]"
     ]
    },
    {
     "name": "stdout",
     "output_type": "stream",
     "text": [
      "2\n",
      "y_mean 8.079989290963828\n",
      "mean_mean 8.078939293649478\n",
      "abs(round((mean_mean-y_mean)/y_mean)) 0.0\n",
      "1\n",
      "y_mean 4.716416741055383\n",
      "mean_mean 5.118906154386269\n",
      "abs(round((mean_mean-y_mean)/y_mean)) 0.0\n"
     ]
    },
    {
     "name": "stderr",
     "output_type": "stream",
     "text": [
      "\r",
      " 10%|█         | 37/360 [00:32<04:12,  1.28it/s]"
     ]
    },
    {
     "name": "stdout",
     "output_type": "stream",
     "text": [
      "2\n",
      "y_mean 4.716416741055383\n",
      "mean_mean 4.644820212301475\n",
      "abs(round((mean_mean-y_mean)/y_mean)) 0.0\n",
      "1\n",
      "y_mean 7.463819716021133\n",
      "mean_mean 7.463172002886833\n",
      "abs(round((mean_mean-y_mean)/y_mean)) 0.0\n"
     ]
    },
    {
     "name": "stderr",
     "output_type": "stream",
     "text": [
      "\r",
      " 11%|█         | 38/360 [00:32<04:02,  1.33it/s]"
     ]
    },
    {
     "name": "stdout",
     "output_type": "stream",
     "text": [
      "2\n",
      "y_mean 7.463819716021133\n",
      "mean_mean 7.461583848608729\n",
      "abs(round((mean_mean-y_mean)/y_mean)) 0.0\n",
      "1\n",
      "y_mean 5.659920316005122\n",
      "mean_mean 5.613322713299518\n",
      "abs(round((mean_mean-y_mean)/y_mean)) 0.0\n"
     ]
    },
    {
     "name": "stderr",
     "output_type": "stream",
     "text": [
      "\r",
      " 11%|█         | 39/360 [00:33<03:48,  1.40it/s]"
     ]
    },
    {
     "name": "stdout",
     "output_type": "stream",
     "text": [
      "2\n",
      "y_mean 5.659920316005122\n",
      "mean_mean 5.613432795738975\n",
      "abs(round((mean_mean-y_mean)/y_mean)) 0.0\n",
      "1\n",
      "y_mean 7.749841595406419\n",
      "mean_mean 7.74947164472115\n",
      "abs(round((mean_mean-y_mean)/y_mean)) 0.0\n"
     ]
    },
    {
     "name": "stderr",
     "output_type": "stream",
     "text": [
      "\r",
      " 11%|█         | 40/360 [00:33<03:38,  1.46it/s]"
     ]
    },
    {
     "name": "stdout",
     "output_type": "stream",
     "text": [
      "2\n",
      "y_mean 7.749841595406419\n",
      "mean_mean 7.749158601995244\n",
      "abs(round((mean_mean-y_mean)/y_mean)) 0.0\n",
      "1\n",
      "y_mean 7.195511026996635\n",
      "mean_mean 7.628459083413287\n",
      "abs(round((mean_mean-y_mean)/y_mean)) 0.0\n"
     ]
    },
    {
     "name": "stderr",
     "output_type": "stream",
     "text": [
      "\r",
      " 11%|█▏        | 41/360 [00:34<03:35,  1.48it/s]"
     ]
    },
    {
     "name": "stdout",
     "output_type": "stream",
     "text": [
      "2\n",
      "y_mean 7.195511026996635\n",
      "mean_mean 7.159003398119794\n",
      "abs(round((mean_mean-y_mean)/y_mean)) 0.0\n",
      "1\n",
      "y_mean 8.008174349742529\n",
      "mean_mean 8.050042940638432\n",
      "abs(round((mean_mean-y_mean)/y_mean)) 0.0\n"
     ]
    },
    {
     "name": "stderr",
     "output_type": "stream",
     "text": [
      "\r",
      " 12%|█▏        | 42/360 [00:35<03:50,  1.38it/s]"
     ]
    },
    {
     "name": "stdout",
     "output_type": "stream",
     "text": [
      "2\n",
      "y_mean 8.008174349742529\n",
      "mean_mean 8.007331929309858\n",
      "abs(round((mean_mean-y_mean)/y_mean)) 0.0\n",
      "1\n",
      "y_mean 5.601078472006148\n",
      "mean_mean 5.709721110633593\n",
      "abs(round((mean_mean-y_mean)/y_mean)) 0.0\n"
     ]
    },
    {
     "name": "stderr",
     "output_type": "stream",
     "text": [
      "\r",
      " 12%|█▏        | 43/360 [00:36<03:37,  1.46it/s]"
     ]
    },
    {
     "name": "stdout",
     "output_type": "stream",
     "text": [
      "2\n",
      "y_mean 5.601078472006148\n",
      "mean_mean 5.556950373587618\n",
      "abs(round((mean_mean-y_mean)/y_mean)) 0.0\n",
      "1\n",
      "y_mean 7.406781092742808\n",
      "mean_mean 7.405870725346649\n",
      "abs(round((mean_mean-y_mean)/y_mean)) 0.0\n"
     ]
    },
    {
     "name": "stderr",
     "output_type": "stream",
     "text": [
      "\r",
      " 12%|█▏        | 44/360 [00:36<03:36,  1.46it/s]"
     ]
    },
    {
     "name": "stdout",
     "output_type": "stream",
     "text": [
      "2\n",
      "y_mean 7.406781092742808\n",
      "mean_mean 7.405405519131494\n",
      "abs(round((mean_mean-y_mean)/y_mean)) 0.0\n",
      "1\n",
      "y_mean 6.50550693984619\n",
      "mean_mean 6.488793203300637\n",
      "abs(round((mean_mean-y_mean)/y_mean)) 0.0\n"
     ]
    },
    {
     "name": "stderr",
     "output_type": "stream",
     "text": [
      "\r",
      " 12%|█▎        | 45/360 [00:37<03:34,  1.47it/s]"
     ]
    },
    {
     "name": "stdout",
     "output_type": "stream",
     "text": [
      "2\n",
      "y_mean 6.50550693984619\n",
      "mean_mean 6.475988314331574\n",
      "abs(round((mean_mean-y_mean)/y_mean)) 0.0\n",
      "1\n",
      "y_mean 8.47569196867574\n",
      "mean_mean 8.474048256112836\n",
      "abs(round((mean_mean-y_mean)/y_mean)) 0.0\n"
     ]
    },
    {
     "name": "stderr",
     "output_type": "stream",
     "text": [
      "\r",
      " 13%|█▎        | 46/360 [00:38<03:29,  1.50it/s]"
     ]
    },
    {
     "name": "stdout",
     "output_type": "stream",
     "text": [
      "2\n",
      "y_mean 8.47569196867574\n",
      "mean_mean 8.474047355703169\n",
      "abs(round((mean_mean-y_mean)/y_mean)) 0.0\n",
      "1\n",
      "y_mean 7.535755836492064\n",
      "mean_mean 7.522172562261269\n",
      "abs(round((mean_mean-y_mean)/y_mean)) 0.0\n"
     ]
    },
    {
     "name": "stderr",
     "output_type": "stream",
     "text": [
      "\r",
      " 13%|█▎        | 47/360 [00:38<03:25,  1.52it/s]"
     ]
    },
    {
     "name": "stdout",
     "output_type": "stream",
     "text": [
      "2\n",
      "y_mean 7.535755836492064\n",
      "mean_mean 7.522155791140891\n",
      "abs(round((mean_mean-y_mean)/y_mean)) 0.0\n",
      "1\n",
      "y_mean 8.555499709694539\n",
      "mean_mean 8.554682653269843\n",
      "abs(round((mean_mean-y_mean)/y_mean)) 0.0\n"
     ]
    },
    {
     "name": "stderr",
     "output_type": "stream",
     "text": [
      "\r",
      " 13%|█▎        | 48/360 [00:39<03:23,  1.53it/s]"
     ]
    },
    {
     "name": "stdout",
     "output_type": "stream",
     "text": [
      "2\n",
      "y_mean 8.555499709694539\n",
      "mean_mean 8.55468337423343\n",
      "abs(round((mean_mean-y_mean)/y_mean)) 0.0\n",
      "1\n",
      "y_mean 5.661712732337445\n",
      "mean_mean 6.19524611016947\n",
      "abs(round((mean_mean-y_mean)/y_mean)) 0.0\n"
     ]
    },
    {
     "name": "stderr",
     "output_type": "stream",
     "text": [
      "\r",
      " 14%|█▎        | 49/360 [00:39<03:14,  1.60it/s]"
     ]
    },
    {
     "name": "stdout",
     "output_type": "stream",
     "text": [
      "2\n",
      "y_mean 5.661712732337445\n",
      "mean_mean 5.5930593262397394\n",
      "abs(round((mean_mean-y_mean)/y_mean)) 0.0\n",
      "1\n",
      "y_mean 8.146526935035677\n",
      "mean_mean 8.146171602058951\n",
      "abs(round((mean_mean-y_mean)/y_mean)) 0.0\n"
     ]
    },
    {
     "name": "stderr",
     "output_type": "stream",
     "text": [
      "\r",
      " 14%|█▍        | 50/360 [00:40<03:15,  1.59it/s]"
     ]
    },
    {
     "name": "stdout",
     "output_type": "stream",
     "text": [
      "2\n",
      "y_mean 8.146526935035677\n",
      "mean_mean 8.144545762546658\n",
      "abs(round((mean_mean-y_mean)/y_mean)) 0.0\n",
      "1\n",
      "y_mean 5.7095827257535205\n",
      "mean_mean 6.1852856199287745\n",
      "abs(round((mean_mean-y_mean)/y_mean)) 0.0\n"
     ]
    },
    {
     "name": "stderr",
     "output_type": "stream",
     "text": [
      "\r",
      " 14%|█▍        | 51/360 [00:41<03:16,  1.58it/s]"
     ]
    },
    {
     "name": "stdout",
     "output_type": "stream",
     "text": [
      "2\n",
      "y_mean 5.7095827257535205\n",
      "mean_mean 5.646339060359009\n",
      "abs(round((mean_mean-y_mean)/y_mean)) 0.0\n",
      "1\n",
      "y_mean 7.773040152849699\n",
      "mean_mean 7.772684919037828\n",
      "abs(round((mean_mean-y_mean)/y_mean)) 0.0\n"
     ]
    },
    {
     "name": "stderr",
     "output_type": "stream",
     "text": [
      "\r",
      " 14%|█▍        | 52/360 [00:41<03:21,  1.53it/s]"
     ]
    },
    {
     "name": "stdout",
     "output_type": "stream",
     "text": [
      "2\n",
      "y_mean 7.773040152849699\n",
      "mean_mean 7.771527918647498\n",
      "abs(round((mean_mean-y_mean)/y_mean)) 0.0\n",
      "1\n",
      "y_mean 7.344270245585907\n",
      "mean_mean 7.5669706547916675\n",
      "abs(round((mean_mean-y_mean)/y_mean)) 0.0\n"
     ]
    },
    {
     "name": "stderr",
     "output_type": "stream",
     "text": [
      "\r",
      " 15%|█▍        | 53/360 [00:42<03:21,  1.52it/s]"
     ]
    },
    {
     "name": "stdout",
     "output_type": "stream",
     "text": [
      "2\n",
      "y_mean 7.344270245585907\n",
      "mean_mean 7.331077705981244\n",
      "abs(round((mean_mean-y_mean)/y_mean)) 0.0\n",
      "Cholesky decomposition was not successful.\n",
      "Cholesky decomposition was not successful.\n",
      "1\n",
      "y_mean 8.284071338657952\n",
      "mean_mean 8.283105727231442\n",
      "abs(round((mean_mean-y_mean)/y_mean)) 0.0\n",
      "1\n",
      "y_mean 8.284071338657952\n",
      "mean_mean 8.283105727231442\n",
      "abs(round((mean_mean-y_mean)/y_mean)) 0.0\n",
      "1\n",
      "y_mean 8.284071338657952\n",
      "mean_mean 8.283105727231442\n",
      "abs(round((mean_mean-y_mean)/y_mean)) 0.0\n"
     ]
    },
    {
     "name": "stderr",
     "output_type": "stream",
     "text": [
      "\r",
      " 15%|█▌        | 54/360 [00:43<04:23,  1.16it/s]"
     ]
    },
    {
     "name": "stdout",
     "output_type": "stream",
     "text": [
      "2\n",
      "y_mean 8.284071338657952\n",
      "mean_mean 8.283105740527988\n",
      "abs(round((mean_mean-y_mean)/y_mean)) 0.0\n",
      "1\n",
      "y_mean 4.355405765262453\n",
      "mean_mean 4.287017126432434\n",
      "abs(round((mean_mean-y_mean)/y_mean)) 0.0\n"
     ]
    },
    {
     "name": "stderr",
     "output_type": "stream",
     "text": [
      "\r",
      " 15%|█▌        | 55/360 [00:44<04:09,  1.22it/s]"
     ]
    },
    {
     "name": "stdout",
     "output_type": "stream",
     "text": [
      "2\n",
      "y_mean 4.355405765262453\n",
      "mean_mean 4.2717830279636955\n",
      "abs(round((mean_mean-y_mean)/y_mean)) 0.0\n",
      "1\n",
      "y_mean 7.552027495302492\n",
      "mean_mean 7.547453291020485\n",
      "abs(round((mean_mean-y_mean)/y_mean)) 0.0\n"
     ]
    },
    {
     "name": "stderr",
     "output_type": "stream",
     "text": [
      "\r",
      " 16%|█▌        | 56/360 [00:45<04:08,  1.23it/s]"
     ]
    },
    {
     "name": "stdout",
     "output_type": "stream",
     "text": [
      "2\n",
      "y_mean 7.552027495302492\n",
      "mean_mean 7.547449226294094\n",
      "abs(round((mean_mean-y_mean)/y_mean)) 0.0\n",
      "1\n",
      "y_mean 5.855255725272131\n",
      "mean_mean 5.724650923033518\n",
      "abs(round((mean_mean-y_mean)/y_mean)) 0.0\n"
     ]
    },
    {
     "name": "stderr",
     "output_type": "stream",
     "text": [
      "\r",
      " 16%|█▌        | 57/360 [00:46<04:06,  1.23it/s]"
     ]
    },
    {
     "name": "stdout",
     "output_type": "stream",
     "text": [
      "2\n",
      "y_mean 5.855255725272131\n",
      "mean_mean 5.830002073629824\n",
      "abs(round((mean_mean-y_mean)/y_mean)) 0.0\n",
      "1\n",
      "y_mean 7.4255210615458465\n",
      "mean_mean 7.422541938843808\n",
      "abs(round((mean_mean-y_mean)/y_mean)) 0.0\n"
     ]
    },
    {
     "name": "stderr",
     "output_type": "stream",
     "text": [
      "\r",
      " 16%|█▌        | 58/360 [00:46<03:57,  1.27it/s]"
     ]
    },
    {
     "name": "stdout",
     "output_type": "stream",
     "text": [
      "2\n",
      "y_mean 7.4255210615458465\n",
      "mean_mean 7.422541760337834\n",
      "abs(round((mean_mean-y_mean)/y_mean)) 0.0\n",
      "1\n",
      "y_mean 7.269601273533599\n",
      "mean_mean 7.262337816696374\n",
      "abs(round((mean_mean-y_mean)/y_mean)) 0.0\n"
     ]
    },
    {
     "name": "stderr",
     "output_type": "stream",
     "text": [
      "\r",
      " 16%|█▋        | 59/360 [00:47<03:50,  1.31it/s]"
     ]
    },
    {
     "name": "stdout",
     "output_type": "stream",
     "text": [
      "2\n",
      "y_mean 7.269601273533599\n",
      "mean_mean 7.242836547502984\n",
      "abs(round((mean_mean-y_mean)/y_mean)) 0.0\n",
      "1\n",
      "y_mean 8.296703029693713\n",
      "mean_mean 8.295761431287533\n",
      "abs(round((mean_mean-y_mean)/y_mean)) 0.0\n"
     ]
    },
    {
     "name": "stderr",
     "output_type": "stream",
     "text": [
      "\r",
      " 17%|█▋        | 60/360 [00:48<03:45,  1.33it/s]"
     ]
    },
    {
     "name": "stdout",
     "output_type": "stream",
     "text": [
      "2\n",
      "y_mean 8.296703029693713\n",
      "mean_mean 8.29576192750083\n",
      "abs(round((mean_mean-y_mean)/y_mean)) 0.0\n",
      "1\n",
      "y_mean 6.638909125189709\n",
      "mean_mean 6.45888570650279\n",
      "abs(round((mean_mean-y_mean)/y_mean)) 0.0\n"
     ]
    },
    {
     "name": "stderr",
     "output_type": "stream",
     "text": [
      "\r",
      " 17%|█▋        | 61/360 [00:49<03:50,  1.30it/s]"
     ]
    },
    {
     "name": "stdout",
     "output_type": "stream",
     "text": [
      "2\n",
      "y_mean 6.638909125189709\n",
      "mean_mean 6.584837073107588\n",
      "abs(round((mean_mean-y_mean)/y_mean)) 0.0\n",
      "1\n",
      "y_mean 8.954862931209233\n",
      "mean_mean 8.954741973788805\n",
      "abs(round((mean_mean-y_mean)/y_mean)) 0.0\n"
     ]
    },
    {
     "name": "stderr",
     "output_type": "stream",
     "text": [
      "\r",
      " 17%|█▋        | 62/360 [00:49<03:35,  1.38it/s]"
     ]
    },
    {
     "name": "stdout",
     "output_type": "stream",
     "text": [
      "2\n",
      "y_mean 8.954862931209233\n",
      "mean_mean 8.952769780066975\n",
      "abs(round((mean_mean-y_mean)/y_mean)) 0.0\n",
      "1\n",
      "y_mean 6.603724666713609\n",
      "mean_mean 6.524262528939196\n",
      "abs(round((mean_mean-y_mean)/y_mean)) 0.0\n"
     ]
    },
    {
     "name": "stderr",
     "output_type": "stream",
     "text": [
      "\r",
      " 18%|█▊        | 63/360 [00:50<03:26,  1.44it/s]"
     ]
    },
    {
     "name": "stdout",
     "output_type": "stream",
     "text": [
      "2\n",
      "y_mean 6.603724666713609\n",
      "mean_mean 6.568115408679634\n",
      "abs(round((mean_mean-y_mean)/y_mean)) 0.0\n",
      "1\n",
      "y_mean 8.35576481046381\n",
      "mean_mean 8.355390994190492\n",
      "abs(round((mean_mean-y_mean)/y_mean)) 0.0\n"
     ]
    },
    {
     "name": "stderr",
     "output_type": "stream",
     "text": [
      "\r",
      " 18%|█▊        | 64/360 [00:51<03:21,  1.47it/s]"
     ]
    },
    {
     "name": "stdout",
     "output_type": "stream",
     "text": [
      "2\n",
      "y_mean 8.35576481046381\n",
      "mean_mean 8.353702140231931\n",
      "abs(round((mean_mean-y_mean)/y_mean)) 0.0\n",
      "1\n",
      "y_mean 7.953786806486406\n",
      "mean_mean 7.957372926673018\n",
      "abs(round((mean_mean-y_mean)/y_mean)) 0.0\n"
     ]
    },
    {
     "name": "stderr",
     "output_type": "stream",
     "text": [
      "\r",
      " 18%|█▊        | 65/360 [00:51<03:15,  1.51it/s]"
     ]
    },
    {
     "name": "stdout",
     "output_type": "stream",
     "text": [
      "2\n",
      "y_mean 7.953786806486406\n",
      "mean_mean 7.9413186617506195\n",
      "abs(round((mean_mean-y_mean)/y_mean)) 0.0\n",
      "1\n",
      "y_mean 8.991282023336833\n",
      "mean_mean 8.990956452378724\n",
      "abs(round((mean_mean-y_mean)/y_mean)) 0.0\n"
     ]
    },
    {
     "name": "stderr",
     "output_type": "stream",
     "text": [
      "\r",
      " 18%|█▊        | 66/360 [00:52<03:13,  1.52it/s]"
     ]
    },
    {
     "name": "stdout",
     "output_type": "stream",
     "text": [
      "2\n",
      "y_mean 8.991282023336833\n",
      "mean_mean 8.990252161784921\n",
      "abs(round((mean_mean-y_mean)/y_mean)) 0.0\n",
      "1\n",
      "y_mean 5.891663684188272\n",
      "mean_mean 5.724584736613927\n",
      "abs(round((mean_mean-y_mean)/y_mean)) 0.0\n"
     ]
    },
    {
     "name": "stderr",
     "output_type": "stream",
     "text": [
      "\r",
      " 19%|█▊        | 67/360 [00:52<03:08,  1.55it/s]"
     ]
    },
    {
     "name": "stdout",
     "output_type": "stream",
     "text": [
      "2\n",
      "y_mean 5.891663684188272\n",
      "mean_mean 5.857187309788154\n",
      "abs(round((mean_mean-y_mean)/y_mean)) 0.0\n",
      "1\n",
      "y_mean 7.832538204579966\n",
      "mean_mean 7.831584838723265\n",
      "abs(round((mean_mean-y_mean)/y_mean)) 0.0\n"
     ]
    },
    {
     "name": "stderr",
     "output_type": "stream",
     "text": [
      "\r",
      " 19%|█▉        | 68/360 [00:53<03:17,  1.48it/s]"
     ]
    },
    {
     "name": "stdout",
     "output_type": "stream",
     "text": [
      "2\n",
      "y_mean 7.832538204579966\n",
      "mean_mean 7.831584806637193\n",
      "abs(round((mean_mean-y_mean)/y_mean)) 0.0\n",
      "1\n",
      "y_mean 5.788842710146347\n",
      "mean_mean 5.782774092709855\n",
      "abs(round((mean_mean-y_mean)/y_mean)) 0.0\n"
     ]
    },
    {
     "name": "stderr",
     "output_type": "stream",
     "text": [
      "\r",
      " 19%|█▉        | 69/360 [00:54<03:15,  1.48it/s]"
     ]
    },
    {
     "name": "stdout",
     "output_type": "stream",
     "text": [
      "2\n",
      "y_mean 5.788842710146347\n",
      "mean_mean 5.763274504163466\n",
      "abs(round((mean_mean-y_mean)/y_mean)) 0.0\n",
      "1\n",
      "y_mean 7.505412501190729\n",
      "mean_mean 7.504674686911995\n",
      "abs(round((mean_mean-y_mean)/y_mean)) 0.0\n"
     ]
    },
    {
     "name": "stderr",
     "output_type": "stream",
     "text": [
      "\r",
      " 19%|█▉        | 70/360 [00:55<03:13,  1.50it/s]"
     ]
    },
    {
     "name": "stdout",
     "output_type": "stream",
     "text": [
      "2\n",
      "y_mean 7.505412501190729\n",
      "mean_mean 7.504674670770264\n",
      "abs(round((mean_mean-y_mean)/y_mean)) 0.0\n",
      "1\n",
      "y_mean 7.107378400899934\n",
      "mean_mean 7.1948214210289985\n",
      "abs(round((mean_mean-y_mean)/y_mean)) 0.0\n"
     ]
    },
    {
     "name": "stderr",
     "output_type": "stream",
     "text": [
      "\r",
      " 20%|█▉        | 71/360 [00:55<03:10,  1.51it/s]"
     ]
    },
    {
     "name": "stdout",
     "output_type": "stream",
     "text": [
      "2\n",
      "y_mean 7.107378400899934\n",
      "mean_mean 7.100691632421318\n",
      "abs(round((mean_mean-y_mean)/y_mean)) 0.0\n",
      "1\n",
      "y_mean 7.769033271844297\n",
      "mean_mean 7.768150674249133\n",
      "abs(round((mean_mean-y_mean)/y_mean)) 0.0\n"
     ]
    },
    {
     "name": "stderr",
     "output_type": "stream",
     "text": [
      "\r",
      " 20%|██        | 72/360 [00:56<03:10,  1.51it/s]"
     ]
    },
    {
     "name": "stdout",
     "output_type": "stream",
     "text": [
      "2\n",
      "y_mean 7.769033271844297\n",
      "mean_mean 7.768150639062364\n",
      "abs(round((mean_mean-y_mean)/y_mean)) 0.0\n",
      "1\n",
      "y_mean 4.162155015484986\n",
      "mean_mean 4.323636721686401\n",
      "abs(round((mean_mean-y_mean)/y_mean)) 0.0\n"
     ]
    },
    {
     "name": "stderr",
     "output_type": "stream",
     "text": [
      "\r",
      " 20%|██        | 73/360 [00:56<03:05,  1.55it/s]"
     ]
    },
    {
     "name": "stdout",
     "output_type": "stream",
     "text": [
      "2\n",
      "y_mean 4.162155015484986\n",
      "mean_mean 4.083743377307309\n",
      "abs(round((mean_mean-y_mean)/y_mean)) 0.0\n",
      "1\n",
      "y_mean 6.178088549416858\n",
      "mean_mean 6.174956128068346\n",
      "abs(round((mean_mean-y_mean)/y_mean)) 0.0\n"
     ]
    },
    {
     "name": "stderr",
     "output_type": "stream",
     "text": [
      "\r",
      " 21%|██        | 74/360 [00:57<03:05,  1.54it/s]"
     ]
    },
    {
     "name": "stdout",
     "output_type": "stream",
     "text": [
      "2\n",
      "y_mean 6.178088549416858\n",
      "mean_mean 6.174959199891814\n",
      "abs(round((mean_mean-y_mean)/y_mean)) 0.0\n",
      "1\n",
      "y_mean 5.332057319527231\n",
      "mean_mean 5.128242867909445\n",
      "abs(round((mean_mean-y_mean)/y_mean)) 0.0\n"
     ]
    },
    {
     "name": "stderr",
     "output_type": "stream",
     "text": [
      "\r",
      " 21%|██        | 75/360 [00:58<03:05,  1.54it/s]"
     ]
    },
    {
     "name": "stdout",
     "output_type": "stream",
     "text": [
      "2\n",
      "y_mean 5.332057319527231\n",
      "mean_mean 5.314363970662546\n",
      "abs(round((mean_mean-y_mean)/y_mean)) 0.0\n",
      "1\n",
      "y_mean 6.917852682285549\n",
      "mean_mean 6.916723699993195\n",
      "abs(round((mean_mean-y_mean)/y_mean)) 0.0\n"
     ]
    },
    {
     "name": "stderr",
     "output_type": "stream",
     "text": [
      "\r",
      " 21%|██        | 76/360 [00:58<03:01,  1.56it/s]"
     ]
    },
    {
     "name": "stdout",
     "output_type": "stream",
     "text": [
      "2\n",
      "y_mean 6.917852682285549\n",
      "mean_mean 6.916717217191884\n",
      "abs(round((mean_mean-y_mean)/y_mean)) 0.0\n",
      "1\n",
      "y_mean 5.92364438112338\n",
      "mean_mean 5.926558931959493\n",
      "abs(round((mean_mean-y_mean)/y_mean)) 0.0\n"
     ]
    },
    {
     "name": "stderr",
     "output_type": "stream",
     "text": [
      "\r",
      " 21%|██▏       | 77/360 [00:59<03:00,  1.57it/s]"
     ]
    },
    {
     "name": "stdout",
     "output_type": "stream",
     "text": [
      "2\n",
      "y_mean 5.92364438112338\n",
      "mean_mean 5.918284722608604\n",
      "abs(round((mean_mean-y_mean)/y_mean)) 0.0\n",
      "1\n",
      "y_mean 6.862071530900493\n",
      "mean_mean 6.861214712871254\n",
      "abs(round((mean_mean-y_mean)/y_mean)) 0.0\n"
     ]
    },
    {
     "name": "stderr",
     "output_type": "stream",
     "text": [
      "\r",
      " 22%|██▏       | 78/360 [01:00<03:02,  1.55it/s]"
     ]
    },
    {
     "name": "stdout",
     "output_type": "stream",
     "text": [
      "2\n",
      "y_mean 6.862071530900493\n",
      "mean_mean 6.861214660602214\n",
      "abs(round((mean_mean-y_mean)/y_mean)) 0.0\n",
      "1\n",
      "y_mean 4.952194659895949\n",
      "mean_mean 4.929478760956298\n",
      "abs(round((mean_mean-y_mean)/y_mean)) 0.0\n"
     ]
    },
    {
     "name": "stderr",
     "output_type": "stream",
     "text": [
      "\r",
      " 22%|██▏       | 79/360 [01:00<02:57,  1.58it/s]"
     ]
    },
    {
     "name": "stdout",
     "output_type": "stream",
     "text": [
      "2\n",
      "y_mean 4.952194659895949\n",
      "mean_mean 4.917573141678881\n",
      "abs(round((mean_mean-y_mean)/y_mean)) 0.0\n",
      "1\n",
      "y_mean 6.391992496063572\n",
      "mean_mean 6.389687065882333\n",
      "abs(round((mean_mean-y_mean)/y_mean)) 0.0\n"
     ]
    },
    {
     "name": "stderr",
     "output_type": "stream",
     "text": [
      "\r",
      " 22%|██▏       | 80/360 [01:01<02:58,  1.57it/s]"
     ]
    },
    {
     "name": "stdout",
     "output_type": "stream",
     "text": [
      "2\n",
      "y_mean 6.391992496063572\n",
      "mean_mean 6.389687065505956\n",
      "abs(round((mean_mean-y_mean)/y_mean)) 0.0\n",
      "1\n",
      "y_mean 6.09536059132363\n",
      "mean_mean 5.930211067915255\n",
      "abs(round((mean_mean-y_mean)/y_mean)) 0.0\n"
     ]
    },
    {
     "name": "stderr",
     "output_type": "stream",
     "text": [
      "\r",
      " 22%|██▎       | 81/360 [01:02<02:57,  1.57it/s]"
     ]
    },
    {
     "name": "stdout",
     "output_type": "stream",
     "text": [
      "2\n",
      "y_mean 6.09536059132363\n",
      "mean_mean 6.073595250392516\n",
      "abs(round((mean_mean-y_mean)/y_mean)) 0.0\n",
      "1\n",
      "y_mean 8.328902442632634\n",
      "mean_mean 8.325883412354372\n",
      "abs(round((mean_mean-y_mean)/y_mean)) 0.0\n"
     ]
    },
    {
     "name": "stderr",
     "output_type": "stream",
     "text": [
      "\r",
      " 23%|██▎       | 82/360 [01:02<02:58,  1.56it/s]"
     ]
    },
    {
     "name": "stdout",
     "output_type": "stream",
     "text": [
      "2\n",
      "y_mean 8.328902442632634\n",
      "mean_mean 8.325881511636412\n",
      "abs(round((mean_mean-y_mean)/y_mean)) 0.0\n",
      "1\n",
      "y_mean 7.246205287212949\n",
      "mean_mean 7.001146195622875\n",
      "abs(round((mean_mean-y_mean)/y_mean)) 0.0\n"
     ]
    },
    {
     "name": "stderr",
     "output_type": "stream",
     "text": [
      "\r",
      " 23%|██▎       | 83/360 [01:03<02:56,  1.57it/s]"
     ]
    },
    {
     "name": "stdout",
     "output_type": "stream",
     "text": [
      "2\n",
      "y_mean 7.246205287212949\n",
      "mean_mean 7.219689766414345\n",
      "abs(round((mean_mean-y_mean)/y_mean)) 0.0\n",
      "1\n",
      "y_mean 8.831580735272654\n",
      "mean_mean 8.830015643663636\n",
      "abs(round((mean_mean-y_mean)/y_mean)) 0.0\n"
     ]
    },
    {
     "name": "stderr",
     "output_type": "stream",
     "text": [
      "\r",
      " 23%|██▎       | 84/360 [01:04<03:09,  1.45it/s]"
     ]
    },
    {
     "name": "stdout",
     "output_type": "stream",
     "text": [
      "2\n",
      "y_mean 8.831580735272654\n",
      "mean_mean 8.83001564281107\n",
      "abs(round((mean_mean-y_mean)/y_mean)) 0.0\n",
      "1\n",
      "y_mean 4.5812490849652034\n",
      "mean_mean 4.497853904518268\n",
      "abs(round((mean_mean-y_mean)/y_mean)) 0.0\n"
     ]
    },
    {
     "name": "stderr",
     "output_type": "stream",
     "text": [
      "\r",
      " 24%|██▎       | 85/360 [01:04<03:06,  1.48it/s]"
     ]
    },
    {
     "name": "stdout",
     "output_type": "stream",
     "text": [
      "2\n",
      "y_mean 4.5812490849652034\n",
      "mean_mean 4.497133156946418\n",
      "abs(round((mean_mean-y_mean)/y_mean)) 0.0\n",
      "1\n",
      "y_mean 8.214572875781975\n",
      "mean_mean 8.212289483419013\n",
      "abs(round((mean_mean-y_mean)/y_mean)) 0.0\n"
     ]
    },
    {
     "name": "stderr",
     "output_type": "stream",
     "text": [
      "\r",
      " 24%|██▍       | 86/360 [01:05<03:12,  1.42it/s]"
     ]
    },
    {
     "name": "stdout",
     "output_type": "stream",
     "text": [
      "2\n",
      "y_mean 8.214572875781975\n",
      "mean_mean 8.21229015378648\n",
      "abs(round((mean_mean-y_mean)/y_mean)) 0.0\n",
      "1\n",
      "y_mean 4.836986914267663\n",
      "mean_mean 4.7795210868030695\n",
      "abs(round((mean_mean-y_mean)/y_mean)) 0.0\n"
     ]
    },
    {
     "name": "stderr",
     "output_type": "stream",
     "text": [
      "\r",
      " 24%|██▍       | 87/360 [01:06<03:16,  1.39it/s]"
     ]
    },
    {
     "name": "stdout",
     "output_type": "stream",
     "text": [
      "2\n",
      "y_mean 4.836986914267663\n",
      "mean_mean 4.77945487967867\n",
      "abs(round((mean_mean-y_mean)/y_mean)) 0.0\n",
      "1\n",
      "y_mean 7.71768085684618\n",
      "mean_mean 7.7157424326393595\n",
      "abs(round((mean_mean-y_mean)/y_mean)) 0.0\n"
     ]
    },
    {
     "name": "stderr",
     "output_type": "stream",
     "text": [
      "\r",
      " 24%|██▍       | 88/360 [01:07<03:27,  1.31it/s]"
     ]
    },
    {
     "name": "stdout",
     "output_type": "stream",
     "text": [
      "2\n",
      "y_mean 7.71768085684618\n",
      "mean_mean 7.715741204857806\n",
      "abs(round((mean_mean-y_mean)/y_mean)) 0.0\n",
      "Cholesky decomposition was not successful.\n",
      "1\n",
      "y_mean 7.367011361576179\n",
      "mean_mean 7.36340012629071\n",
      "abs(round((mean_mean-y_mean)/y_mean)) 0.0\n",
      "1\n",
      "y_mean 7.367011361576179\n",
      "mean_mean 7.36340012629071\n",
      "abs(round((mean_mean-y_mean)/y_mean)) 0.0\n"
     ]
    },
    {
     "name": "stderr",
     "output_type": "stream",
     "text": [
      "\r",
      " 25%|██▍       | 89/360 [01:08<04:13,  1.07it/s]"
     ]
    },
    {
     "name": "stdout",
     "output_type": "stream",
     "text": [
      "2\n",
      "y_mean 7.367011361576179\n",
      "mean_mean 7.363400046203883\n",
      "abs(round((mean_mean-y_mean)/y_mean)) 0.0\n",
      "1\n",
      "y_mean 8.373283802599792\n",
      "mean_mean 8.372870824990477\n",
      "abs(round((mean_mean-y_mean)/y_mean)) 0.0\n"
     ]
    },
    {
     "name": "stderr",
     "output_type": "stream",
     "text": [
      "\r",
      " 25%|██▌       | 90/360 [01:09<03:55,  1.15it/s]"
     ]
    },
    {
     "name": "stdout",
     "output_type": "stream",
     "text": [
      "2\n",
      "y_mean 8.373283802599792\n",
      "mean_mean 8.372534508998665\n",
      "abs(round((mean_mean-y_mean)/y_mean)) 0.0\n",
      "1\n",
      "y_mean 5.536342957782197\n",
      "mean_mean 5.486274075616473\n",
      "abs(round((mean_mean-y_mean)/y_mean)) 0.0\n"
     ]
    },
    {
     "name": "stderr",
     "output_type": "stream",
     "text": [
      "\r",
      " 25%|██▌       | 91/360 [01:09<03:34,  1.26it/s]"
     ]
    },
    {
     "name": "stdout",
     "output_type": "stream",
     "text": [
      "2\n",
      "y_mean 5.536342957782197\n",
      "mean_mean 5.472926385257932\n",
      "abs(round((mean_mean-y_mean)/y_mean)) 0.0\n",
      "1\n",
      "y_mean 7.467648666981535\n",
      "mean_mean 7.464894600461165\n",
      "abs(round((mean_mean-y_mean)/y_mean)) 0.0\n"
     ]
    },
    {
     "name": "stderr",
     "output_type": "stream",
     "text": [
      "\r",
      " 26%|██▌       | 92/360 [01:10<03:17,  1.36it/s]"
     ]
    },
    {
     "name": "stdout",
     "output_type": "stream",
     "text": [
      "2\n",
      "y_mean 7.467648666981535\n",
      "mean_mean 7.464894711323926\n",
      "abs(round((mean_mean-y_mean)/y_mean)) 0.0\n",
      "1\n",
      "y_mean 6.113568477802495\n",
      "mean_mean 6.174232720042624\n",
      "abs(round((mean_mean-y_mean)/y_mean)) 0.0\n"
     ]
    },
    {
     "name": "stderr",
     "output_type": "stream",
     "text": [
      "\r",
      " 26%|██▌       | 93/360 [01:11<03:11,  1.39it/s]"
     ]
    },
    {
     "name": "stdout",
     "output_type": "stream",
     "text": [
      "2\n",
      "y_mean 6.113568477802495\n",
      "mean_mean 6.0826217706837635\n",
      "abs(round((mean_mean-y_mean)/y_mean)) 0.0\n",
      "1\n",
      "y_mean 7.477799640590204\n",
      "mean_mean 7.476142226156155\n",
      "abs(round((mean_mean-y_mean)/y_mean)) 0.0\n"
     ]
    },
    {
     "name": "stderr",
     "output_type": "stream",
     "text": [
      "\r",
      " 26%|██▌       | 94/360 [01:11<03:09,  1.40it/s]"
     ]
    },
    {
     "name": "stdout",
     "output_type": "stream",
     "text": [
      "2\n",
      "y_mean 7.477799640590204\n",
      "mean_mean 7.476142599336709\n",
      "abs(round((mean_mean-y_mean)/y_mean)) 0.0\n",
      "1\n",
      "y_mean 6.492138713740675\n",
      "mean_mean 6.382581393938511\n",
      "abs(round((mean_mean-y_mean)/y_mean)) 0.0\n"
     ]
    },
    {
     "name": "stderr",
     "output_type": "stream",
     "text": [
      "\r",
      " 26%|██▋       | 95/360 [01:12<03:15,  1.36it/s]"
     ]
    },
    {
     "name": "stdout",
     "output_type": "stream",
     "text": [
      "2\n",
      "y_mean 6.492138713740675\n",
      "mean_mean 6.468277681394943\n",
      "abs(round((mean_mean-y_mean)/y_mean)) 0.0\n",
      "1\n",
      "y_mean 8.021207415603548\n",
      "mean_mean 8.02041332077479\n",
      "abs(round((mean_mean-y_mean)/y_mean)) 0.0\n"
     ]
    },
    {
     "name": "stderr",
     "output_type": "stream",
     "text": [
      "\r",
      " 27%|██▋       | 96/360 [01:13<03:27,  1.27it/s]"
     ]
    },
    {
     "name": "stdout",
     "output_type": "stream",
     "text": [
      "2\n",
      "y_mean 8.021207415603548\n",
      "mean_mean 8.020413319333814\n",
      "abs(round((mean_mean-y_mean)/y_mean)) 0.0\n",
      "1\n",
      "y_mean 5.770676610983782\n",
      "mean_mean 5.702537150533704\n",
      "abs(round((mean_mean-y_mean)/y_mean)) 0.0\n"
     ]
    },
    {
     "name": "stderr",
     "output_type": "stream",
     "text": [
      "\r",
      " 27%|██▋       | 97/360 [01:14<03:30,  1.25it/s]"
     ]
    },
    {
     "name": "stdout",
     "output_type": "stream",
     "text": [
      "2\n",
      "y_mean 5.770676610983782\n",
      "mean_mean 5.7025379489624735\n",
      "abs(round((mean_mean-y_mean)/y_mean)) 0.0\n",
      "1\n",
      "y_mean 8.157465637894544\n",
      "mean_mean 8.16680015678799\n",
      "abs(round((mean_mean-y_mean)/y_mean)) 0.0\n"
     ]
    },
    {
     "name": "stderr",
     "output_type": "stream",
     "text": [
      "\r",
      " 27%|██▋       | 98/360 [01:15<03:42,  1.18it/s]"
     ]
    },
    {
     "name": "stdout",
     "output_type": "stream",
     "text": [
      "2\n",
      "y_mean 8.157465637894544\n",
      "mean_mean 8.155328537004658\n",
      "abs(round((mean_mean-y_mean)/y_mean)) 0.0\n",
      "1\n",
      "y_mean 6.496690417277433\n",
      "mean_mean 6.477075976908696\n",
      "abs(round((mean_mean-y_mean)/y_mean)) 0.0\n"
     ]
    },
    {
     "name": "stderr",
     "output_type": "stream",
     "text": [
      "\r",
      " 28%|██▊       | 99/360 [01:16<03:48,  1.14it/s]"
     ]
    },
    {
     "name": "stdout",
     "output_type": "stream",
     "text": [
      "2\n",
      "y_mean 6.496690417277433\n",
      "mean_mean 6.4505044966267215\n",
      "abs(round((mean_mean-y_mean)/y_mean)) 0.0\n",
      "1\n",
      "y_mean 8.223272920110418\n",
      "mean_mean 8.22211607971735\n",
      "abs(round((mean_mean-y_mean)/y_mean)) 0.0\n"
     ]
    },
    {
     "name": "stderr",
     "output_type": "stream",
     "text": [
      "\r",
      " 28%|██▊       | 100/360 [01:17<03:48,  1.14it/s]"
     ]
    },
    {
     "name": "stdout",
     "output_type": "stream",
     "text": [
      "2\n",
      "y_mean 8.223272920110418\n",
      "mean_mean 8.221716580281372\n",
      "abs(round((mean_mean-y_mean)/y_mean)) 0.0\n",
      "1\n",
      "y_mean 6.576687295813198\n",
      "mean_mean 6.5643875290912375\n",
      "abs(round((mean_mean-y_mean)/y_mean)) 0.0\n"
     ]
    },
    {
     "name": "stderr",
     "output_type": "stream",
     "text": [
      "\r",
      " 28%|██▊       | 101/360 [01:18<04:09,  1.04it/s]"
     ]
    },
    {
     "name": "stdout",
     "output_type": "stream",
     "text": [
      "2\n",
      "y_mean 6.576687295813198\n",
      "mean_mean 6.546186417235557\n",
      "abs(round((mean_mean-y_mean)/y_mean)) 0.0\n",
      "1\n",
      "y_mean 8.149079001825848\n",
      "mean_mean 8.16815080077314\n",
      "abs(round((mean_mean-y_mean)/y_mean)) 0.0\n"
     ]
    },
    {
     "name": "stderr",
     "output_type": "stream",
     "text": [
      "\r",
      " 28%|██▊       | 102/360 [01:19<04:43,  1.10s/it]"
     ]
    },
    {
     "name": "stdout",
     "output_type": "stream",
     "text": [
      "2\n",
      "y_mean 8.149079001825848\n",
      "mean_mean 8.14821437629556\n",
      "abs(round((mean_mean-y_mean)/y_mean)) 0.0\n",
      "1\n",
      "y_mean 4.335568632329541\n",
      "mean_mean 4.265855013125421\n",
      "abs(round((mean_mean-y_mean)/y_mean)) 0.0\n"
     ]
    },
    {
     "name": "stderr",
     "output_type": "stream",
     "text": [
      "\r",
      " 29%|██▊       | 103/360 [01:21<05:30,  1.29s/it]"
     ]
    },
    {
     "name": "stdout",
     "output_type": "stream",
     "text": [
      "2\n",
      "y_mean 4.335568632329541\n",
      "mean_mean 4.265846213577292\n",
      "abs(round((mean_mean-y_mean)/y_mean)) 0.0\n",
      "1\n",
      "y_mean 8.17706754911172\n",
      "mean_mean 8.175200101605041\n",
      "abs(round((mean_mean-y_mean)/y_mean)) 0.0\n"
     ]
    },
    {
     "name": "stderr",
     "output_type": "stream",
     "text": [
      "\r",
      " 29%|██▉       | 104/360 [01:22<05:25,  1.27s/it]"
     ]
    },
    {
     "name": "stdout",
     "output_type": "stream",
     "text": [
      "2\n",
      "y_mean 8.17706754911172\n",
      "mean_mean 8.174132263308199\n",
      "abs(round((mean_mean-y_mean)/y_mean)) 0.0\n",
      "1\n",
      "y_mean 5.662199005047076\n",
      "mean_mean 5.355384037981694\n",
      "abs(round((mean_mean-y_mean)/y_mean)) 0.0\n"
     ]
    },
    {
     "name": "stderr",
     "output_type": "stream",
     "text": [
      "\r",
      " 29%|██▉       | 105/360 [01:23<05:06,  1.20s/it]"
     ]
    },
    {
     "name": "stdout",
     "output_type": "stream",
     "text": [
      "2\n",
      "y_mean 5.662199005047076\n",
      "mean_mean 5.616475619555827\n",
      "abs(round((mean_mean-y_mean)/y_mean)) 0.0\n",
      "1\n",
      "y_mean 8.561445353667999\n",
      "mean_mean 8.56053441061433\n",
      "abs(round((mean_mean-y_mean)/y_mean)) 0.0\n"
     ]
    },
    {
     "name": "stderr",
     "output_type": "stream",
     "text": [
      "\r",
      " 29%|██▉       | 106/360 [01:24<05:04,  1.20s/it]"
     ]
    },
    {
     "name": "stdout",
     "output_type": "stream",
     "text": [
      "2\n",
      "y_mean 8.561445353667999\n",
      "mean_mean 8.56053440597033\n",
      "abs(round((mean_mean-y_mean)/y_mean)) 0.0\n",
      "1\n",
      "y_mean 6.4436119635046625\n",
      "mean_mean 6.325008622299514\n",
      "abs(round((mean_mean-y_mean)/y_mean)) 0.0\n"
     ]
    },
    {
     "name": "stderr",
     "output_type": "stream",
     "text": [
      "\r",
      " 30%|██▉       | 107/360 [01:25<04:39,  1.11s/it]"
     ]
    },
    {
     "name": "stdout",
     "output_type": "stream",
     "text": [
      "2\n",
      "y_mean 6.4436119635046625\n",
      "mean_mean 6.425132687388415\n",
      "abs(round((mean_mean-y_mean)/y_mean)) 0.0\n",
      "1\n",
      "y_mean 8.384414567808777\n",
      "mean_mean 8.383782774142052\n",
      "abs(round((mean_mean-y_mean)/y_mean)) 0.0\n"
     ]
    },
    {
     "name": "stderr",
     "output_type": "stream",
     "text": [
      "\r",
      " 30%|███       | 108/360 [01:26<04:29,  1.07s/it]"
     ]
    },
    {
     "name": "stdout",
     "output_type": "stream",
     "text": [
      "2\n",
      "y_mean 8.384414567808777\n",
      "mean_mean 8.383782772310315\n",
      "abs(round((mean_mean-y_mean)/y_mean)) 0.0\n",
      "1\n",
      "y_mean 5.337340512514353\n",
      "mean_mean 5.024091516743959\n",
      "abs(round((mean_mean-y_mean)/y_mean)) 0.0\n"
     ]
    },
    {
     "name": "stderr",
     "output_type": "stream",
     "text": [
      "\r",
      " 30%|███       | 109/360 [01:27<04:16,  1.02s/it]"
     ]
    },
    {
     "name": "stdout",
     "output_type": "stream",
     "text": [
      "2\n",
      "y_mean 5.337340512514353\n",
      "mean_mean 5.27563068658705\n",
      "abs(round((mean_mean-y_mean)/y_mean)) 0.0\n",
      "1\n",
      "y_mean 8.449499514792802\n",
      "mean_mean 8.446332921723068\n",
      "abs(round((mean_mean-y_mean)/y_mean)) 0.0\n"
     ]
    },
    {
     "name": "stderr",
     "output_type": "stream",
     "text": [
      "\r",
      " 31%|███       | 110/360 [01:28<04:35,  1.10s/it]"
     ]
    },
    {
     "name": "stdout",
     "output_type": "stream",
     "text": [
      "2\n",
      "y_mean 8.449499514792802\n",
      "mean_mean 8.446332955294643\n",
      "abs(round((mean_mean-y_mean)/y_mean)) 0.0\n",
      "1\n",
      "y_mean 6.128253511085884\n",
      "mean_mean 6.115831880863367\n",
      "abs(round((mean_mean-y_mean)/y_mean)) 0.0\n"
     ]
    },
    {
     "name": "stderr",
     "output_type": "stream",
     "text": [
      "\r",
      " 31%|███       | 111/360 [01:30<04:48,  1.16s/it]"
     ]
    },
    {
     "name": "stdout",
     "output_type": "stream",
     "text": [
      "2\n",
      "y_mean 6.128253511085884\n",
      "mean_mean 6.099535077785767\n",
      "abs(round((mean_mean-y_mean)/y_mean)) 0.0\n",
      "1\n",
      "y_mean 8.242015780992622\n",
      "mean_mean 8.241103555723784\n",
      "abs(round((mean_mean-y_mean)/y_mean)) 0.0\n"
     ]
    },
    {
     "name": "stderr",
     "output_type": "stream",
     "text": [
      "\r",
      " 31%|███       | 112/360 [01:32<05:30,  1.33s/it]"
     ]
    },
    {
     "name": "stdout",
     "output_type": "stream",
     "text": [
      "2\n",
      "y_mean 8.242015780992622\n",
      "mean_mean 8.241103839497544\n",
      "abs(round((mean_mean-y_mean)/y_mean)) 0.0\n",
      "1\n",
      "y_mean 6.6953265592474125\n",
      "mean_mean 6.67520892575863\n",
      "abs(round((mean_mean-y_mean)/y_mean)) 0.0\n"
     ]
    },
    {
     "name": "stderr",
     "output_type": "stream",
     "text": [
      "\r",
      " 31%|███▏      | 113/360 [01:33<05:45,  1.40s/it]"
     ]
    },
    {
     "name": "stdout",
     "output_type": "stream",
     "text": [
      "2\n",
      "y_mean 6.6953265592474125\n",
      "mean_mean 6.666069836498655\n",
      "abs(round((mean_mean-y_mean)/y_mean)) 0.0\n",
      "1\n",
      "y_mean 8.404620534108576\n",
      "mean_mean 8.403947708015943\n",
      "abs(round((mean_mean-y_mean)/y_mean)) 0.0\n"
     ]
    },
    {
     "name": "stderr",
     "output_type": "stream",
     "text": [
      "\r",
      " 32%|███▏      | 114/360 [01:35<06:18,  1.54s/it]"
     ]
    },
    {
     "name": "stdout",
     "output_type": "stream",
     "text": [
      "2\n",
      "y_mean 8.404620534108576\n",
      "mean_mean 8.403947575962043\n",
      "abs(round((mean_mean-y_mean)/y_mean)) 0.0\n",
      "1\n",
      "y_mean 4.391854195503145\n",
      "mean_mean 4.618903240352772\n",
      "abs(round((mean_mean-y_mean)/y_mean)) 0.0\n"
     ]
    },
    {
     "name": "stderr",
     "output_type": "stream",
     "text": [
      "\r",
      " 32%|███▏      | 115/360 [01:36<06:13,  1.52s/it]"
     ]
    },
    {
     "name": "stdout",
     "output_type": "stream",
     "text": [
      "2\n",
      "y_mean 4.391854195503145\n",
      "mean_mean 4.288222325908258\n",
      "abs(round((mean_mean-y_mean)/y_mean)) 0.0\n",
      "1\n",
      "y_mean 7.996632029601963\n",
      "mean_mean 7.992987698740093\n",
      "abs(round((mean_mean-y_mean)/y_mean)) 0.0\n"
     ]
    },
    {
     "name": "stderr",
     "output_type": "stream",
     "text": [
      "\r",
      " 32%|███▏      | 116/360 [01:38<05:49,  1.43s/it]"
     ]
    },
    {
     "name": "stdout",
     "output_type": "stream",
     "text": [
      "2\n",
      "y_mean 7.996632029601963\n",
      "mean_mean 7.992735363293076\n",
      "abs(round((mean_mean-y_mean)/y_mean)) 0.0\n",
      "1\n",
      "y_mean 4.63349970611058\n",
      "mean_mean 4.690344101284955\n",
      "abs(round((mean_mean-y_mean)/y_mean)) 0.0\n"
     ]
    },
    {
     "name": "stderr",
     "output_type": "stream",
     "text": [
      "\r",
      " 32%|███▎      | 117/360 [01:39<05:33,  1.37s/it]"
     ]
    },
    {
     "name": "stdout",
     "output_type": "stream",
     "text": [
      "2\n",
      "y_mean 4.63349970611058\n",
      "mean_mean 4.571620666332586\n",
      "abs(round((mean_mean-y_mean)/y_mean)) 0.0\n",
      "1\n",
      "y_mean 7.453726076498774\n",
      "mean_mean 7.45071410827943\n",
      "abs(round((mean_mean-y_mean)/y_mean)) 0.0\n"
     ]
    },
    {
     "name": "stderr",
     "output_type": "stream",
     "text": [
      "\r",
      " 33%|███▎      | 118/360 [01:40<05:17,  1.31s/it]"
     ]
    },
    {
     "name": "stdout",
     "output_type": "stream",
     "text": [
      "2\n",
      "y_mean 7.453726076498774\n",
      "mean_mean 7.450663485482915\n",
      "abs(round((mean_mean-y_mean)/y_mean)) 0.0\n",
      "1\n",
      "y_mean 7.352454458921866\n",
      "mean_mean 7.416956745426923\n",
      "abs(round((mean_mean-y_mean)/y_mean)) 0.0\n"
     ]
    },
    {
     "name": "stderr",
     "output_type": "stream",
     "text": [
      "\r",
      " 33%|███▎      | 119/360 [01:41<05:22,  1.34s/it]"
     ]
    },
    {
     "name": "stdout",
     "output_type": "stream",
     "text": [
      "2\n",
      "y_mean 7.352454458921866\n",
      "mean_mean 7.327620447156959\n",
      "abs(round((mean_mean-y_mean)/y_mean)) 0.0\n",
      "1\n",
      "y_mean 8.789884072634797\n",
      "mean_mean 8.788888901867635\n",
      "abs(round((mean_mean-y_mean)/y_mean)) 0.0\n"
     ]
    },
    {
     "name": "stderr",
     "output_type": "stream",
     "text": [
      "\r",
      " 33%|███▎      | 120/360 [01:43<05:18,  1.33s/it]"
     ]
    },
    {
     "name": "stdout",
     "output_type": "stream",
     "text": [
      "2\n",
      "y_mean 8.789884072634797\n",
      "mean_mean 8.788888802891451\n",
      "abs(round((mean_mean-y_mean)/y_mean)) 0.0\n",
      "1\n",
      "y_mean 4.888090791633813\n",
      "mean_mean 5.198420960946997\n",
      "abs(round((mean_mean-y_mean)/y_mean)) 0.0\n"
     ]
    },
    {
     "name": "stderr",
     "output_type": "stream",
     "text": [
      "\r",
      " 34%|███▎      | 121/360 [01:44<05:03,  1.27s/it]"
     ]
    },
    {
     "name": "stdout",
     "output_type": "stream",
     "text": [
      "2\n",
      "y_mean 4.888090791633813\n",
      "mean_mean 4.810667602005132\n",
      "abs(round((mean_mean-y_mean)/y_mean)) 0.0\n",
      "1\n",
      "y_mean 7.319665667499832\n",
      "mean_mean 7.317159525684822\n",
      "abs(round((mean_mean-y_mean)/y_mean)) 0.0\n"
     ]
    },
    {
     "name": "stderr",
     "output_type": "stream",
     "text": [
      "\r",
      " 34%|███▍      | 122/360 [01:45<04:53,  1.23s/it]"
     ]
    },
    {
     "name": "stdout",
     "output_type": "stream",
     "text": [
      "2\n",
      "y_mean 7.319665667499832\n",
      "mean_mean 7.3171600072456435\n",
      "abs(round((mean_mean-y_mean)/y_mean)) 0.0\n",
      "1\n",
      "y_mean 6.13460186701036\n",
      "mean_mean 6.01667844780422\n",
      "abs(round((mean_mean-y_mean)/y_mean)) 0.0\n"
     ]
    },
    {
     "name": "stderr",
     "output_type": "stream",
     "text": [
      "\r",
      " 34%|███▍      | 123/360 [01:46<04:39,  1.18s/it]"
     ]
    },
    {
     "name": "stdout",
     "output_type": "stream",
     "text": [
      "2\n",
      "y_mean 6.13460186701036\n",
      "mean_mean 6.107405103493883\n",
      "abs(round((mean_mean-y_mean)/y_mean)) 0.0\n",
      "1\n",
      "y_mean 8.448861644582017\n",
      "mean_mean 8.448044305581876\n",
      "abs(round((mean_mean-y_mean)/y_mean)) 0.0\n"
     ]
    },
    {
     "name": "stderr",
     "output_type": "stream",
     "text": [
      "\r",
      " 34%|███▍      | 124/360 [01:47<04:22,  1.11s/it]"
     ]
    },
    {
     "name": "stdout",
     "output_type": "stream",
     "text": [
      "2\n",
      "y_mean 8.448861644582017\n",
      "mean_mean 8.447556793727541\n",
      "abs(round((mean_mean-y_mean)/y_mean)) 0.0\n",
      "1\n",
      "y_mean 7.57389637065456\n",
      "mean_mean 7.337170857741795\n",
      "abs(round((mean_mean-y_mean)/y_mean)) 0.0\n"
     ]
    },
    {
     "name": "stderr",
     "output_type": "stream",
     "text": [
      "\r",
      " 35%|███▍      | 125/360 [01:48<04:00,  1.02s/it]"
     ]
    },
    {
     "name": "stdout",
     "output_type": "stream",
     "text": [
      "2\n",
      "y_mean 7.57389637065456\n",
      "mean_mean 7.556837741226117\n",
      "abs(round((mean_mean-y_mean)/y_mean)) 0.0\n",
      "1\n",
      "y_mean 9.568555483842559\n",
      "mean_mean 9.567705023190845\n",
      "abs(round((mean_mean-y_mean)/y_mean)) 0.0\n"
     ]
    },
    {
     "name": "stderr",
     "output_type": "stream",
     "text": [
      "\r",
      " 35%|███▌      | 126/360 [01:49<03:54,  1.00s/it]"
     ]
    },
    {
     "name": "stdout",
     "output_type": "stream",
     "text": [
      "2\n",
      "y_mean 9.568555483842559\n",
      "mean_mean 9.567704853307914\n",
      "abs(round((mean_mean-y_mean)/y_mean)) 0.0\n",
      "1\n",
      "y_mean 5.147148458099263\n",
      "mean_mean 5.091748417685642\n",
      "abs(round((mean_mean-y_mean)/y_mean)) 0.0\n"
     ]
    },
    {
     "name": "stderr",
     "output_type": "stream",
     "text": [
      "\r",
      " 35%|███▌      | 127/360 [01:50<03:47,  1.02it/s]"
     ]
    },
    {
     "name": "stdout",
     "output_type": "stream",
     "text": [
      "2\n",
      "y_mean 5.147148458099263\n",
      "mean_mean 5.091750579743482\n",
      "abs(round((mean_mean-y_mean)/y_mean)) 0.0\n",
      "1\n",
      "y_mean 6.619623430379165\n",
      "mean_mean 6.618334570548245\n",
      "abs(round((mean_mean-y_mean)/y_mean)) 0.0\n"
     ]
    },
    {
     "name": "stderr",
     "output_type": "stream",
     "text": [
      "\r",
      " 36%|███▌      | 128/360 [01:51<03:39,  1.06it/s]"
     ]
    },
    {
     "name": "stdout",
     "output_type": "stream",
     "text": [
      "2\n",
      "y_mean 6.619623430379165\n",
      "mean_mean 6.618287706203168\n",
      "abs(round((mean_mean-y_mean)/y_mean)) 0.0\n",
      "1\n",
      "y_mean 5.557669033434329\n",
      "mean_mean 5.5218087582556565\n",
      "abs(round((mean_mean-y_mean)/y_mean)) 0.0\n"
     ]
    },
    {
     "name": "stderr",
     "output_type": "stream",
     "text": [
      "\r",
      " 36%|███▌      | 129/360 [01:52<03:40,  1.05it/s]"
     ]
    },
    {
     "name": "stdout",
     "output_type": "stream",
     "text": [
      "2\n",
      "y_mean 5.557669033434329\n",
      "mean_mean 5.52180876063759\n",
      "abs(round((mean_mean-y_mean)/y_mean)) 0.0\n",
      "1\n",
      "y_mean 7.5180733034615805\n",
      "mean_mean 7.516368659345542\n",
      "abs(round((mean_mean-y_mean)/y_mean)) 0.0\n"
     ]
    },
    {
     "name": "stderr",
     "output_type": "stream",
     "text": [
      "\r",
      " 36%|███▌      | 130/360 [01:52<03:33,  1.08it/s]"
     ]
    },
    {
     "name": "stdout",
     "output_type": "stream",
     "text": [
      "2\n",
      "y_mean 7.5180733034615805\n",
      "mean_mean 7.516163873162401\n",
      "abs(round((mean_mean-y_mean)/y_mean)) 0.0\n",
      "1\n",
      "y_mean 6.434823191336388\n",
      "mean_mean 6.7588748143097845\n",
      "abs(round((mean_mean-y_mean)/y_mean)) 0.0\n"
     ]
    },
    {
     "name": "stderr",
     "output_type": "stream",
     "text": [
      "\r",
      " 36%|███▋      | 131/360 [01:53<03:24,  1.12it/s]"
     ]
    },
    {
     "name": "stdout",
     "output_type": "stream",
     "text": [
      "2\n",
      "y_mean 6.434823191336388\n",
      "mean_mean 6.415500033320715\n",
      "abs(round((mean_mean-y_mean)/y_mean)) 0.0\n",
      "1\n",
      "y_mean 7.786004166285999\n",
      "mean_mean 7.785552830348654\n",
      "abs(round((mean_mean-y_mean)/y_mean)) 0.0\n"
     ]
    },
    {
     "name": "stderr",
     "output_type": "stream",
     "text": [
      "\r",
      " 37%|███▋      | 132/360 [01:54<03:20,  1.14it/s]"
     ]
    },
    {
     "name": "stdout",
     "output_type": "stream",
     "text": [
      "2\n",
      "y_mean 7.786004166285999\n",
      "mean_mean 7.78543478337571\n",
      "abs(round((mean_mean-y_mean)/y_mean)) 0.0\n",
      "1\n",
      "y_mean 5.519442833824915\n",
      "mean_mean 5.4703984227080635\n",
      "abs(round((mean_mean-y_mean)/y_mean)) 0.0\n"
     ]
    },
    {
     "name": "stderr",
     "output_type": "stream",
     "text": [
      "\r",
      " 37%|███▋      | 133/360 [01:55<03:25,  1.11it/s]"
     ]
    },
    {
     "name": "stdout",
     "output_type": "stream",
     "text": [
      "2\n",
      "y_mean 5.519442833824915\n",
      "mean_mean 5.470395699827817\n",
      "abs(round((mean_mean-y_mean)/y_mean)) 0.0\n",
      "1\n",
      "y_mean 8.613340918333284\n",
      "mean_mean 8.597785836610933\n",
      "abs(round((mean_mean-y_mean)/y_mean)) 0.0\n"
     ]
    },
    {
     "name": "stderr",
     "output_type": "stream",
     "text": [
      "\r",
      " 37%|███▋      | 134/360 [01:56<03:18,  1.14it/s]"
     ]
    },
    {
     "name": "stdout",
     "output_type": "stream",
     "text": [
      "2\n",
      "y_mean 8.613340918333284\n",
      "mean_mean 8.611222118456855\n",
      "abs(round((mean_mean-y_mean)/y_mean)) 0.0\n",
      "1\n",
      "y_mean 6.084720578502144\n",
      "mean_mean 6.058309496932577\n",
      "abs(round((mean_mean-y_mean)/y_mean)) 0.0\n"
     ]
    },
    {
     "name": "stderr",
     "output_type": "stream",
     "text": [
      "\r",
      " 38%|███▊      | 135/360 [01:57<03:16,  1.15it/s]"
     ]
    },
    {
     "name": "stdout",
     "output_type": "stream",
     "text": [
      "2\n",
      "y_mean 6.084720578502144\n",
      "mean_mean 6.0500038632809545\n",
      "abs(round((mean_mean-y_mean)/y_mean)) 0.0\n",
      "1\n",
      "y_mean 8.339167184081319\n",
      "mean_mean 8.337937194266656\n",
      "abs(round((mean_mean-y_mean)/y_mean)) 0.0\n"
     ]
    },
    {
     "name": "stderr",
     "output_type": "stream",
     "text": [
      "\r",
      " 38%|███▊      | 136/360 [01:58<03:15,  1.15it/s]"
     ]
    },
    {
     "name": "stdout",
     "output_type": "stream",
     "text": [
      "2\n",
      "y_mean 8.339167184081319\n",
      "mean_mean 8.337937167855676\n",
      "abs(round((mean_mean-y_mean)/y_mean)) 0.0\n",
      "1\n",
      "y_mean 6.541792803845972\n",
      "mean_mean 6.25950734315021\n",
      "abs(round((mean_mean-y_mean)/y_mean)) 0.0\n"
     ]
    },
    {
     "name": "stderr",
     "output_type": "stream",
     "text": [
      "\r",
      " 38%|███▊      | 137/360 [01:59<03:17,  1.13it/s]"
     ]
    },
    {
     "name": "stdout",
     "output_type": "stream",
     "text": [
      "2\n",
      "y_mean 6.541792803845972\n",
      "mean_mean 6.515034906470945\n",
      "abs(round((mean_mean-y_mean)/y_mean)) 0.0\n",
      "1\n",
      "y_mean 8.400598446000846\n",
      "mean_mean 8.400037955052152\n",
      "abs(round((mean_mean-y_mean)/y_mean)) 0.0\n"
     ]
    },
    {
     "name": "stderr",
     "output_type": "stream",
     "text": [
      "\r",
      " 38%|███▊      | 138/360 [01:59<03:15,  1.14it/s]"
     ]
    },
    {
     "name": "stdout",
     "output_type": "stream",
     "text": [
      "2\n",
      "y_mean 8.400598446000846\n",
      "mean_mean 8.400037759182522\n",
      "abs(round((mean_mean-y_mean)/y_mean)) 0.0\n",
      "1\n",
      "y_mean 5.027681449178003\n",
      "mean_mean 4.692331064508921\n",
      "abs(round((mean_mean-y_mean)/y_mean)) 0.0\n"
     ]
    },
    {
     "name": "stderr",
     "output_type": "stream",
     "text": [
      "\r",
      " 39%|███▊      | 139/360 [02:00<03:14,  1.14it/s]"
     ]
    },
    {
     "name": "stdout",
     "output_type": "stream",
     "text": [
      "2\n",
      "y_mean 5.027681449178003\n",
      "mean_mean 4.960478012268313\n",
      "abs(round((mean_mean-y_mean)/y_mean)) 0.0\n",
      "1\n",
      "y_mean 8.323134152476307\n",
      "mean_mean 8.321051247888986\n",
      "abs(round((mean_mean-y_mean)/y_mean)) 0.0\n"
     ]
    },
    {
     "name": "stderr",
     "output_type": "stream",
     "text": [
      "\r",
      " 39%|███▉      | 140/360 [02:01<03:17,  1.11it/s]"
     ]
    },
    {
     "name": "stdout",
     "output_type": "stream",
     "text": [
      "2\n",
      "y_mean 8.323134152476307\n",
      "mean_mean 8.320325865173874\n",
      "abs(round((mean_mean-y_mean)/y_mean)) 0.0\n",
      "1\n",
      "y_mean 5.555695293812831\n",
      "mean_mean 5.2791067881865255\n",
      "abs(round((mean_mean-y_mean)/y_mean)) 0.0\n"
     ]
    },
    {
     "name": "stderr",
     "output_type": "stream",
     "text": [
      "\r",
      " 39%|███▉      | 141/360 [02:02<03:12,  1.14it/s]"
     ]
    },
    {
     "name": "stdout",
     "output_type": "stream",
     "text": [
      "2\n",
      "y_mean 5.555695293812831\n",
      "mean_mean 5.521676030316918\n",
      "abs(round((mean_mean-y_mean)/y_mean)) 0.0\n",
      "1\n",
      "y_mean 7.77933147339676\n",
      "mean_mean 7.777652310138362\n",
      "abs(round((mean_mean-y_mean)/y_mean)) 0.0\n"
     ]
    },
    {
     "name": "stderr",
     "output_type": "stream",
     "text": [
      "\r",
      " 39%|███▉      | 142/360 [02:03<03:09,  1.15it/s]"
     ]
    },
    {
     "name": "stdout",
     "output_type": "stream",
     "text": [
      "2\n",
      "y_mean 7.77933147339676\n",
      "mean_mean 7.776924230830885\n",
      "abs(round((mean_mean-y_mean)/y_mean)) 0.0\n",
      "1\n",
      "y_mean 5.499326871113579\n",
      "mean_mean 5.231560812273134\n",
      "abs(round((mean_mean-y_mean)/y_mean)) 0.0\n"
     ]
    },
    {
     "name": "stderr",
     "output_type": "stream",
     "text": [
      "\r",
      " 40%|███▉      | 143/360 [02:04<03:18,  1.09it/s]"
     ]
    },
    {
     "name": "stdout",
     "output_type": "stream",
     "text": [
      "2\n",
      "y_mean 5.499326871113579\n",
      "mean_mean 5.475454884746694\n",
      "abs(round((mean_mean-y_mean)/y_mean)) 0.0\n",
      "1\n",
      "y_mean 7.607031760851758\n",
      "mean_mean 7.606082410917428\n",
      "abs(round((mean_mean-y_mean)/y_mean)) 0.0\n"
     ]
    },
    {
     "name": "stderr",
     "output_type": "stream",
     "text": [
      "\r",
      " 40%|████      | 144/360 [02:05<03:36,  1.00s/it]"
     ]
    },
    {
     "name": "stdout",
     "output_type": "stream",
     "text": [
      "2\n",
      "y_mean 7.607031760851758\n",
      "mean_mean 7.605349603603091\n",
      "abs(round((mean_mean-y_mean)/y_mean)) 0.0\n",
      "1\n",
      "y_mean 4.539528503421978\n",
      "mean_mean 4.217069515558225\n",
      "abs(round((mean_mean-y_mean)/y_mean)) 0.0\n"
     ]
    },
    {
     "name": "stderr",
     "output_type": "stream",
     "text": [
      "\r",
      " 40%|████      | 145/360 [02:06<03:27,  1.03it/s]"
     ]
    },
    {
     "name": "stdout",
     "output_type": "stream",
     "text": [
      "2\n",
      "y_mean 4.539528503421978\n",
      "mean_mean 4.4970840435059625\n",
      "abs(round((mean_mean-y_mean)/y_mean)) 0.0\n",
      "1\n",
      "y_mean 8.130064050876241\n",
      "mean_mean 8.128857471438248\n",
      "abs(round((mean_mean-y_mean)/y_mean)) 0.0\n"
     ]
    },
    {
     "name": "stderr",
     "output_type": "stream",
     "text": [
      "\r",
      " 41%|████      | 146/360 [02:07<03:42,  1.04s/it]"
     ]
    },
    {
     "name": "stdout",
     "output_type": "stream",
     "text": [
      "2\n",
      "y_mean 8.130064050876241\n",
      "mean_mean 8.128857443012658\n",
      "abs(round((mean_mean-y_mean)/y_mean)) 0.0\n",
      "1\n",
      "y_mean 5.768557678817753\n",
      "mean_mean 5.752647928669425\n",
      "abs(round((mean_mean-y_mean)/y_mean)) 0.0\n"
     ]
    },
    {
     "name": "stderr",
     "output_type": "stream",
     "text": [
      "\r",
      " 41%|████      | 147/360 [02:08<03:47,  1.07s/it]"
     ]
    },
    {
     "name": "stdout",
     "output_type": "stream",
     "text": [
      "2\n",
      "y_mean 5.768557678817753\n",
      "mean_mean 5.737112313621757\n",
      "abs(round((mean_mean-y_mean)/y_mean)) 0.0\n",
      "1\n",
      "y_mean 8.323380389423939\n",
      "mean_mean 8.322581604363336\n",
      "abs(round((mean_mean-y_mean)/y_mean)) 0.0\n"
     ]
    },
    {
     "name": "stderr",
     "output_type": "stream",
     "text": [
      "\r",
      " 41%|████      | 148/360 [02:09<03:43,  1.06s/it]"
     ]
    },
    {
     "name": "stdout",
     "output_type": "stream",
     "text": [
      "2\n",
      "y_mean 8.323380389423939\n",
      "mean_mean 8.322556372864431\n",
      "abs(round((mean_mean-y_mean)/y_mean)) 0.0\n",
      "1\n",
      "y_mean 6.14650310105156\n",
      "mean_mean 5.773729563908477\n",
      "abs(round((mean_mean-y_mean)/y_mean)) 0.0\n"
     ]
    },
    {
     "name": "stderr",
     "output_type": "stream",
     "text": [
      "\r",
      " 41%|████▏     | 149/360 [02:10<03:39,  1.04s/it]"
     ]
    },
    {
     "name": "stdout",
     "output_type": "stream",
     "text": [
      "2\n",
      "y_mean 6.14650310105156\n",
      "mean_mean 6.118231266812171\n",
      "abs(round((mean_mean-y_mean)/y_mean)) 0.0\n",
      "1\n",
      "y_mean 9.080153482180116\n",
      "mean_mean 9.079443161495114\n",
      "abs(round((mean_mean-y_mean)/y_mean)) 0.0\n"
     ]
    },
    {
     "name": "stderr",
     "output_type": "stream",
     "text": [
      "\r",
      " 42%|████▏     | 150/360 [02:12<03:56,  1.12s/it]"
     ]
    },
    {
     "name": "stdout",
     "output_type": "stream",
     "text": [
      "2\n",
      "y_mean 9.080153482180116\n",
      "mean_mean 9.079444370049858\n",
      "abs(round((mean_mean-y_mean)/y_mean)) 0.0\n",
      "1\n",
      "y_mean 5.339992075695296\n",
      "mean_mean 5.006048007840098\n",
      "abs(round((mean_mean-y_mean)/y_mean)) 0.0\n"
     ]
    },
    {
     "name": "stderr",
     "output_type": "stream",
     "text": [
      "\r",
      " 42%|████▏     | 151/360 [02:13<04:07,  1.18s/it]"
     ]
    },
    {
     "name": "stdout",
     "output_type": "stream",
     "text": [
      "2\n",
      "y_mean 5.339992075695296\n",
      "mean_mean 5.266403037520725\n",
      "abs(round((mean_mean-y_mean)/y_mean)) 0.0\n",
      "1\n",
      "y_mean 8.280807260290688\n",
      "mean_mean 8.27825710475028\n",
      "abs(round((mean_mean-y_mean)/y_mean)) 0.0\n"
     ]
    },
    {
     "name": "stderr",
     "output_type": "stream",
     "text": [
      "\r",
      " 42%|████▏     | 152/360 [02:14<04:18,  1.24s/it]"
     ]
    },
    {
     "name": "stdout",
     "output_type": "stream",
     "text": [
      "2\n",
      "y_mean 8.280807260290688\n",
      "mean_mean 8.277829375827109\n",
      "abs(round((mean_mean-y_mean)/y_mean)) 0.0\n",
      "1\n",
      "y_mean 6.769039284319313\n",
      "mean_mean 6.76571163397276\n",
      "abs(round((mean_mean-y_mean)/y_mean)) 0.0\n"
     ]
    },
    {
     "name": "stderr",
     "output_type": "stream",
     "text": [
      "\r",
      " 42%|████▎     | 153/360 [02:15<04:07,  1.20s/it]"
     ]
    },
    {
     "name": "stdout",
     "output_type": "stream",
     "text": [
      "2\n",
      "y_mean 6.769039284319313\n",
      "mean_mean 6.735710548477353\n",
      "abs(round((mean_mean-y_mean)/y_mean)) 0.0\n",
      "1\n",
      "y_mean 8.419010390645601\n",
      "mean_mean 8.417520038671961\n",
      "abs(round((mean_mean-y_mean)/y_mean)) 0.0\n"
     ]
    },
    {
     "name": "stderr",
     "output_type": "stream",
     "text": [
      "\r",
      " 43%|████▎     | 154/360 [02:17<04:01,  1.17s/it]"
     ]
    },
    {
     "name": "stdout",
     "output_type": "stream",
     "text": [
      "2\n",
      "y_mean 8.419010390645601\n",
      "mean_mean 8.417512726463118\n",
      "abs(round((mean_mean-y_mean)/y_mean)) 0.0\n",
      "1\n",
      "y_mean 7.48886787523047\n",
      "mean_mean 7.481066343830474\n",
      "abs(round((mean_mean-y_mean)/y_mean)) 0.0\n"
     ]
    },
    {
     "name": "stderr",
     "output_type": "stream",
     "text": [
      "\r",
      " 43%|████▎     | 155/360 [02:18<03:46,  1.11s/it]"
     ]
    },
    {
     "name": "stdout",
     "output_type": "stream",
     "text": [
      "2\n",
      "y_mean 7.48886787523047\n",
      "mean_mean 7.4706191001983795\n",
      "abs(round((mean_mean-y_mean)/y_mean)) 0.0\n",
      "1\n",
      "y_mean 8.712902282498668\n",
      "mean_mean 8.711637636645838\n",
      "abs(round((mean_mean-y_mean)/y_mean)) 0.0\n"
     ]
    },
    {
     "name": "stderr",
     "output_type": "stream",
     "text": [
      "\r",
      " 43%|████▎     | 156/360 [02:18<03:32,  1.04s/it]"
     ]
    },
    {
     "name": "stdout",
     "output_type": "stream",
     "text": [
      "2\n",
      "y_mean 8.712902282498668\n",
      "mean_mean 8.711637770192782\n",
      "abs(round((mean_mean-y_mean)/y_mean)) 0.0\n",
      "1\n",
      "y_mean 5.041849504575784\n",
      "mean_mean 4.776746141861023\n",
      "abs(round((mean_mean-y_mean)/y_mean)) 0.0\n"
     ]
    },
    {
     "name": "stderr",
     "output_type": "stream",
     "text": [
      "\r",
      " 44%|████▎     | 157/360 [02:19<03:21,  1.01it/s]"
     ]
    },
    {
     "name": "stdout",
     "output_type": "stream",
     "text": [
      "2\n",
      "y_mean 5.041849504575784\n",
      "mean_mean 4.906843789576796\n",
      "abs(round((mean_mean-y_mean)/y_mean)) 0.0\n",
      "1\n",
      "y_mean 8.822665981095888\n",
      "mean_mean 8.820273536832655\n",
      "abs(round((mean_mean-y_mean)/y_mean)) 0.0\n"
     ]
    },
    {
     "name": "stderr",
     "output_type": "stream",
     "text": [
      "\r",
      " 44%|████▍     | 158/360 [02:20<03:13,  1.04it/s]"
     ]
    },
    {
     "name": "stdout",
     "output_type": "stream",
     "text": [
      "2\n",
      "y_mean 8.822665981095888\n",
      "mean_mean 8.820273869503984\n",
      "abs(round((mean_mean-y_mean)/y_mean)) 0.0\n",
      "1\n",
      "y_mean 6.664699854122249\n",
      "mean_mean 6.454241951859567\n",
      "abs(round((mean_mean-y_mean)/y_mean)) 0.0\n"
     ]
    },
    {
     "name": "stderr",
     "output_type": "stream",
     "text": [
      "\r",
      " 44%|████▍     | 159/360 [02:21<03:05,  1.08it/s]"
     ]
    },
    {
     "name": "stdout",
     "output_type": "stream",
     "text": [
      "2\n",
      "y_mean 6.664699854122249\n",
      "mean_mean 6.616623273864961\n",
      "abs(round((mean_mean-y_mean)/y_mean)) 0.0\n",
      "1\n",
      "y_mean 9.133919249666212\n",
      "mean_mean 9.132284987443239\n",
      "abs(round((mean_mean-y_mean)/y_mean)) 0.0\n"
     ]
    },
    {
     "name": "stderr",
     "output_type": "stream",
     "text": [
      "\r",
      " 44%|████▍     | 160/360 [02:22<03:03,  1.09it/s]"
     ]
    },
    {
     "name": "stdout",
     "output_type": "stream",
     "text": [
      "2\n",
      "y_mean 9.133919249666212\n",
      "mean_mean 9.132285188851494\n",
      "abs(round((mean_mean-y_mean)/y_mean)) 0.0\n",
      "1\n",
      "y_mean 7.4406792251103475\n",
      "mean_mean 7.426308572309122\n",
      "abs(round((mean_mean-y_mean)/y_mean)) 0.0\n"
     ]
    },
    {
     "name": "stderr",
     "output_type": "stream",
     "text": [
      "\r",
      " 45%|████▍     | 161/360 [02:23<03:12,  1.03it/s]"
     ]
    },
    {
     "name": "stdout",
     "output_type": "stream",
     "text": [
      "2\n",
      "y_mean 7.4406792251103475\n",
      "mean_mean 7.41490048679756\n",
      "abs(round((mean_mean-y_mean)/y_mean)) 0.0\n",
      "1\n",
      "y_mean 9.027024086591373\n",
      "mean_mean 9.025966121700641\n",
      "abs(round((mean_mean-y_mean)/y_mean)) 0.0\n"
     ]
    },
    {
     "name": "stderr",
     "output_type": "stream",
     "text": [
      "\r",
      " 45%|████▌     | 162/360 [02:24<03:04,  1.07it/s]"
     ]
    },
    {
     "name": "stdout",
     "output_type": "stream",
     "text": [
      "2\n",
      "y_mean 9.027024086591373\n",
      "mean_mean 9.025966131111998\n",
      "abs(round((mean_mean-y_mean)/y_mean)) 0.0\n",
      "1\n",
      "y_mean 5.963520315498214\n",
      "mean_mean 5.891352290106917\n",
      "abs(round((mean_mean-y_mean)/y_mean)) 0.0\n"
     ]
    },
    {
     "name": "stderr",
     "output_type": "stream",
     "text": [
      "\r",
      " 45%|████▌     | 163/360 [02:25<02:59,  1.10it/s]"
     ]
    },
    {
     "name": "stdout",
     "output_type": "stream",
     "text": [
      "2\n",
      "y_mean 5.963520315498214\n",
      "mean_mean 5.877622475685345\n",
      "abs(round((mean_mean-y_mean)/y_mean)) 0.0\n",
      "1\n",
      "y_mean 9.26841789598918\n",
      "mean_mean 9.265458034453728\n",
      "abs(round((mean_mean-y_mean)/y_mean)) 0.0\n"
     ]
    },
    {
     "name": "stderr",
     "output_type": "stream",
     "text": [
      "\r",
      " 46%|████▌     | 164/360 [02:26<03:04,  1.06it/s]"
     ]
    },
    {
     "name": "stdout",
     "output_type": "stream",
     "text": [
      "2\n",
      "y_mean 9.26841789598918\n",
      "mean_mean 9.265458100617554\n",
      "abs(round((mean_mean-y_mean)/y_mean)) 0.0\n",
      "1\n",
      "y_mean 6.469606762028549\n",
      "mean_mean 6.4313786864914775\n",
      "abs(round((mean_mean-y_mean)/y_mean)) 0.0\n"
     ]
    },
    {
     "name": "stderr",
     "output_type": "stream",
     "text": [
      "\r",
      " 46%|████▌     | 165/360 [02:27<02:57,  1.10it/s]"
     ]
    },
    {
     "name": "stdout",
     "output_type": "stream",
     "text": [
      "2\n",
      "y_mean 6.469606762028549\n",
      "mean_mean 6.42224525049409\n",
      "abs(round((mean_mean-y_mean)/y_mean)) 0.0\n",
      "1\n",
      "y_mean 8.82159303325133\n",
      "mean_mean 8.819337913585077\n",
      "abs(round((mean_mean-y_mean)/y_mean)) 0.0\n"
     ]
    },
    {
     "name": "stderr",
     "output_type": "stream",
     "text": [
      "\r",
      " 46%|████▌     | 166/360 [02:27<02:53,  1.12it/s]"
     ]
    },
    {
     "name": "stdout",
     "output_type": "stream",
     "text": [
      "2\n",
      "y_mean 8.82159303325133\n",
      "mean_mean 8.819335270768788\n",
      "abs(round((mean_mean-y_mean)/y_mean)) 0.0\n",
      "1\n",
      "y_mean 7.243976603347186\n",
      "mean_mean 7.143499427899583\n",
      "abs(round((mean_mean-y_mean)/y_mean)) 0.0\n"
     ]
    },
    {
     "name": "stderr",
     "output_type": "stream",
     "text": [
      "\r",
      " 46%|████▋     | 167/360 [02:28<02:47,  1.15it/s]"
     ]
    },
    {
     "name": "stdout",
     "output_type": "stream",
     "text": [
      "2\n",
      "y_mean 7.243976603347186\n",
      "mean_mean 7.209898805826994\n",
      "abs(round((mean_mean-y_mean)/y_mean)) 0.0\n",
      "1\n",
      "y_mean 9.232079982269045\n",
      "mean_mean 9.231337186767481\n",
      "abs(round((mean_mean-y_mean)/y_mean)) 0.0\n"
     ]
    },
    {
     "name": "stderr",
     "output_type": "stream",
     "text": [
      "\r",
      " 47%|████▋     | 168/360 [02:29<02:44,  1.16it/s]"
     ]
    },
    {
     "name": "stdout",
     "output_type": "stream",
     "text": [
      "2\n",
      "y_mean 9.232079982269045\n",
      "mean_mean 9.23108709391226\n",
      "abs(round((mean_mean-y_mean)/y_mean)) 0.0\n",
      "1\n",
      "y_mean 5.4467672172217245\n",
      "mean_mean 5.267582893355883\n",
      "abs(round((mean_mean-y_mean)/y_mean)) 0.0\n"
     ]
    },
    {
     "name": "stderr",
     "output_type": "stream",
     "text": [
      "\r",
      " 47%|████▋     | 169/360 [02:30<02:42,  1.17it/s]"
     ]
    },
    {
     "name": "stdout",
     "output_type": "stream",
     "text": [
      "2\n",
      "y_mean 5.4467672172217245\n",
      "mean_mean 5.39945994114177\n",
      "abs(round((mean_mean-y_mean)/y_mean)) 0.0\n",
      "1\n",
      "y_mean 8.94387853483418\n",
      "mean_mean 8.942036231465476\n",
      "abs(round((mean_mean-y_mean)/y_mean)) 0.0\n"
     ]
    },
    {
     "name": "stderr",
     "output_type": "stream",
     "text": [
      "\r",
      " 47%|████▋     | 170/360 [02:31<02:42,  1.17it/s]"
     ]
    },
    {
     "name": "stdout",
     "output_type": "stream",
     "text": [
      "2\n",
      "y_mean 8.94387853483418\n",
      "mean_mean 8.942038081903618\n",
      "abs(round((mean_mean-y_mean)/y_mean)) 0.0\n",
      "1\n",
      "y_mean 6.040063734742647\n",
      "mean_mean 6.023811390636085\n",
      "abs(round((mean_mean-y_mean)/y_mean)) 0.0\n"
     ]
    },
    {
     "name": "stderr",
     "output_type": "stream",
     "text": [
      "\r",
      " 48%|████▊     | 171/360 [02:32<02:42,  1.16it/s]"
     ]
    },
    {
     "name": "stdout",
     "output_type": "stream",
     "text": [
      "2\n",
      "y_mean 6.040063734742647\n",
      "mean_mean 6.0007118507655335\n",
      "abs(round((mean_mean-y_mean)/y_mean)) 0.0\n",
      "1\n",
      "y_mean 8.517807577705113\n",
      "mean_mean 8.51645554213797\n",
      "abs(round((mean_mean-y_mean)/y_mean)) 0.0\n"
     ]
    },
    {
     "name": "stderr",
     "output_type": "stream",
     "text": [
      "\r",
      " 48%|████▊     | 172/360 [02:33<02:41,  1.16it/s]"
     ]
    },
    {
     "name": "stdout",
     "output_type": "stream",
     "text": [
      "2\n",
      "y_mean 8.517807577705113\n",
      "mean_mean 8.516455283064852\n",
      "abs(round((mean_mean-y_mean)/y_mean)) 0.0\n",
      "1\n",
      "y_mean 6.745371750320153\n",
      "mean_mean 6.896300652912173\n",
      "abs(round((mean_mean-y_mean)/y_mean)) 0.0\n"
     ]
    },
    {
     "name": "stderr",
     "output_type": "stream",
     "text": [
      "\r",
      " 48%|████▊     | 173/360 [02:33<02:40,  1.17it/s]"
     ]
    },
    {
     "name": "stdout",
     "output_type": "stream",
     "text": [
      "2\n",
      "y_mean 6.745371750320153\n",
      "mean_mean 6.713913424172883\n",
      "abs(round((mean_mean-y_mean)/y_mean)) 0.0\n",
      "1\n",
      "y_mean 8.702500975377792\n",
      "mean_mean 8.701698865335624\n",
      "abs(round((mean_mean-y_mean)/y_mean)) 0.0\n"
     ]
    },
    {
     "name": "stderr",
     "output_type": "stream",
     "text": [
      "\r",
      " 48%|████▊     | 174/360 [02:34<02:39,  1.17it/s]"
     ]
    },
    {
     "name": "stdout",
     "output_type": "stream",
     "text": [
      "2\n",
      "y_mean 8.702500975377792\n",
      "mean_mean 8.70169828921627\n",
      "abs(round((mean_mean-y_mean)/y_mean)) 0.0\n",
      "1\n",
      "y_mean 5.381311498364437\n",
      "mean_mean 4.8457299956873365\n",
      "abs(round((mean_mean-y_mean)/y_mean)) 0.0\n"
     ]
    },
    {
     "name": "stderr",
     "output_type": "stream",
     "text": [
      "\r",
      " 49%|████▊     | 175/360 [02:35<02:36,  1.18it/s]"
     ]
    },
    {
     "name": "stdout",
     "output_type": "stream",
     "text": [
      "2\n",
      "y_mean 5.381311498364437\n",
      "mean_mean 5.301477901436636\n",
      "abs(round((mean_mean-y_mean)/y_mean)) 0.0\n",
      "1\n",
      "y_mean 8.828464351669638\n",
      "mean_mean 8.826463771548365\n",
      "abs(round((mean_mean-y_mean)/y_mean)) 0.0\n"
     ]
    },
    {
     "name": "stderr",
     "output_type": "stream",
     "text": [
      "\r",
      " 49%|████▉     | 176/360 [02:36<02:36,  1.18it/s]"
     ]
    },
    {
     "name": "stdout",
     "output_type": "stream",
     "text": [
      "2\n",
      "y_mean 8.828464351669638\n",
      "mean_mean 8.825016814874315\n",
      "abs(round((mean_mean-y_mean)/y_mean)) 0.0\n",
      "1\n",
      "y_mean 6.718041390145437\n",
      "mean_mean 6.705393137667744\n",
      "abs(round((mean_mean-y_mean)/y_mean)) 0.0\n"
     ]
    },
    {
     "name": "stderr",
     "output_type": "stream",
     "text": [
      "\r",
      " 49%|████▉     | 177/360 [02:37<02:41,  1.14it/s]"
     ]
    },
    {
     "name": "stdout",
     "output_type": "stream",
     "text": [
      "2\n",
      "y_mean 6.718041390145437\n",
      "mean_mean 6.690043028300948\n",
      "abs(round((mean_mean-y_mean)/y_mean)) 0.0\n",
      "1\n",
      "y_mean 8.837491521395314\n",
      "mean_mean 8.838140622376853\n",
      "abs(round((mean_mean-y_mean)/y_mean)) 0.0\n"
     ]
    },
    {
     "name": "stderr",
     "output_type": "stream",
     "text": [
      "\r",
      " 49%|████▉     | 178/360 [02:38<02:47,  1.09it/s]"
     ]
    },
    {
     "name": "stdout",
     "output_type": "stream",
     "text": [
      "2\n",
      "y_mean 8.837491521395314\n",
      "mean_mean 8.83560806209823\n",
      "abs(round((mean_mean-y_mean)/y_mean)) 0.0\n",
      "1\n",
      "y_mean 7.717073933095577\n",
      "mean_mean 7.528652790845173\n",
      "abs(round((mean_mean-y_mean)/y_mean)) 0.0\n"
     ]
    },
    {
     "name": "stderr",
     "output_type": "stream",
     "text": [
      "\r",
      " 50%|████▉     | 179/360 [02:39<02:46,  1.09it/s]"
     ]
    },
    {
     "name": "stdout",
     "output_type": "stream",
     "text": [
      "2\n",
      "y_mean 7.717073933095577\n",
      "mean_mean 7.69566331200544\n",
      "abs(round((mean_mean-y_mean)/y_mean)) 0.0\n",
      "1\n",
      "y_mean 9.337132139766284\n",
      "mean_mean 9.336547629439544\n",
      "abs(round((mean_mean-y_mean)/y_mean)) 0.0\n"
     ]
    },
    {
     "name": "stderr",
     "output_type": "stream",
     "text": [
      "\r",
      " 50%|█████     | 180/360 [02:40<02:42,  1.11it/s]"
     ]
    },
    {
     "name": "stdout",
     "output_type": "stream",
     "text": [
      "2\n",
      "y_mean 9.337132139766284\n",
      "mean_mean 9.336429510382168\n",
      "abs(round((mean_mean-y_mean)/y_mean)) 0.0\n",
      "1\n",
      "y_mean 4.180565944813549\n",
      "mean_mean 4.090895259204819\n",
      "abs(round((mean_mean-y_mean)/y_mean)) 0.0\n"
     ]
    },
    {
     "name": "stderr",
     "output_type": "stream",
     "text": [
      "\r",
      " 50%|█████     | 181/360 [02:40<02:35,  1.15it/s]"
     ]
    },
    {
     "name": "stdout",
     "output_type": "stream",
     "text": [
      "2\n",
      "y_mean 4.180565944813549\n",
      "mean_mean 4.089809656377292\n",
      "abs(round((mean_mean-y_mean)/y_mean)) 0.0\n",
      "1\n",
      "y_mean 7.731944935722843\n",
      "mean_mean 7.730563677733532\n",
      "abs(round((mean_mean-y_mean)/y_mean)) 0.0\n"
     ]
    },
    {
     "name": "stderr",
     "output_type": "stream",
     "text": [
      "\r",
      " 51%|█████     | 182/360 [02:42<03:02,  1.02s/it]"
     ]
    },
    {
     "name": "stdout",
     "output_type": "stream",
     "text": [
      "2\n",
      "y_mean 7.731944935722843\n",
      "mean_mean 7.729639382898158\n",
      "abs(round((mean_mean-y_mean)/y_mean)) 0.0\n",
      "1\n",
      "y_mean 5.6222300228782025\n",
      "mean_mean 5.560379663285704\n",
      "abs(round((mean_mean-y_mean)/y_mean)) 0.0\n"
     ]
    },
    {
     "name": "stderr",
     "output_type": "stream",
     "text": [
      "\r",
      " 51%|█████     | 183/360 [02:43<02:46,  1.06it/s]"
     ]
    },
    {
     "name": "stdout",
     "output_type": "stream",
     "text": [
      "2\n",
      "y_mean 5.6222300228782025\n",
      "mean_mean 5.579461787308149\n",
      "abs(round((mean_mean-y_mean)/y_mean)) 0.0\n",
      "1\n",
      "y_mean 7.691787656236566\n",
      "mean_mean 7.69072849556241\n",
      "abs(round((mean_mean-y_mean)/y_mean)) 0.0\n"
     ]
    },
    {
     "name": "stderr",
     "output_type": "stream",
     "text": [
      "\r",
      " 51%|█████     | 184/360 [02:43<02:36,  1.12it/s]"
     ]
    },
    {
     "name": "stdout",
     "output_type": "stream",
     "text": [
      "2\n",
      "y_mean 7.691787656236566\n",
      "mean_mean 7.690728488129761\n",
      "abs(round((mean_mean-y_mean)/y_mean)) 0.0\n",
      "1\n",
      "y_mean 6.13184711622751\n",
      "mean_mean 5.873924767125853\n",
      "abs(round((mean_mean-y_mean)/y_mean)) 0.0\n"
     ]
    },
    {
     "name": "stderr",
     "output_type": "stream",
     "text": [
      "\r",
      " 51%|█████▏    | 185/360 [02:44<02:30,  1.16it/s]"
     ]
    },
    {
     "name": "stdout",
     "output_type": "stream",
     "text": [
      "2\n",
      "y_mean 6.13184711622751\n",
      "mean_mean 6.1014386614229315\n",
      "abs(round((mean_mean-y_mean)/y_mean)) 0.0\n",
      "1\n",
      "y_mean 8.241932571114813\n",
      "mean_mean 8.240735344320662\n",
      "abs(round((mean_mean-y_mean)/y_mean)) 0.0\n"
     ]
    },
    {
     "name": "stderr",
     "output_type": "stream",
     "text": [
      "\r",
      " 52%|█████▏    | 186/360 [02:45<02:30,  1.16it/s]"
     ]
    },
    {
     "name": "stdout",
     "output_type": "stream",
     "text": [
      "2\n",
      "y_mean 8.241932571114813\n",
      "mean_mean 8.24073527657402\n",
      "abs(round((mean_mean-y_mean)/y_mean)) 0.0\n",
      "1\n",
      "y_mean 4.202085552056747\n",
      "mean_mean 4.1458935602391636\n",
      "abs(round((mean_mean-y_mean)/y_mean)) 0.0\n"
     ]
    },
    {
     "name": "stderr",
     "output_type": "stream",
     "text": [
      "\r",
      " 52%|█████▏    | 187/360 [02:46<02:23,  1.21it/s]"
     ]
    },
    {
     "name": "stdout",
     "output_type": "stream",
     "text": [
      "2\n",
      "y_mean 4.202085552056747\n",
      "mean_mean 4.137777904679282\n",
      "abs(round((mean_mean-y_mean)/y_mean)) 0.0\n",
      "1\n",
      "y_mean 7.239850785760932\n",
      "mean_mean 7.236501832796007\n",
      "abs(round((mean_mean-y_mean)/y_mean)) 0.0\n"
     ]
    },
    {
     "name": "stderr",
     "output_type": "stream",
     "text": [
      "\r",
      " 52%|█████▏    | 188/360 [02:47<02:22,  1.21it/s]"
     ]
    },
    {
     "name": "stdout",
     "output_type": "stream",
     "text": [
      "2\n",
      "y_mean 7.239850785760932\n",
      "mean_mean 7.235079929934231\n",
      "abs(round((mean_mean-y_mean)/y_mean)) 0.0\n",
      "1\n",
      "y_mean 5.857677960695423\n",
      "mean_mean 5.627217012476269\n",
      "abs(round((mean_mean-y_mean)/y_mean)) 0.0\n"
     ]
    },
    {
     "name": "stderr",
     "output_type": "stream",
     "text": [
      "\r",
      " 52%|█████▎    | 189/360 [02:47<02:20,  1.22it/s]"
     ]
    },
    {
     "name": "stdout",
     "output_type": "stream",
     "text": [
      "2\n",
      "y_mean 5.857677960695423\n",
      "mean_mean 5.832403321932602\n",
      "abs(round((mean_mean-y_mean)/y_mean)) 0.0\n",
      "1\n",
      "y_mean 8.66694146219493\n",
      "mean_mean 8.665046388431211\n",
      "abs(round((mean_mean-y_mean)/y_mean)) 0.0\n"
     ]
    },
    {
     "name": "stderr",
     "output_type": "stream",
     "text": [
      "\r",
      " 53%|█████▎    | 190/360 [02:48<02:18,  1.23it/s]"
     ]
    },
    {
     "name": "stdout",
     "output_type": "stream",
     "text": [
      "2\n",
      "y_mean 8.66694146219493\n",
      "mean_mean 8.664805176329391\n",
      "abs(round((mean_mean-y_mean)/y_mean)) 0.0\n",
      "1\n",
      "y_mean 7.571170491131809\n",
      "mean_mean 7.575495563234616\n",
      "abs(round((mean_mean-y_mean)/y_mean)) 0.0\n"
     ]
    },
    {
     "name": "stderr",
     "output_type": "stream",
     "text": [
      "\r",
      " 53%|█████▎    | 191/360 [02:49<02:17,  1.23it/s]"
     ]
    },
    {
     "name": "stdout",
     "output_type": "stream",
     "text": [
      "2\n",
      "y_mean 7.571170491131809\n",
      "mean_mean 7.560667469410442\n",
      "abs(round((mean_mean-y_mean)/y_mean)) 0.0\n",
      "1\n",
      "y_mean 8.85463423194026\n",
      "mean_mean 8.853976496542996\n",
      "abs(round((mean_mean-y_mean)/y_mean)) 0.0\n"
     ]
    },
    {
     "name": "stderr",
     "output_type": "stream",
     "text": [
      "\r",
      " 53%|█████▎    | 192/360 [02:50<02:14,  1.25it/s]"
     ]
    },
    {
     "name": "stdout",
     "output_type": "stream",
     "text": [
      "2\n",
      "y_mean 8.85463423194026\n",
      "mean_mean 8.853726919462177\n",
      "abs(round((mean_mean-y_mean)/y_mean)) 0.0\n",
      "1\n",
      "y_mean 5.558098988027144\n",
      "mean_mean 5.407440347345289\n",
      "abs(round((mean_mean-y_mean)/y_mean)) 0.0\n"
     ]
    },
    {
     "name": "stderr",
     "output_type": "stream",
     "text": [
      "\r",
      " 54%|█████▎    | 193/360 [02:51<02:17,  1.22it/s]"
     ]
    },
    {
     "name": "stdout",
     "output_type": "stream",
     "text": [
      "2\n",
      "y_mean 5.558098988027144\n",
      "mean_mean 5.4840502421858845\n",
      "abs(round((mean_mean-y_mean)/y_mean)) 0.0\n",
      "1\n",
      "y_mean 9.282176877730928\n",
      "mean_mean 9.280214309380375\n",
      "abs(round((mean_mean-y_mean)/y_mean)) 0.0\n"
     ]
    },
    {
     "name": "stderr",
     "output_type": "stream",
     "text": [
      "\r",
      " 54%|█████▍    | 194/360 [02:51<02:14,  1.23it/s]"
     ]
    },
    {
     "name": "stdout",
     "output_type": "stream",
     "text": [
      "2\n",
      "y_mean 9.282176877730928\n",
      "mean_mean 9.280140860813912\n",
      "abs(round((mean_mean-y_mean)/y_mean)) 0.0\n",
      "1\n",
      "y_mean 6.530539019106621\n",
      "mean_mean 6.553289249866607\n",
      "abs(round((mean_mean-y_mean)/y_mean)) 0.0\n"
     ]
    },
    {
     "name": "stderr",
     "output_type": "stream",
     "text": [
      "\r",
      " 54%|█████▍    | 195/360 [02:52<02:10,  1.26it/s]"
     ]
    },
    {
     "name": "stdout",
     "output_type": "stream",
     "text": [
      "2\n",
      "y_mean 6.530539019106621\n",
      "mean_mean 6.493067859547191\n",
      "abs(round((mean_mean-y_mean)/y_mean)) 0.0\n",
      "1\n",
      "y_mean 8.87819200270934\n",
      "mean_mean 8.877022305799526\n",
      "abs(round((mean_mean-y_mean)/y_mean)) 0.0\n"
     ]
    },
    {
     "name": "stderr",
     "output_type": "stream",
     "text": [
      "\r",
      " 54%|█████▍    | 196/360 [02:53<02:10,  1.26it/s]"
     ]
    },
    {
     "name": "stdout",
     "output_type": "stream",
     "text": [
      "2\n",
      "y_mean 8.87819200270934\n",
      "mean_mean 8.87674186392369\n",
      "abs(round((mean_mean-y_mean)/y_mean)) 0.0\n",
      "1\n",
      "y_mean 6.429965539773472\n",
      "mean_mean 6.452591703873338\n",
      "abs(round((mean_mean-y_mean)/y_mean)) 0.0\n"
     ]
    },
    {
     "name": "stderr",
     "output_type": "stream",
     "text": [
      "\r",
      " 55%|█████▍    | 197/360 [02:54<02:06,  1.29it/s]"
     ]
    },
    {
     "name": "stdout",
     "output_type": "stream",
     "text": [
      "2\n",
      "y_mean 6.429965539773472\n",
      "mean_mean 6.399324937903255\n",
      "abs(round((mean_mean-y_mean)/y_mean)) 0.0\n",
      "1\n",
      "y_mean 8.533142024677337\n",
      "mean_mean 8.532007010081504\n",
      "abs(round((mean_mean-y_mean)/y_mean)) 0.0\n"
     ]
    },
    {
     "name": "stderr",
     "output_type": "stream",
     "text": [
      "\r",
      " 55%|█████▌    | 198/360 [02:54<02:05,  1.29it/s]"
     ]
    },
    {
     "name": "stdout",
     "output_type": "stream",
     "text": [
      "2\n",
      "y_mean 8.533142024677337\n",
      "mean_mean 8.531741280481684\n",
      "abs(round((mean_mean-y_mean)/y_mean)) 0.0\n",
      "1\n",
      "y_mean 4.566655674747845\n",
      "mean_mean 4.87782877637634\n",
      "abs(round((mean_mean-y_mean)/y_mean)) 0.0\n"
     ]
    },
    {
     "name": "stderr",
     "output_type": "stream",
     "text": [
      "\r",
      " 55%|█████▌    | 199/360 [02:55<02:05,  1.28it/s]"
     ]
    },
    {
     "name": "stdout",
     "output_type": "stream",
     "text": [
      "2\n",
      "y_mean 4.566655674747845\n",
      "mean_mean 4.505557476901925\n",
      "abs(round((mean_mean-y_mean)/y_mean)) 0.0\n",
      "1\n",
      "y_mean 7.959265189377581\n",
      "mean_mean 7.956440816420626\n",
      "abs(round((mean_mean-y_mean)/y_mean)) 0.0\n"
     ]
    },
    {
     "name": "stderr",
     "output_type": "stream",
     "text": [
      "\r",
      " 56%|█████▌    | 200/360 [02:56<02:05,  1.27it/s]"
     ]
    },
    {
     "name": "stdout",
     "output_type": "stream",
     "text": [
      "2\n",
      "y_mean 7.959265189377581\n",
      "mean_mean 7.9564406358063176\n",
      "abs(round((mean_mean-y_mean)/y_mean)) 0.0\n",
      "1\n",
      "y_mean 5.734860007949088\n",
      "mean_mean 5.882537494086126\n",
      "abs(round((mean_mean-y_mean)/y_mean)) 0.0\n"
     ]
    },
    {
     "name": "stderr",
     "output_type": "stream",
     "text": [
      "\r",
      " 56%|█████▌    | 201/360 [02:57<02:05,  1.27it/s]"
     ]
    },
    {
     "name": "stdout",
     "output_type": "stream",
     "text": [
      "2\n",
      "y_mean 5.734860007949088\n",
      "mean_mean 5.698446228935807\n",
      "abs(round((mean_mean-y_mean)/y_mean)) 0.0\n",
      "1\n",
      "y_mean 7.977472043548482\n",
      "mean_mean 7.9763678626989\n",
      "abs(round((mean_mean-y_mean)/y_mean)) 0.0\n"
     ]
    },
    {
     "name": "stderr",
     "output_type": "stream",
     "text": [
      "\r",
      " 56%|█████▌    | 202/360 [02:58<02:06,  1.25it/s]"
     ]
    },
    {
     "name": "stdout",
     "output_type": "stream",
     "text": [
      "2\n",
      "y_mean 7.977472043548482\n",
      "mean_mean 7.976367979525985\n",
      "abs(round((mean_mean-y_mean)/y_mean)) 0.0\n",
      "1\n",
      "y_mean 7.287157675345717\n",
      "mean_mean 7.293609194721139\n",
      "abs(round((mean_mean-y_mean)/y_mean)) 0.0\n"
     ]
    },
    {
     "name": "stderr",
     "output_type": "stream",
     "text": [
      "\r",
      " 56%|█████▋    | 203/360 [02:58<02:04,  1.26it/s]"
     ]
    },
    {
     "name": "stdout",
     "output_type": "stream",
     "text": [
      "2\n",
      "y_mean 7.287157675345717\n",
      "mean_mean 7.2749185105117125\n",
      "abs(round((mean_mean-y_mean)/y_mean)) 0.0\n",
      "1\n",
      "y_mean 9.020068958590558\n",
      "mean_mean 9.019916261048206\n",
      "abs(round((mean_mean-y_mean)/y_mean)) 0.0\n"
     ]
    },
    {
     "name": "stderr",
     "output_type": "stream",
     "text": [
      "\r",
      " 57%|█████▋    | 204/360 [02:59<02:02,  1.27it/s]"
     ]
    },
    {
     "name": "stdout",
     "output_type": "stream",
     "text": [
      "2\n",
      "y_mean 9.020068958590558\n",
      "mean_mean 9.019387755287568\n",
      "abs(round((mean_mean-y_mean)/y_mean)) 0.0\n",
      "1\n",
      "y_mean 5.495388020219291\n",
      "mean_mean 5.430919881220481\n",
      "abs(round((mean_mean-y_mean)/y_mean)) 0.0\n"
     ]
    },
    {
     "name": "stderr",
     "output_type": "stream",
     "text": [
      "\r",
      " 57%|█████▋    | 205/360 [03:00<02:01,  1.27it/s]"
     ]
    },
    {
     "name": "stdout",
     "output_type": "stream",
     "text": [
      "2\n",
      "y_mean 5.495388020219291\n",
      "mean_mean 5.430916868946075\n",
      "abs(round((mean_mean-y_mean)/y_mean)) 0.0\n",
      "1\n",
      "y_mean 8.546730231579136\n",
      "mean_mean 8.543441268193888\n",
      "abs(round((mean_mean-y_mean)/y_mean)) 0.0\n"
     ]
    },
    {
     "name": "stderr",
     "output_type": "stream",
     "text": [
      "\r",
      " 57%|█████▋    | 206/360 [03:01<02:00,  1.28it/s]"
     ]
    },
    {
     "name": "stdout",
     "output_type": "stream",
     "text": [
      "2\n",
      "y_mean 8.546730231579136\n",
      "mean_mean 8.541974887551092\n",
      "abs(round((mean_mean-y_mean)/y_mean)) 0.0\n",
      "1\n",
      "y_mean 6.190445277434148\n",
      "mean_mean 5.872368620262148\n",
      "abs(round((mean_mean-y_mean)/y_mean)) 0.0\n"
     ]
    },
    {
     "name": "stderr",
     "output_type": "stream",
     "text": [
      "\r",
      " 57%|█████▊    | 207/360 [03:02<01:57,  1.30it/s]"
     ]
    },
    {
     "name": "stdout",
     "output_type": "stream",
     "text": [
      "2\n",
      "y_mean 6.190445277434148\n",
      "mean_mean 6.152243502729026\n",
      "abs(round((mean_mean-y_mean)/y_mean)) 0.0\n",
      "1\n",
      "y_mean 9.055315397515129\n",
      "mean_mean 9.053975361296784\n",
      "abs(round((mean_mean-y_mean)/y_mean)) 0.0\n"
     ]
    },
    {
     "name": "stderr",
     "output_type": "stream",
     "text": [
      "\r",
      " 58%|█████▊    | 208/360 [03:02<01:58,  1.28it/s]"
     ]
    },
    {
     "name": "stdout",
     "output_type": "stream",
     "text": [
      "2\n",
      "y_mean 9.055315397515129\n",
      "mean_mean 9.053975295779722\n",
      "abs(round((mean_mean-y_mean)/y_mean)) 0.0\n",
      "1\n",
      "y_mean 8.063372412220966\n",
      "mean_mean 7.778741029054356\n",
      "abs(round((mean_mean-y_mean)/y_mean)) 0.0\n"
     ]
    },
    {
     "name": "stderr",
     "output_type": "stream",
     "text": [
      "\r",
      " 58%|█████▊    | 209/360 [03:03<01:57,  1.28it/s]"
     ]
    },
    {
     "name": "stdout",
     "output_type": "stream",
     "text": [
      "2\n",
      "y_mean 8.063372412220966\n",
      "mean_mean 8.04914604944347\n",
      "abs(round((mean_mean-y_mean)/y_mean)) 0.0\n",
      "1\n",
      "y_mean 9.610025888663522\n",
      "mean_mean 9.60944669341988\n",
      "abs(round((mean_mean-y_mean)/y_mean)) 0.0\n"
     ]
    },
    {
     "name": "stderr",
     "output_type": "stream",
     "text": [
      "\r",
      " 58%|█████▊    | 210/360 [03:04<01:55,  1.30it/s]"
     ]
    },
    {
     "name": "stdout",
     "output_type": "stream",
     "text": [
      "2\n",
      "y_mean 9.610025888663522\n",
      "mean_mean 9.609286939557428\n",
      "abs(round((mean_mean-y_mean)/y_mean)) 0.0\n",
      "1\n",
      "y_mean 4.4472310407877895\n",
      "mean_mean 4.222395995187879\n",
      "abs(round((mean_mean-y_mean)/y_mean)) 0.0\n"
     ]
    },
    {
     "name": "stderr",
     "output_type": "stream",
     "text": [
      "\r",
      " 59%|█████▊    | 211/360 [03:05<01:56,  1.28it/s]"
     ]
    },
    {
     "name": "stdout",
     "output_type": "stream",
     "text": [
      "2\n",
      "y_mean 4.4472310407877895\n",
      "mean_mean 4.399714142533815\n",
      "abs(round((mean_mean-y_mean)/y_mean)) 0.0\n",
      "1\n",
      "y_mean 7.451328847953373\n",
      "mean_mean 7.448297548746064\n",
      "abs(round((mean_mean-y_mean)/y_mean)) 0.0\n"
     ]
    },
    {
     "name": "stderr",
     "output_type": "stream",
     "text": [
      "\r",
      " 59%|█████▉    | 212/360 [03:05<01:54,  1.29it/s]"
     ]
    },
    {
     "name": "stdout",
     "output_type": "stream",
     "text": [
      "2\n",
      "y_mean 7.451328847953373\n",
      "mean_mean 7.448297514123011\n",
      "abs(round((mean_mean-y_mean)/y_mean)) 0.0\n",
      "1\n",
      "y_mean 5.086998083006598\n",
      "mean_mean 5.065683877362104\n",
      "abs(round((mean_mean-y_mean)/y_mean)) 0.0\n"
     ]
    },
    {
     "name": "stderr",
     "output_type": "stream",
     "text": [
      "\r",
      " 59%|█████▉    | 213/360 [03:06<01:55,  1.27it/s]"
     ]
    },
    {
     "name": "stdout",
     "output_type": "stream",
     "text": [
      "2\n",
      "y_mean 5.086998083006598\n",
      "mean_mean 5.065693003798313\n",
      "abs(round((mean_mean-y_mean)/y_mean)) 0.0\n",
      "1\n",
      "y_mean 7.213361503975359\n",
      "mean_mean 7.211622873140974\n",
      "abs(round((mean_mean-y_mean)/y_mean)) 0.0\n"
     ]
    },
    {
     "name": "stderr",
     "output_type": "stream",
     "text": [
      "\r",
      " 59%|█████▉    | 214/360 [03:07<01:55,  1.26it/s]"
     ]
    },
    {
     "name": "stdout",
     "output_type": "stream",
     "text": [
      "2\n",
      "y_mean 7.213361503975359\n",
      "mean_mean 7.211609958496284\n",
      "abs(round((mean_mean-y_mean)/y_mean)) 0.0\n",
      "1\n",
      "y_mean 6.750683771508617\n",
      "mean_mean 6.7445042778410516\n",
      "abs(round((mean_mean-y_mean)/y_mean)) 0.0\n"
     ]
    },
    {
     "name": "stderr",
     "output_type": "stream",
     "text": [
      "\r",
      " 60%|█████▉    | 215/360 [03:08<01:53,  1.27it/s]"
     ]
    },
    {
     "name": "stdout",
     "output_type": "stream",
     "text": [
      "2\n",
      "y_mean 6.750683771508617\n",
      "mean_mean 6.737165089770684\n",
      "abs(round((mean_mean-y_mean)/y_mean)) 0.0\n",
      "1\n",
      "y_mean 8.359434281524493\n",
      "mean_mean 8.357151957466586\n",
      "abs(round((mean_mean-y_mean)/y_mean)) 0.0\n"
     ]
    },
    {
     "name": "stderr",
     "output_type": "stream",
     "text": [
      "\r",
      " 60%|██████    | 216/360 [03:09<01:52,  1.28it/s]"
     ]
    },
    {
     "name": "stdout",
     "output_type": "stream",
     "text": [
      "2\n",
      "y_mean 8.359434281524493\n",
      "mean_mean 8.357105875534275\n",
      "abs(round((mean_mean-y_mean)/y_mean)) 0.0\n",
      "1\n",
      "y_mean 7.591425730984814\n",
      "mean_mean 7.74177459108287\n",
      "abs(round((mean_mean-y_mean)/y_mean)) 0.0\n"
     ]
    },
    {
     "name": "stderr",
     "output_type": "stream",
     "text": [
      "\r",
      " 60%|██████    | 217/360 [03:09<01:50,  1.29it/s]"
     ]
    },
    {
     "name": "stdout",
     "output_type": "stream",
     "text": [
      "2\n",
      "y_mean 7.591425730984814\n",
      "mean_mean 7.565610250585652\n",
      "abs(round((mean_mean-y_mean)/y_mean)) 0.0\n",
      "1\n",
      "y_mean 9.66449028932302\n",
      "mean_mean 9.661853107113442\n",
      "abs(round((mean_mean-y_mean)/y_mean)) 0.0\n"
     ]
    },
    {
     "name": "stderr",
     "output_type": "stream",
     "text": [
      "\r",
      " 61%|██████    | 218/360 [03:10<01:54,  1.24it/s]"
     ]
    },
    {
     "name": "stdout",
     "output_type": "stream",
     "text": [
      "2\n",
      "y_mean 9.66449028932302\n",
      "mean_mean 9.66185335276523\n",
      "abs(round((mean_mean-y_mean)/y_mean)) 0.0\n",
      "1\n",
      "y_mean 7.329209301769118\n",
      "mean_mean 7.419312497004903\n",
      "abs(round((mean_mean-y_mean)/y_mean)) 0.0\n"
     ]
    },
    {
     "name": "stderr",
     "output_type": "stream",
     "text": [
      "\r",
      " 61%|██████    | 219/360 [03:11<01:52,  1.25it/s]"
     ]
    },
    {
     "name": "stdout",
     "output_type": "stream",
     "text": [
      "2\n",
      "y_mean 7.329209301769118\n",
      "mean_mean 7.306273174780103\n",
      "abs(round((mean_mean-y_mean)/y_mean)) 0.0\n",
      "1\n",
      "y_mean 9.37564645374265\n",
      "mean_mean 9.374212770124839\n",
      "abs(round((mean_mean-y_mean)/y_mean)) 0.0\n"
     ]
    },
    {
     "name": "stderr",
     "output_type": "stream",
     "text": [
      "\r",
      " 61%|██████    | 220/360 [03:12<01:49,  1.28it/s]"
     ]
    },
    {
     "name": "stdout",
     "output_type": "stream",
     "text": [
      "2\n",
      "y_mean 9.37564645374265\n",
      "mean_mean 9.374212540635073\n",
      "abs(round((mean_mean-y_mean)/y_mean)) 0.0\n",
      "1\n",
      "y_mean 7.360953299336265\n",
      "mean_mean 7.361055910047656\n",
      "abs(round((mean_mean-y_mean)/y_mean)) 0.0\n"
     ]
    },
    {
     "name": "stderr",
     "output_type": "stream",
     "text": [
      "\r",
      " 61%|██████▏   | 221/360 [03:12<01:41,  1.38it/s]"
     ]
    },
    {
     "name": "stdout",
     "output_type": "stream",
     "text": [
      "2\n",
      "y_mean 7.360953299336265\n",
      "mean_mean 7.3497964283472506\n",
      "abs(round((mean_mean-y_mean)/y_mean)) 0.0\n",
      "1\n",
      "y_mean 9.037343833612445\n",
      "mean_mean 9.0360823855519\n",
      "abs(round((mean_mean-y_mean)/y_mean)) 0.0\n"
     ]
    },
    {
     "name": "stderr",
     "output_type": "stream",
     "text": [
      "\r",
      " 62%|██████▏   | 222/360 [03:13<01:44,  1.33it/s]"
     ]
    },
    {
     "name": "stdout",
     "output_type": "stream",
     "text": [
      "2\n",
      "y_mean 9.037343833612445\n",
      "mean_mean 9.0360824291553\n",
      "abs(round((mean_mean-y_mean)/y_mean)) 0.0\n",
      "1\n",
      "y_mean 4.67039558501234\n",
      "mean_mean 4.8957840285621135\n",
      "abs(round((mean_mean-y_mean)/y_mean)) 0.0\n"
     ]
    },
    {
     "name": "stderr",
     "output_type": "stream",
     "text": [
      "\r",
      " 62%|██████▏   | 223/360 [03:14<01:35,  1.43it/s]"
     ]
    },
    {
     "name": "stdout",
     "output_type": "stream",
     "text": [
      "2\n",
      "y_mean 4.67039558501234\n",
      "mean_mean 4.599039258116768\n",
      "abs(round((mean_mean-y_mean)/y_mean)) 0.0\n",
      "1\n",
      "y_mean 8.180862950323274\n",
      "mean_mean 8.17829901045763\n",
      "abs(round((mean_mean-y_mean)/y_mean)) 0.0\n"
     ]
    },
    {
     "name": "stderr",
     "output_type": "stream",
     "text": [
      "\r",
      " 62%|██████▏   | 224/360 [03:14<01:32,  1.48it/s]"
     ]
    },
    {
     "name": "stdout",
     "output_type": "stream",
     "text": [
      "2\n",
      "y_mean 8.180862950323274\n",
      "mean_mean 8.17829895001917\n",
      "abs(round((mean_mean-y_mean)/y_mean)) 0.0\n",
      "1\n",
      "y_mean 5.644938236363002\n",
      "mean_mean 5.990118958449996\n",
      "abs(round((mean_mean-y_mean)/y_mean)) 0.0\n"
     ]
    },
    {
     "name": "stderr",
     "output_type": "stream",
     "text": [
      "\r",
      " 62%|██████▎   | 225/360 [03:15<01:33,  1.45it/s]"
     ]
    },
    {
     "name": "stdout",
     "output_type": "stream",
     "text": [
      "2\n",
      "y_mean 5.644938236363002\n",
      "mean_mean 5.587722676586871\n",
      "abs(round((mean_mean-y_mean)/y_mean)) 0.0\n",
      "1\n",
      "y_mean 8.44631708420981\n",
      "mean_mean 8.44540905199959\n",
      "abs(round((mean_mean-y_mean)/y_mean)) 0.0\n"
     ]
    },
    {
     "name": "stderr",
     "output_type": "stream",
     "text": [
      "\r",
      " 63%|██████▎   | 226/360 [03:16<01:28,  1.51it/s]"
     ]
    },
    {
     "name": "stdout",
     "output_type": "stream",
     "text": [
      "2\n",
      "y_mean 8.44631708420981\n",
      "mean_mean 8.445354364098305\n",
      "abs(round((mean_mean-y_mean)/y_mean)) 0.0\n",
      "1\n",
      "y_mean 6.411697474150609\n",
      "mean_mean 6.410083224521048\n",
      "abs(round((mean_mean-y_mean)/y_mean)) 0.0\n"
     ]
    },
    {
     "name": "stderr",
     "output_type": "stream",
     "text": [
      "\r",
      " 63%|██████▎   | 227/360 [03:16<01:25,  1.55it/s]"
     ]
    },
    {
     "name": "stdout",
     "output_type": "stream",
     "text": [
      "2\n",
      "y_mean 6.411697474150609\n",
      "mean_mean 6.38415187283223\n",
      "abs(round((mean_mean-y_mean)/y_mean)) 0.0\n",
      "1\n",
      "y_mean 8.832329406332237\n",
      "mean_mean 8.831467910713311\n",
      "abs(round((mean_mean-y_mean)/y_mean)) 0.0\n"
     ]
    },
    {
     "name": "stderr",
     "output_type": "stream",
     "text": [
      "\r",
      " 63%|██████▎   | 228/360 [03:17<01:23,  1.58it/s]"
     ]
    },
    {
     "name": "stdout",
     "output_type": "stream",
     "text": [
      "2\n",
      "y_mean 8.832329406332237\n",
      "mean_mean 8.831443319527324\n",
      "abs(round((mean_mean-y_mean)/y_mean)) 0.0\n",
      "1\n",
      "y_mean 4.180570899516379\n",
      "mean_mean 4.241841871018338\n",
      "abs(round((mean_mean-y_mean)/y_mean)) 0.0\n"
     ]
    },
    {
     "name": "stderr",
     "output_type": "stream",
     "text": [
      "\r",
      " 64%|██████▎   | 229/360 [03:18<01:22,  1.60it/s]"
     ]
    },
    {
     "name": "stdout",
     "output_type": "stream",
     "text": [
      "2\n",
      "y_mean 4.180570899516379\n",
      "mean_mean 4.109316786922015\n",
      "abs(round((mean_mean-y_mean)/y_mean)) 0.0\n",
      "1\n",
      "y_mean 7.694370102742521\n",
      "mean_mean 7.691908858098474\n",
      "abs(round((mean_mean-y_mean)/y_mean)) 0.0\n"
     ]
    },
    {
     "name": "stderr",
     "output_type": "stream",
     "text": [
      "\r",
      " 64%|██████▍   | 230/360 [03:18<01:20,  1.61it/s]"
     ]
    },
    {
     "name": "stdout",
     "output_type": "stream",
     "text": [
      "2\n",
      "y_mean 7.694370102742521\n",
      "mean_mean 7.691908703911772\n",
      "abs(round((mean_mean-y_mean)/y_mean)) 0.0\n",
      "1\n",
      "y_mean 5.468619166921546\n",
      "mean_mean 5.41989462628434\n",
      "abs(round((mean_mean-y_mean)/y_mean)) 0.0\n"
     ]
    },
    {
     "name": "stderr",
     "output_type": "stream",
     "text": [
      "\r",
      " 64%|██████▍   | 231/360 [03:19<01:20,  1.60it/s]"
     ]
    },
    {
     "name": "stdout",
     "output_type": "stream",
     "text": [
      "2\n",
      "y_mean 5.468619166921546\n",
      "mean_mean 5.4198934326797295\n",
      "abs(round((mean_mean-y_mean)/y_mean)) 0.0\n",
      "1\n",
      "y_mean 9.019000043522741\n",
      "mean_mean 9.015951143984038\n",
      "abs(round((mean_mean-y_mean)/y_mean)) 0.0\n"
     ]
    },
    {
     "name": "stderr",
     "output_type": "stream",
     "text": [
      "\r",
      " 64%|██████▍   | 232/360 [03:19<01:18,  1.62it/s]"
     ]
    },
    {
     "name": "stdout",
     "output_type": "stream",
     "text": [
      "2\n",
      "y_mean 9.019000043522741\n",
      "mean_mean 9.015950316880042\n",
      "abs(round((mean_mean-y_mean)/y_mean)) 0.0\n",
      "1\n",
      "y_mean 6.348079822051147\n",
      "mean_mean 6.323282148014109\n",
      "abs(round((mean_mean-y_mean)/y_mean)) 0.0\n"
     ]
    },
    {
     "name": "stderr",
     "output_type": "stream",
     "text": [
      "\r",
      " 65%|██████▍   | 233/360 [03:20<01:18,  1.63it/s]"
     ]
    },
    {
     "name": "stdout",
     "output_type": "stream",
     "text": [
      "2\n",
      "y_mean 6.348079822051147\n",
      "mean_mean 6.316810664432609\n",
      "abs(round((mean_mean-y_mean)/y_mean)) 0.0\n",
      "1\n",
      "y_mean 8.999654786564701\n",
      "mean_mean 8.997554009120643\n",
      "abs(round((mean_mean-y_mean)/y_mean)) 0.0\n"
     ]
    },
    {
     "name": "stderr",
     "output_type": "stream",
     "text": [
      "\r",
      " 65%|██████▌   | 234/360 [03:21<01:17,  1.62it/s]"
     ]
    },
    {
     "name": "stdout",
     "output_type": "stream",
     "text": [
      "2\n",
      "y_mean 8.999654786564701\n",
      "mean_mean 8.997554610782178\n",
      "abs(round((mean_mean-y_mean)/y_mean)) 0.0\n",
      "1\n",
      "y_mean 4.052585983296557\n",
      "mean_mean 4.512970487587996\n",
      "abs(round((mean_mean-y_mean)/y_mean)) 0.0\n"
     ]
    },
    {
     "name": "stderr",
     "output_type": "stream",
     "text": [
      "\r",
      " 65%|██████▌   | 235/360 [03:21<01:16,  1.63it/s]"
     ]
    },
    {
     "name": "stdout",
     "output_type": "stream",
     "text": [
      "2\n",
      "y_mean 4.052585983296557\n",
      "mean_mean 3.9073072457564377\n",
      "abs(round((mean_mean-y_mean)/y_mean)) 0.0\n",
      "1\n",
      "y_mean 8.732078715850093\n",
      "mean_mean 8.730186845655357\n",
      "abs(round((mean_mean-y_mean)/y_mean)) 0.0\n"
     ]
    },
    {
     "name": "stderr",
     "output_type": "stream",
     "text": [
      "\r",
      " 66%|██████▌   | 236/360 [03:22<01:16,  1.62it/s]"
     ]
    },
    {
     "name": "stdout",
     "output_type": "stream",
     "text": [
      "2\n",
      "y_mean 8.732078715850093\n",
      "mean_mean 8.73018691717948\n",
      "abs(round((mean_mean-y_mean)/y_mean)) 0.0\n",
      "1\n",
      "y_mean 5.638779315733559\n",
      "mean_mean 5.996432666834341\n",
      "abs(round((mean_mean-y_mean)/y_mean)) 0.0\n"
     ]
    },
    {
     "name": "stderr",
     "output_type": "stream",
     "text": [
      "\r",
      " 66%|██████▌   | 237/360 [03:22<01:15,  1.64it/s]"
     ]
    },
    {
     "name": "stdout",
     "output_type": "stream",
     "text": [
      "2\n",
      "y_mean 5.638779315733559\n",
      "mean_mean 5.581100896850338\n",
      "abs(round((mean_mean-y_mean)/y_mean)) 0.0\n",
      "1\n",
      "y_mean 8.733149481216476\n",
      "mean_mean 8.732656695387252\n",
      "abs(round((mean_mean-y_mean)/y_mean)) 0.0\n"
     ]
    },
    {
     "name": "stderr",
     "output_type": "stream",
     "text": [
      "\r",
      " 66%|██████▌   | 238/360 [03:23<01:14,  1.63it/s]"
     ]
    },
    {
     "name": "stdout",
     "output_type": "stream",
     "text": [
      "2\n",
      "y_mean 8.733149481216476\n",
      "mean_mean 8.73225083045146\n",
      "abs(round((mean_mean-y_mean)/y_mean)) 0.0\n",
      "1\n",
      "y_mean 7.675689217693471\n",
      "mean_mean 7.979515997893351\n",
      "abs(round((mean_mean-y_mean)/y_mean)) 0.0\n"
     ]
    },
    {
     "name": "stderr",
     "output_type": "stream",
     "text": [
      "\r",
      " 66%|██████▋   | 239/360 [03:24<01:14,  1.62it/s]"
     ]
    },
    {
     "name": "stdout",
     "output_type": "stream",
     "text": [
      "2\n",
      "y_mean 7.675689217693471\n",
      "mean_mean 7.6594527558407295\n",
      "abs(round((mean_mean-y_mean)/y_mean)) 0.0\n",
      "1\n",
      "y_mean 8.953104039895313\n",
      "mean_mean 8.952527784988348\n",
      "abs(round((mean_mean-y_mean)/y_mean)) 0.0\n"
     ]
    },
    {
     "name": "stderr",
     "output_type": "stream",
     "text": [
      "\r",
      " 67%|██████▋   | 240/360 [03:24<01:14,  1.61it/s]"
     ]
    },
    {
     "name": "stdout",
     "output_type": "stream",
     "text": [
      "2\n",
      "y_mean 8.953104039895313\n",
      "mean_mean 8.952527785588446\n",
      "abs(round((mean_mean-y_mean)/y_mean)) 0.0\n",
      "1\n",
      "y_mean 4.498541364606076\n",
      "mean_mean 4.414058838760867\n",
      "abs(round((mean_mean-y_mean)/y_mean)) 0.0\n"
     ]
    },
    {
     "name": "stderr",
     "output_type": "stream",
     "text": [
      "\r",
      " 67%|██████▋   | 241/360 [03:25<01:12,  1.64it/s]"
     ]
    },
    {
     "name": "stdout",
     "output_type": "stream",
     "text": [
      "2\n",
      "y_mean 4.498541364606076\n",
      "mean_mean 4.414089043017384\n",
      "abs(round((mean_mean-y_mean)/y_mean)) 0.0\n",
      "1\n",
      "y_mean 9.126578843380639\n",
      "mean_mean 9.124550513473778\n",
      "abs(round((mean_mean-y_mean)/y_mean)) 0.0\n"
     ]
    },
    {
     "name": "stderr",
     "output_type": "stream",
     "text": [
      "\r",
      " 67%|██████▋   | 242/360 [03:25<01:12,  1.63it/s]"
     ]
    },
    {
     "name": "stdout",
     "output_type": "stream",
     "text": [
      "2\n",
      "y_mean 9.126578843380639\n",
      "mean_mean 9.123387521549231\n",
      "abs(round((mean_mean-y_mean)/y_mean)) 0.0\n",
      "1\n",
      "y_mean 5.861307783923425\n",
      "mean_mean 5.596680803009808\n",
      "abs(round((mean_mean-y_mean)/y_mean)) 0.0\n"
     ]
    },
    {
     "name": "stderr",
     "output_type": "stream",
     "text": [
      "\r",
      " 68%|██████▊   | 243/360 [03:26<01:11,  1.63it/s]"
     ]
    },
    {
     "name": "stdout",
     "output_type": "stream",
     "text": [
      "2\n",
      "y_mean 5.861307783923425\n",
      "mean_mean 5.830126431700239\n",
      "abs(round((mean_mean-y_mean)/y_mean)) 0.0\n",
      "1\n",
      "y_mean 8.98812701682781\n",
      "mean_mean 8.987071775895943\n",
      "abs(round((mean_mean-y_mean)/y_mean)) 0.0\n"
     ]
    },
    {
     "name": "stderr",
     "output_type": "stream",
     "text": [
      "\r",
      " 68%|██████▊   | 244/360 [03:27<01:11,  1.63it/s]"
     ]
    },
    {
     "name": "stdout",
     "output_type": "stream",
     "text": [
      "2\n",
      "y_mean 8.98812701682781\n",
      "mean_mean 8.986247949391444\n",
      "abs(round((mean_mean-y_mean)/y_mean)) 0.0\n",
      "1\n",
      "y_mean 5.965754715610608\n",
      "mean_mean 5.6928202975526405\n",
      "abs(round((mean_mean-y_mean)/y_mean)) 0.0\n"
     ]
    },
    {
     "name": "stderr",
     "output_type": "stream",
     "text": [
      "\r",
      " 68%|██████▊   | 245/360 [03:27<01:10,  1.63it/s]"
     ]
    },
    {
     "name": "stdout",
     "output_type": "stream",
     "text": [
      "2\n",
      "y_mean 5.965754715610608\n",
      "mean_mean 5.942202701000545\n",
      "abs(round((mean_mean-y_mean)/y_mean)) 0.0\n",
      "1\n",
      "y_mean 8.661512608488986\n",
      "mean_mean 8.660537412288551\n",
      "abs(round((mean_mean-y_mean)/y_mean)) 0.0\n"
     ]
    },
    {
     "name": "stderr",
     "output_type": "stream",
     "text": [
      "\r",
      " 68%|██████▊   | 246/360 [03:28<01:10,  1.63it/s]"
     ]
    },
    {
     "name": "stdout",
     "output_type": "stream",
     "text": [
      "2\n",
      "y_mean 8.661512608488986\n",
      "mean_mean 8.659929832051212\n",
      "abs(round((mean_mean-y_mean)/y_mean)) 0.0\n",
      "1\n",
      "y_mean 4.467170863999694\n",
      "mean_mean 4.540048805508973\n",
      "abs(round((mean_mean-y_mean)/y_mean)) 0.0\n"
     ]
    },
    {
     "name": "stderr",
     "output_type": "stream",
     "text": [
      "\r",
      " 69%|██████▊   | 247/360 [03:29<01:08,  1.66it/s]"
     ]
    },
    {
     "name": "stdout",
     "output_type": "stream",
     "text": [
      "2\n",
      "y_mean 4.467170863999694\n",
      "mean_mean 4.408182844329358\n",
      "abs(round((mean_mean-y_mean)/y_mean)) 0.0\n",
      "1\n",
      "y_mean 7.155358652840462\n",
      "mean_mean 7.153868401285254\n",
      "abs(round((mean_mean-y_mean)/y_mean)) 0.0\n"
     ]
    },
    {
     "name": "stderr",
     "output_type": "stream",
     "text": [
      "\r",
      " 69%|██████▉   | 248/360 [03:29<01:06,  1.67it/s]"
     ]
    },
    {
     "name": "stdout",
     "output_type": "stream",
     "text": [
      "2\n",
      "y_mean 7.155358652840462\n",
      "mean_mean 7.153506559496235\n",
      "abs(round((mean_mean-y_mean)/y_mean)) 0.0\n",
      "1\n",
      "y_mean 5.8855806821397545\n",
      "mean_mean 5.695311742770955\n",
      "abs(round((mean_mean-y_mean)/y_mean)) 0.0\n"
     ]
    },
    {
     "name": "stderr",
     "output_type": "stream",
     "text": [
      "\r",
      " 69%|██████▉   | 249/360 [03:30<01:06,  1.68it/s]"
     ]
    },
    {
     "name": "stdout",
     "output_type": "stream",
     "text": [
      "2\n",
      "y_mean 5.8855806821397545\n",
      "mean_mean 5.863251405416844\n",
      "abs(round((mean_mean-y_mean)/y_mean)) 0.0\n",
      "1\n",
      "y_mean 8.28469832910903\n",
      "mean_mean 8.352839923821588\n",
      "abs(round((mean_mean-y_mean)/y_mean)) 0.0\n"
     ]
    },
    {
     "name": "stderr",
     "output_type": "stream",
     "text": [
      "\r",
      " 69%|██████▉   | 250/360 [03:30<01:05,  1.68it/s]"
     ]
    },
    {
     "name": "stdout",
     "output_type": "stream",
     "text": [
      "2\n",
      "y_mean 8.28469832910903\n",
      "mean_mean 8.283020969823179\n",
      "abs(round((mean_mean-y_mean)/y_mean)) 0.0\n",
      "1\n",
      "y_mean 7.236121615074075\n",
      "mean_mean 7.281159155441324\n",
      "abs(round((mean_mean-y_mean)/y_mean)) 0.0\n"
     ]
    },
    {
     "name": "stderr",
     "output_type": "stream",
     "text": [
      "\r",
      " 70%|██████▉   | 251/360 [03:31<01:04,  1.70it/s]"
     ]
    },
    {
     "name": "stdout",
     "output_type": "stream",
     "text": [
      "2\n",
      "y_mean 7.236121615074075\n",
      "mean_mean 7.227197185934383\n",
      "abs(round((mean_mean-y_mean)/y_mean)) 0.0\n",
      "1\n",
      "y_mean 8.588481646500705\n",
      "mean_mean 8.587796066228869\n",
      "abs(round((mean_mean-y_mean)/y_mean)) 0.0\n"
     ]
    },
    {
     "name": "stderr",
     "output_type": "stream",
     "text": [
      "\r",
      " 70%|███████   | 252/360 [03:32<01:08,  1.58it/s]"
     ]
    },
    {
     "name": "stdout",
     "output_type": "stream",
     "text": [
      "2\n",
      "y_mean 8.588481646500705\n",
      "mean_mean 8.587795871532789\n",
      "abs(round((mean_mean-y_mean)/y_mean)) 0.0\n",
      "1\n",
      "y_mean 5.49947682236956\n",
      "mean_mean 5.027546382644918\n",
      "abs(round((mean_mean-y_mean)/y_mean)) 0.0\n"
     ]
    },
    {
     "name": "stderr",
     "output_type": "stream",
     "text": [
      "\r",
      " 70%|███████   | 253/360 [03:32<01:06,  1.60it/s]"
     ]
    },
    {
     "name": "stdout",
     "output_type": "stream",
     "text": [
      "2\n",
      "y_mean 5.49947682236956\n",
      "mean_mean 5.402249949704541\n",
      "abs(round((mean_mean-y_mean)/y_mean)) 0.0\n",
      "1\n",
      "y_mean 9.675986015204225\n",
      "mean_mean 9.674026668673427\n",
      "abs(round((mean_mean-y_mean)/y_mean)) 0.0\n"
     ]
    },
    {
     "name": "stderr",
     "output_type": "stream",
     "text": [
      "\r",
      " 71%|███████   | 254/360 [03:33<01:06,  1.59it/s]"
     ]
    },
    {
     "name": "stdout",
     "output_type": "stream",
     "text": [
      "2\n",
      "y_mean 9.675986015204225\n",
      "mean_mean 9.673401357621291\n",
      "abs(round((mean_mean-y_mean)/y_mean)) 0.0\n",
      "1\n",
      "y_mean 6.151773908921306\n",
      "mean_mean 5.7197464456983065\n",
      "abs(round((mean_mean-y_mean)/y_mean)) 0.0\n"
     ]
    },
    {
     "name": "stderr",
     "output_type": "stream",
     "text": [
      "\r",
      " 71%|███████   | 255/360 [03:33<01:04,  1.63it/s]"
     ]
    },
    {
     "name": "stdout",
     "output_type": "stream",
     "text": [
      "2\n",
      "y_mean 6.151773908921306\n",
      "mean_mean 6.102147839818741\n",
      "abs(round((mean_mean-y_mean)/y_mean)) 0.0\n",
      "1\n",
      "y_mean 9.650309929556407\n",
      "mean_mean 9.649709999381223\n",
      "abs(round((mean_mean-y_mean)/y_mean)) 0.0\n"
     ]
    },
    {
     "name": "stderr",
     "output_type": "stream",
     "text": [
      "\r",
      " 71%|███████   | 256/360 [03:34<01:03,  1.64it/s]"
     ]
    },
    {
     "name": "stdout",
     "output_type": "stream",
     "text": [
      "2\n",
      "y_mean 9.650309929556407\n",
      "mean_mean 9.648608405603314\n",
      "abs(round((mean_mean-y_mean)/y_mean)) 0.0\n",
      "1\n",
      "y_mean 7.828741066481295\n",
      "mean_mean 7.713121590510622\n",
      "abs(round((mean_mean-y_mean)/y_mean)) 0.0\n"
     ]
    },
    {
     "name": "stderr",
     "output_type": "stream",
     "text": [
      "\r",
      " 71%|███████▏  | 257/360 [03:35<01:01,  1.66it/s]"
     ]
    },
    {
     "name": "stdout",
     "output_type": "stream",
     "text": [
      "2\n",
      "y_mean 7.828741066481295\n",
      "mean_mean 7.816247536806842\n",
      "abs(round((mean_mean-y_mean)/y_mean)) 0.0\n",
      "1\n",
      "y_mean 9.646351113371953\n",
      "mean_mean 9.67754807598483\n",
      "abs(round((mean_mean-y_mean)/y_mean)) 0.0\n"
     ]
    },
    {
     "name": "stderr",
     "output_type": "stream",
     "text": [
      "\r",
      " 72%|███████▏  | 258/360 [03:35<01:00,  1.67it/s]"
     ]
    },
    {
     "name": "stdout",
     "output_type": "stream",
     "text": [
      "2\n",
      "y_mean 9.646351113371953\n",
      "mean_mean 9.645495464883922\n",
      "abs(round((mean_mean-y_mean)/y_mean)) 0.0\n",
      "1\n",
      "y_mean 4.006471014274291\n",
      "mean_mean 4.256362330109617\n",
      "abs(round((mean_mean-y_mean)/y_mean)) 0.0\n"
     ]
    },
    {
     "name": "stderr",
     "output_type": "stream",
     "text": [
      "\r",
      " 72%|███████▏  | 259/360 [03:36<01:00,  1.67it/s]"
     ]
    },
    {
     "name": "stdout",
     "output_type": "stream",
     "text": [
      "2\n",
      "y_mean 4.006471014274291\n",
      "mean_mean 3.93413106169818\n",
      "abs(round((mean_mean-y_mean)/y_mean)) 0.0\n",
      "1\n",
      "y_mean 6.715473993788901\n",
      "mean_mean 6.713861395085973\n",
      "abs(round((mean_mean-y_mean)/y_mean)) 0.0\n"
     ]
    },
    {
     "name": "stderr",
     "output_type": "stream",
     "text": [
      "\r",
      " 72%|███████▏  | 260/360 [03:36<01:00,  1.66it/s]"
     ]
    },
    {
     "name": "stdout",
     "output_type": "stream",
     "text": [
      "2\n",
      "y_mean 6.715473993788901\n",
      "mean_mean 6.713861640847338\n",
      "abs(round((mean_mean-y_mean)/y_mean)) 0.0\n",
      "1\n",
      "y_mean 5.352168638859557\n",
      "mean_mean 5.179334505483398\n",
      "abs(round((mean_mean-y_mean)/y_mean)) 0.0\n"
     ]
    },
    {
     "name": "stderr",
     "output_type": "stream",
     "text": [
      "\r",
      " 72%|███████▎  | 261/360 [03:37<00:59,  1.66it/s]"
     ]
    },
    {
     "name": "stdout",
     "output_type": "stream",
     "text": [
      "2\n",
      "y_mean 5.352168638859557\n",
      "mean_mean 5.3189857161394505\n",
      "abs(round((mean_mean-y_mean)/y_mean)) 0.0\n",
      "1\n",
      "y_mean 8.321478484986232\n",
      "mean_mean 8.319951576651755\n",
      "abs(round((mean_mean-y_mean)/y_mean)) 0.0\n"
     ]
    },
    {
     "name": "stderr",
     "output_type": "stream",
     "text": [
      "\r",
      " 73%|███████▎  | 262/360 [03:38<00:59,  1.66it/s]"
     ]
    },
    {
     "name": "stdout",
     "output_type": "stream",
     "text": [
      "2\n",
      "y_mean 8.321478484986232\n",
      "mean_mean 8.319950739761072\n",
      "abs(round((mean_mean-y_mean)/y_mean)) 0.0\n",
      "1\n",
      "y_mean 6.674931279807608\n",
      "mean_mean 6.832145759094559\n",
      "abs(round((mean_mean-y_mean)/y_mean)) 0.0\n"
     ]
    },
    {
     "name": "stderr",
     "output_type": "stream",
     "text": [
      "\r",
      " 73%|███████▎  | 263/360 [03:38<00:57,  1.68it/s]"
     ]
    },
    {
     "name": "stdout",
     "output_type": "stream",
     "text": [
      "2\n",
      "y_mean 6.674931279807608\n",
      "mean_mean 6.633464056896002\n",
      "abs(round((mean_mean-y_mean)/y_mean)) 0.0\n",
      "1\n",
      "y_mean 8.880654416995661\n",
      "mean_mean 8.880286302778256\n",
      "abs(round((mean_mean-y_mean)/y_mean)) 0.0\n"
     ]
    },
    {
     "name": "stderr",
     "output_type": "stream",
     "text": [
      "\r",
      " 73%|███████▎  | 264/360 [03:39<00:57,  1.66it/s]"
     ]
    },
    {
     "name": "stdout",
     "output_type": "stream",
     "text": [
      "2\n",
      "y_mean 8.880654416995661\n",
      "mean_mean 8.87994939065274\n",
      "abs(round((mean_mean-y_mean)/y_mean)) 0.0\n",
      "1\n",
      "y_mean 5.090998380855373\n",
      "mean_mean 5.035848570549889\n",
      "abs(round((mean_mean-y_mean)/y_mean)) 0.0\n"
     ]
    },
    {
     "name": "stderr",
     "output_type": "stream",
     "text": [
      "\r",
      " 74%|███████▎  | 265/360 [03:39<00:57,  1.66it/s]"
     ]
    },
    {
     "name": "stdout",
     "output_type": "stream",
     "text": [
      "2\n",
      "y_mean 5.090998380855373\n",
      "mean_mean 5.02392959912173\n",
      "abs(round((mean_mean-y_mean)/y_mean)) 0.0\n",
      "Cholesky decomposition was not successful.\n",
      "1\n",
      "y_mean 9.89344815517189\n",
      "mean_mean 9.891169157315215\n",
      "abs(round((mean_mean-y_mean)/y_mean)) 0.0\n",
      "1\n",
      "y_mean 9.89344815517189\n",
      "mean_mean 9.891169157315215\n",
      "abs(round((mean_mean-y_mean)/y_mean)) 0.0\n"
     ]
    },
    {
     "name": "stderr",
     "output_type": "stream",
     "text": [
      "\r",
      " 74%|███████▍  | 266/360 [03:40<01:06,  1.42it/s]"
     ]
    },
    {
     "name": "stdout",
     "output_type": "stream",
     "text": [
      "2\n",
      "y_mean 9.89344815517189\n",
      "mean_mean 9.891169213808093\n",
      "abs(round((mean_mean-y_mean)/y_mean)) 0.0\n",
      "1\n",
      "y_mean 6.207445232692423\n",
      "mean_mean 6.366038279077556\n",
      "abs(round((mean_mean-y_mean)/y_mean)) 0.0\n"
     ]
    },
    {
     "name": "stderr",
     "output_type": "stream",
     "text": [
      "\r",
      " 74%|███████▍  | 267/360 [03:41<01:02,  1.48it/s]"
     ]
    },
    {
     "name": "stdout",
     "output_type": "stream",
     "text": [
      "2\n",
      "y_mean 6.207445232692423\n",
      "mean_mean 6.161304205058125\n",
      "abs(round((mean_mean-y_mean)/y_mean)) 0.0\n",
      "1\n",
      "y_mean 9.848601762679417\n",
      "mean_mean 9.846973145787064\n",
      "abs(round((mean_mean-y_mean)/y_mean)) 0.0\n"
     ]
    },
    {
     "name": "stderr",
     "output_type": "stream",
     "text": [
      "\r",
      " 74%|███████▍  | 268/360 [03:42<01:01,  1.50it/s]"
     ]
    },
    {
     "name": "stdout",
     "output_type": "stream",
     "text": [
      "2\n",
      "y_mean 9.848601762679417\n",
      "mean_mean 9.846978587890153\n",
      "abs(round((mean_mean-y_mean)/y_mean)) 0.0\n",
      "1\n",
      "y_mean 7.054187563155158\n",
      "mean_mean 7.254910951952763\n",
      "abs(round((mean_mean-y_mean)/y_mean)) 0.0\n"
     ]
    },
    {
     "name": "stderr",
     "output_type": "stream",
     "text": [
      "\r",
      " 75%|███████▍  | 269/360 [03:42<00:59,  1.52it/s]"
     ]
    },
    {
     "name": "stdout",
     "output_type": "stream",
     "text": [
      "2\n",
      "y_mean 7.054187563155158\n",
      "mean_mean 7.0330034000758985\n",
      "abs(round((mean_mean-y_mean)/y_mean)) 0.0\n",
      "1\n",
      "y_mean 9.587941307325918\n",
      "mean_mean 9.586802248814456\n",
      "abs(round((mean_mean-y_mean)/y_mean)) 0.0\n"
     ]
    },
    {
     "name": "stderr",
     "output_type": "stream",
     "text": [
      "\r",
      " 75%|███████▌  | 270/360 [03:43<01:12,  1.25it/s]"
     ]
    },
    {
     "name": "stdout",
     "output_type": "stream",
     "text": [
      "2\n",
      "y_mean 9.587941307325918\n",
      "mean_mean 9.586802236344457\n",
      "abs(round((mean_mean-y_mean)/y_mean)) 0.0\n",
      "1\n",
      "y_mean 4.699585273726169\n",
      "mean_mean 4.3534600328645805\n",
      "abs(round((mean_mean-y_mean)/y_mean)) 0.0\n"
     ]
    },
    {
     "name": "stderr",
     "output_type": "stream",
     "text": [
      "\r",
      " 75%|███████▌  | 271/360 [03:44<01:19,  1.12it/s]"
     ]
    },
    {
     "name": "stdout",
     "output_type": "stream",
     "text": [
      "2\n",
      "y_mean 4.699585273726169\n",
      "mean_mean 4.618355622557316\n",
      "abs(round((mean_mean-y_mean)/y_mean)) 0.0\n",
      "1\n",
      "y_mean 7.524256490440284\n",
      "mean_mean 7.525926735199183\n",
      "abs(round((mean_mean-y_mean)/y_mean)) 0.0\n"
     ]
    },
    {
     "name": "stderr",
     "output_type": "stream",
     "text": [
      "\r",
      " 76%|███████▌  | 272/360 [03:45<01:21,  1.08it/s]"
     ]
    },
    {
     "name": "stdout",
     "output_type": "stream",
     "text": [
      "2\n",
      "y_mean 7.524256490440284\n",
      "mean_mean 7.521037169438477\n",
      "abs(round((mean_mean-y_mean)/y_mean)) 0.0\n",
      "1\n",
      "y_mean 5.443749414647245\n",
      "mean_mean 5.4078764957941985\n",
      "abs(round((mean_mean-y_mean)/y_mean)) 0.0\n"
     ]
    },
    {
     "name": "stderr",
     "output_type": "stream",
     "text": [
      "\r",
      " 76%|███████▌  | 273/360 [03:46<01:18,  1.11it/s]"
     ]
    },
    {
     "name": "stdout",
     "output_type": "stream",
     "text": [
      "2\n",
      "y_mean 5.443749414647245\n",
      "mean_mean 5.40787939266519\n",
      "abs(round((mean_mean-y_mean)/y_mean)) 0.0\n",
      "1\n",
      "y_mean 7.2925872408024395\n",
      "mean_mean 7.2958270744182565\n",
      "abs(round((mean_mean-y_mean)/y_mean)) 0.0\n"
     ]
    },
    {
     "name": "stderr",
     "output_type": "stream",
     "text": [
      "\r",
      " 76%|███████▌  | 274/360 [03:47<01:16,  1.12it/s]"
     ]
    },
    {
     "name": "stdout",
     "output_type": "stream",
     "text": [
      "2\n",
      "y_mean 7.2925872408024395\n",
      "mean_mean 7.2909799162921125\n",
      "abs(round((mean_mean-y_mean)/y_mean)) 0.0\n",
      "1\n",
      "y_mean 6.201012701945333\n",
      "mean_mean 6.1847331506721455\n",
      "abs(round((mean_mean-y_mean)/y_mean)) 0.0\n"
     ]
    },
    {
     "name": "stderr",
     "output_type": "stream",
     "text": [
      "\r",
      " 76%|███████▋  | 275/360 [03:48<01:10,  1.20it/s]"
     ]
    },
    {
     "name": "stdout",
     "output_type": "stream",
     "text": [
      "2\n",
      "y_mean 6.201012701945333\n",
      "mean_mean 6.184070588718229\n",
      "abs(round((mean_mean-y_mean)/y_mean)) 0.0\n",
      "1\n",
      "y_mean 7.751824905422288\n",
      "mean_mean 7.751329839500597\n",
      "abs(round((mean_mean-y_mean)/y_mean)) 0.0\n"
     ]
    },
    {
     "name": "stderr",
     "output_type": "stream",
     "text": [
      "\r",
      " 77%|███████▋  | 276/360 [03:49<01:06,  1.27it/s]"
     ]
    },
    {
     "name": "stdout",
     "output_type": "stream",
     "text": [
      "2\n",
      "y_mean 7.751824905422288\n",
      "mean_mean 7.751029253897965\n",
      "abs(round((mean_mean-y_mean)/y_mean)) 0.0\n",
      "1\n",
      "y_mean 4.039072201398682\n",
      "mean_mean 4.047545745071127\n",
      "abs(round((mean_mean-y_mean)/y_mean)) 0.0\n"
     ]
    },
    {
     "name": "stderr",
     "output_type": "stream",
     "text": [
      "\r",
      " 77%|███████▋  | 277/360 [03:49<01:02,  1.34it/s]"
     ]
    },
    {
     "name": "stdout",
     "output_type": "stream",
     "text": [
      "2\n",
      "y_mean 4.039072201398682\n",
      "mean_mean 3.9872590762477245\n",
      "abs(round((mean_mean-y_mean)/y_mean)) 0.0\n",
      "1\n",
      "y_mean 5.558765315450478\n",
      "mean_mean 5.55621137910655\n",
      "abs(round((mean_mean-y_mean)/y_mean)) 0.0\n"
     ]
    },
    {
     "name": "stderr",
     "output_type": "stream",
     "text": [
      "\r",
      " 77%|███████▋  | 278/360 [03:50<00:59,  1.38it/s]"
     ]
    },
    {
     "name": "stdout",
     "output_type": "stream",
     "text": [
      "2\n",
      "y_mean 5.558765315450478\n",
      "mean_mean 5.556074211281072\n",
      "abs(round((mean_mean-y_mean)/y_mean)) 0.0\n",
      "1\n",
      "y_mean 5.891475887148183\n",
      "mean_mean 5.858488665776118\n",
      "abs(round((mean_mean-y_mean)/y_mean)) 0.0\n"
     ]
    },
    {
     "name": "stderr",
     "output_type": "stream",
     "text": [
      "\r",
      " 78%|███████▊  | 279/360 [03:51<00:59,  1.37it/s]"
     ]
    },
    {
     "name": "stdout",
     "output_type": "stream",
     "text": [
      "2\n",
      "y_mean 5.891475887148183\n",
      "mean_mean 5.8515932873220295\n",
      "abs(round((mean_mean-y_mean)/y_mean)) 0.0\n",
      "1\n",
      "y_mean 8.848935489873561\n",
      "mean_mean 8.84553213010948\n",
      "abs(round((mean_mean-y_mean)/y_mean)) 0.0\n"
     ]
    },
    {
     "name": "stderr",
     "output_type": "stream",
     "text": [
      "\r",
      " 78%|███████▊  | 280/360 [03:51<00:57,  1.39it/s]"
     ]
    },
    {
     "name": "stdout",
     "output_type": "stream",
     "text": [
      "2\n",
      "y_mean 8.848935489873561\n",
      "mean_mean 8.845531295047271\n",
      "abs(round((mean_mean-y_mean)/y_mean)) 0.0\n",
      "1\n",
      "y_mean 6.514989598001916\n",
      "mean_mean 6.344244115774692\n",
      "abs(round((mean_mean-y_mean)/y_mean)) 0.0\n"
     ]
    },
    {
     "name": "stderr",
     "output_type": "stream",
     "text": [
      "\r",
      " 78%|███████▊  | 281/360 [03:52<00:54,  1.44it/s]"
     ]
    },
    {
     "name": "stdout",
     "output_type": "stream",
     "text": [
      "2\n",
      "y_mean 6.514989598001916\n",
      "mean_mean 6.489525936314581\n",
      "abs(round((mean_mean-y_mean)/y_mean)) 0.0\n",
      "1\n",
      "y_mean 9.15075547555976\n",
      "mean_mean 9.149576661588462\n",
      "abs(round((mean_mean-y_mean)/y_mean)) 0.0\n"
     ]
    },
    {
     "name": "stderr",
     "output_type": "stream",
     "text": [
      "\r",
      " 78%|███████▊  | 282/360 [03:53<00:54,  1.43it/s]"
     ]
    },
    {
     "name": "stdout",
     "output_type": "stream",
     "text": [
      "2\n",
      "y_mean 9.15075547555976\n",
      "mean_mean 9.149575658715184\n",
      "abs(round((mean_mean-y_mean)/y_mean)) 0.0\n",
      "1\n",
      "y_mean 5.507644658032123\n",
      "mean_mean 5.4599611299299955\n",
      "abs(round((mean_mean-y_mean)/y_mean)) 0.0\n"
     ]
    },
    {
     "name": "stderr",
     "output_type": "stream",
     "text": [
      "\r",
      " 79%|███████▊  | 283/360 [03:53<00:54,  1.41it/s]"
     ]
    },
    {
     "name": "stdout",
     "output_type": "stream",
     "text": [
      "2\n",
      "y_mean 5.507644658032123\n",
      "mean_mean 5.459960389953359\n",
      "abs(round((mean_mean-y_mean)/y_mean)) 0.0\n",
      "Cholesky decomposition was not successful.\n",
      "Cholesky decomposition was not successful.\n",
      "1\n",
      "y_mean 8.018607154493829\n",
      "mean_mean 8.01486631715453\n",
      "abs(round((mean_mean-y_mean)/y_mean)) 0.0\n",
      "1\n",
      "y_mean 8.018607154493829\n",
      "mean_mean 8.01486631715453\n",
      "abs(round((mean_mean-y_mean)/y_mean)) 0.0\n",
      "1\n",
      "y_mean 8.018607154493829\n",
      "mean_mean 8.01486631715453\n",
      "abs(round((mean_mean-y_mean)/y_mean)) 0.0\n"
     ]
    },
    {
     "name": "stderr",
     "output_type": "stream",
     "text": [
      "\r",
      " 79%|███████▉  | 284/360 [03:56<01:27,  1.15s/it]"
     ]
    },
    {
     "name": "stdout",
     "output_type": "stream",
     "text": [
      "2\n",
      "y_mean 8.018607154493829\n",
      "mean_mean 8.014866961709116\n",
      "abs(round((mean_mean-y_mean)/y_mean)) 0.0\n",
      "1\n",
      "y_mean 5.552971988308996\n",
      "mean_mean 5.592307958214898\n",
      "abs(round((mean_mean-y_mean)/y_mean)) 0.0\n"
     ]
    },
    {
     "name": "stderr",
     "output_type": "stream",
     "text": [
      "\r",
      " 79%|███████▉  | 285/360 [03:57<01:28,  1.18s/it]"
     ]
    },
    {
     "name": "stdout",
     "output_type": "stream",
     "text": [
      "2\n",
      "y_mean 5.552971988308996\n",
      "mean_mean 5.514712225262603\n",
      "abs(round((mean_mean-y_mean)/y_mean)) 0.0\n",
      "1\n",
      "y_mean 7.818885820373532\n",
      "mean_mean 7.8175971886327655\n",
      "abs(round((mean_mean-y_mean)/y_mean)) 0.0\n"
     ]
    },
    {
     "name": "stderr",
     "output_type": "stream",
     "text": [
      "\r",
      " 79%|███████▉  | 286/360 [03:58<01:28,  1.19s/it]"
     ]
    },
    {
     "name": "stdout",
     "output_type": "stream",
     "text": [
      "2\n",
      "y_mean 7.818885820373532\n",
      "mean_mean 7.81759737226406\n",
      "abs(round((mean_mean-y_mean)/y_mean)) 0.0\n",
      "1\n",
      "y_mean 7.136608521873498\n",
      "mean_mean 7.291346782475227\n",
      "abs(round((mean_mean-y_mean)/y_mean)) 0.0\n"
     ]
    },
    {
     "name": "stderr",
     "output_type": "stream",
     "text": [
      "\r",
      " 80%|███████▉  | 287/360 [03:59<01:23,  1.14s/it]"
     ]
    },
    {
     "name": "stdout",
     "output_type": "stream",
     "text": [
      "2\n",
      "y_mean 7.136608521873498\n",
      "mean_mean 7.12352138280009\n",
      "abs(round((mean_mean-y_mean)/y_mean)) 0.0\n",
      "1\n",
      "y_mean 8.38269510571416\n",
      "mean_mean 8.381848793811425\n",
      "abs(round((mean_mean-y_mean)/y_mean)) 0.0\n"
     ]
    },
    {
     "name": "stderr",
     "output_type": "stream",
     "text": [
      "\r",
      " 80%|████████  | 288/360 [04:00<01:19,  1.11s/it]"
     ]
    },
    {
     "name": "stdout",
     "output_type": "stream",
     "text": [
      "2\n",
      "y_mean 8.38269510571416\n",
      "mean_mean 8.38184882443051\n",
      "abs(round((mean_mean-y_mean)/y_mean)) 0.0\n",
      "1\n",
      "y_mean 4.542849292260843\n",
      "mean_mean 4.229835369567698\n",
      "abs(round((mean_mean-y_mean)/y_mean)) 0.0\n"
     ]
    },
    {
     "name": "stderr",
     "output_type": "stream",
     "text": [
      "\r",
      " 80%|████████  | 289/360 [04:01<01:13,  1.04s/it]"
     ]
    },
    {
     "name": "stdout",
     "output_type": "stream",
     "text": [
      "2\n",
      "y_mean 4.542849292260843\n",
      "mean_mean 4.486475960972868\n",
      "abs(round((mean_mean-y_mean)/y_mean)) 0.0\n",
      "1\n",
      "y_mean 7.864165202321151\n",
      "mean_mean 7.862261137274425\n",
      "abs(round((mean_mean-y_mean)/y_mean)) 0.0\n"
     ]
    },
    {
     "name": "stderr",
     "output_type": "stream",
     "text": [
      "\r",
      " 81%|████████  | 290/360 [04:02<01:09,  1.01it/s]"
     ]
    },
    {
     "name": "stdout",
     "output_type": "stream",
     "text": [
      "2\n",
      "y_mean 7.864165202321151\n",
      "mean_mean 7.862261247771949\n",
      "abs(round((mean_mean-y_mean)/y_mean)) 0.0\n",
      "1\n",
      "y_mean 5.387675896657905\n",
      "mean_mean 5.135432499425419\n",
      "abs(round((mean_mean-y_mean)/y_mean)) 0.0\n"
     ]
    },
    {
     "name": "stderr",
     "output_type": "stream",
     "text": [
      "\r",
      " 81%|████████  | 291/360 [04:03<01:04,  1.07it/s]"
     ]
    },
    {
     "name": "stdout",
     "output_type": "stream",
     "text": [
      "2\n",
      "y_mean 5.387675896657905\n",
      "mean_mean 5.3591806139738205\n",
      "abs(round((mean_mean-y_mean)/y_mean)) 0.0\n",
      "1\n",
      "y_mean 8.108669179929905\n",
      "mean_mean 8.107648907374989\n",
      "abs(round((mean_mean-y_mean)/y_mean)) 0.0\n"
     ]
    },
    {
     "name": "stderr",
     "output_type": "stream",
     "text": [
      "\r",
      " 81%|████████  | 292/360 [04:03<00:58,  1.16it/s]"
     ]
    },
    {
     "name": "stdout",
     "output_type": "stream",
     "text": [
      "2\n",
      "y_mean 8.108669179929905\n",
      "mean_mean 8.107648885353033\n",
      "abs(round((mean_mean-y_mean)/y_mean)) 0.0\n",
      "1\n",
      "y_mean 6.173807698433042\n",
      "mean_mean 6.003951108020136\n",
      "abs(round((mean_mean-y_mean)/y_mean)) 0.0\n"
     ]
    },
    {
     "name": "stderr",
     "output_type": "stream",
     "text": [
      "\r",
      " 81%|████████▏ | 293/360 [04:04<00:53,  1.25it/s]"
     ]
    },
    {
     "name": "stdout",
     "output_type": "stream",
     "text": [
      "2\n",
      "y_mean 6.173807698433042\n",
      "mean_mean 6.153803143567552\n",
      "abs(round((mean_mean-y_mean)/y_mean)) 0.0\n",
      "1\n",
      "y_mean 8.56652963683868\n",
      "mean_mean 8.566269083964526\n",
      "abs(round((mean_mean-y_mean)/y_mean)) 0.0\n"
     ]
    },
    {
     "name": "stderr",
     "output_type": "stream",
     "text": [
      "\r",
      " 82%|████████▏ | 294/360 [04:05<00:50,  1.32it/s]"
     ]
    },
    {
     "name": "stdout",
     "output_type": "stream",
     "text": [
      "2\n",
      "y_mean 8.56652963683868\n",
      "mean_mean 8.566059469606003\n",
      "abs(round((mean_mean-y_mean)/y_mean)) 0.0\n",
      "1\n",
      "y_mean 4.572790668881656\n",
      "mean_mean 4.142038592587826\n",
      "abs(round((mean_mean-y_mean)/y_mean)) 0.0\n"
     ]
    },
    {
     "name": "stderr",
     "output_type": "stream",
     "text": [
      "\r",
      " 82%|████████▏ | 295/360 [04:05<00:48,  1.35it/s]"
     ]
    },
    {
     "name": "stdout",
     "output_type": "stream",
     "text": [
      "2\n",
      "y_mean 4.572790668881656\n",
      "mean_mean 4.496054975348896\n",
      "abs(round((mean_mean-y_mean)/y_mean)) 0.0\n",
      "1\n",
      "y_mean 9.337385312615522\n",
      "mean_mean 9.33507569246957\n",
      "abs(round((mean_mean-y_mean)/y_mean)) 0.0\n"
     ]
    },
    {
     "name": "stderr",
     "output_type": "stream",
     "text": [
      "\r",
      " 82%|████████▏ | 296/360 [04:06<00:47,  1.36it/s]"
     ]
    },
    {
     "name": "stdout",
     "output_type": "stream",
     "text": [
      "2\n",
      "y_mean 9.337385312615522\n",
      "mean_mean 9.335075749997475\n",
      "abs(round((mean_mean-y_mean)/y_mean)) 0.0\n",
      "1\n",
      "y_mean 5.671687702262872\n",
      "mean_mean 5.393157321539419\n",
      "abs(round((mean_mean-y_mean)/y_mean)) 0.0\n"
     ]
    },
    {
     "name": "stderr",
     "output_type": "stream",
     "text": [
      "\r",
      " 82%|████████▎ | 297/360 [04:07<00:44,  1.40it/s]"
     ]
    },
    {
     "name": "stdout",
     "output_type": "stream",
     "text": [
      "2\n",
      "y_mean 5.671687702262872\n",
      "mean_mean 5.632470112314843\n",
      "abs(round((mean_mean-y_mean)/y_mean)) 0.0\n",
      "1\n",
      "y_mean 9.186128835338764\n",
      "mean_mean 9.185234265965937\n",
      "abs(round((mean_mean-y_mean)/y_mean)) 0.0\n"
     ]
    },
    {
     "name": "stderr",
     "output_type": "stream",
     "text": [
      "\r",
      " 83%|████████▎ | 298/360 [04:07<00:44,  1.40it/s]"
     ]
    },
    {
     "name": "stdout",
     "output_type": "stream",
     "text": [
      "2\n",
      "y_mean 9.186128835338764\n",
      "mean_mean 9.185234095749001\n",
      "abs(round((mean_mean-y_mean)/y_mean)) 0.0\n",
      "1\n",
      "y_mean 6.594975577797501\n",
      "mean_mean 6.356463583388166\n",
      "abs(round((mean_mean-y_mean)/y_mean)) 0.0\n"
     ]
    },
    {
     "name": "stderr",
     "output_type": "stream",
     "text": [
      "\r",
      " 83%|████████▎ | 299/360 [04:08<00:42,  1.43it/s]"
     ]
    },
    {
     "name": "stdout",
     "output_type": "stream",
     "text": [
      "2\n",
      "y_mean 6.594975577797501\n",
      "mean_mean 6.56548089744358\n",
      "abs(round((mean_mean-y_mean)/y_mean)) 0.0\n",
      "1\n",
      "y_mean 9.42481588748275\n",
      "mean_mean 9.424196201309352\n",
      "abs(round((mean_mean-y_mean)/y_mean)) 0.0\n"
     ]
    },
    {
     "name": "stderr",
     "output_type": "stream",
     "text": [
      "\r",
      " 83%|████████▎ | 300/360 [04:09<00:41,  1.45it/s]"
     ]
    },
    {
     "name": "stdout",
     "output_type": "stream",
     "text": [
      "2\n",
      "y_mean 9.42481588748275\n",
      "mean_mean 9.424196111974808\n",
      "abs(round((mean_mean-y_mean)/y_mean)) 0.0\n",
      "1\n",
      "y_mean 4.5405789410862685\n",
      "mean_mean 4.823308561286792\n",
      "abs(round((mean_mean-y_mean)/y_mean)) 0.0\n"
     ]
    },
    {
     "name": "stderr",
     "output_type": "stream",
     "text": [
      "\r",
      " 84%|████████▎ | 301/360 [04:09<00:39,  1.48it/s]"
     ]
    },
    {
     "name": "stdout",
     "output_type": "stream",
     "text": [
      "2\n",
      "y_mean 4.5405789410862685\n",
      "mean_mean 4.42789100371685\n",
      "abs(round((mean_mean-y_mean)/y_mean)) 0.0\n",
      "1\n",
      "y_mean 8.357673409379764\n",
      "mean_mean 8.355525297367365\n",
      "abs(round((mean_mean-y_mean)/y_mean)) 0.0\n"
     ]
    },
    {
     "name": "stderr",
     "output_type": "stream",
     "text": [
      "\r",
      " 84%|████████▍ | 302/360 [04:10<00:39,  1.48it/s]"
     ]
    },
    {
     "name": "stdout",
     "output_type": "stream",
     "text": [
      "2\n",
      "y_mean 8.357673409379764\n",
      "mean_mean 8.355526408545458\n",
      "abs(round((mean_mean-y_mean)/y_mean)) 0.0\n",
      "1\n",
      "y_mean 6.292234835526918\n",
      "mean_mean 6.417826244557802\n",
      "abs(round((mean_mean-y_mean)/y_mean)) 0.0\n"
     ]
    },
    {
     "name": "stderr",
     "output_type": "stream",
     "text": [
      "\r",
      " 84%|████████▍ | 303/360 [04:11<00:37,  1.51it/s]"
     ]
    },
    {
     "name": "stdout",
     "output_type": "stream",
     "text": [
      "2\n",
      "y_mean 6.292234835526918\n",
      "mean_mean 6.255619217280618\n",
      "abs(round((mean_mean-y_mean)/y_mean)) 0.0\n",
      "1\n",
      "y_mean 8.243632693690024\n",
      "mean_mean 8.277782824587554\n",
      "abs(round((mean_mean-y_mean)/y_mean)) 0.0\n"
     ]
    },
    {
     "name": "stderr",
     "output_type": "stream",
     "text": [
      "\r",
      " 84%|████████▍ | 304/360 [04:11<00:36,  1.51it/s]"
     ]
    },
    {
     "name": "stdout",
     "output_type": "stream",
     "text": [
      "2\n",
      "y_mean 8.243632693690024\n",
      "mean_mean 8.242030244439324\n",
      "abs(round((mean_mean-y_mean)/y_mean)) 0.0\n",
      "1\n",
      "y_mean 6.722349480774227\n",
      "mean_mean 6.743042405590075\n",
      "abs(round((mean_mean-y_mean)/y_mean)) 0.0\n"
     ]
    },
    {
     "name": "stderr",
     "output_type": "stream",
     "text": [
      "\r",
      " 85%|████████▍ | 305/360 [04:12<00:36,  1.50it/s]"
     ]
    },
    {
     "name": "stdout",
     "output_type": "stream",
     "text": [
      "2\n",
      "y_mean 6.722349480774227\n",
      "mean_mean 6.701031319201405\n",
      "abs(round((mean_mean-y_mean)/y_mean)) 0.0\n",
      "1\n",
      "y_mean 9.006091488925112\n",
      "mean_mean 9.005479732314669\n",
      "abs(round((mean_mean-y_mean)/y_mean)) 0.0\n"
     ]
    },
    {
     "name": "stderr",
     "output_type": "stream",
     "text": [
      "\r",
      " 85%|████████▌ | 306/360 [04:13<00:37,  1.44it/s]"
     ]
    },
    {
     "name": "stdout",
     "output_type": "stream",
     "text": [
      "2\n",
      "y_mean 9.006091488925112\n",
      "mean_mean 9.005442194995316\n",
      "abs(round((mean_mean-y_mean)/y_mean)) 0.0\n",
      "1\n",
      "y_mean 6.069771914262328\n",
      "mean_mean 6.011022514510193\n",
      "abs(round((mean_mean-y_mean)/y_mean)) 0.0\n"
     ]
    },
    {
     "name": "stderr",
     "output_type": "stream",
     "text": [
      "\r",
      " 85%|████████▌ | 307/360 [04:14<00:36,  1.45it/s]"
     ]
    },
    {
     "name": "stdout",
     "output_type": "stream",
     "text": [
      "2\n",
      "y_mean 6.069771914262328\n",
      "mean_mean 5.993047243569321\n",
      "abs(round((mean_mean-y_mean)/y_mean)) 0.0\n",
      "1\n",
      "y_mean 9.352740630034413\n",
      "mean_mean 9.453194305864939\n",
      "abs(round((mean_mean-y_mean)/y_mean)) 0.0\n"
     ]
    },
    {
     "name": "stderr",
     "output_type": "stream",
     "text": [
      "\r",
      " 86%|████████▌ | 308/360 [04:14<00:35,  1.47it/s]"
     ]
    },
    {
     "name": "stdout",
     "output_type": "stream",
     "text": [
      "2\n",
      "y_mean 9.352740630034413\n",
      "mean_mean 9.35014698114689\n",
      "abs(round((mean_mean-y_mean)/y_mean)) 0.0\n",
      "1\n",
      "y_mean 6.675837361212242\n",
      "mean_mean 6.54792574209768\n",
      "abs(round((mean_mean-y_mean)/y_mean)) 0.0\n"
     ]
    },
    {
     "name": "stderr",
     "output_type": "stream",
     "text": [
      "\r",
      " 86%|████████▌ | 309/360 [04:15<00:34,  1.50it/s]"
     ]
    },
    {
     "name": "stdout",
     "output_type": "stream",
     "text": [
      "2\n",
      "y_mean 6.675837361212242\n",
      "mean_mean 6.646862449086534\n",
      "abs(round((mean_mean-y_mean)/y_mean)) 0.0\n",
      "1\n",
      "y_mean 9.077414367299895\n",
      "mean_mean 9.161664085571417\n",
      "abs(round((mean_mean-y_mean)/y_mean)) 0.0\n"
     ]
    },
    {
     "name": "stderr",
     "output_type": "stream",
     "text": [
      "\r",
      " 86%|████████▌ | 310/360 [04:15<00:33,  1.50it/s]"
     ]
    },
    {
     "name": "stdout",
     "output_type": "stream",
     "text": [
      "2\n",
      "y_mean 9.077414367299895\n",
      "mean_mean 9.075869509967575\n",
      "abs(round((mean_mean-y_mean)/y_mean)) 0.0\n",
      "1\n",
      "y_mean 7.466538744160349\n",
      "mean_mean 7.527030644058798\n",
      "abs(round((mean_mean-y_mean)/y_mean)) 0.0\n"
     ]
    },
    {
     "name": "stderr",
     "output_type": "stream",
     "text": [
      "\r",
      " 86%|████████▋ | 311/360 [04:16<00:32,  1.51it/s]"
     ]
    },
    {
     "name": "stdout",
     "output_type": "stream",
     "text": [
      "2\n",
      "y_mean 7.466538744160349\n",
      "mean_mean 7.4411603993338975\n",
      "abs(round((mean_mean-y_mean)/y_mean)) 0.0\n",
      "1\n",
      "y_mean 9.394502646792539\n",
      "mean_mean 9.393401121909868\n",
      "abs(round((mean_mean-y_mean)/y_mean)) 0.0\n"
     ]
    },
    {
     "name": "stderr",
     "output_type": "stream",
     "text": [
      "\r",
      " 87%|████████▋ | 312/360 [04:17<00:33,  1.42it/s]"
     ]
    },
    {
     "name": "stdout",
     "output_type": "stream",
     "text": [
      "2\n",
      "y_mean 9.394502646792539\n",
      "mean_mean 9.393401114684126\n",
      "abs(round((mean_mean-y_mean)/y_mean)) 0.0\n",
      "1\n",
      "y_mean 5.861697418717336\n",
      "mean_mean 5.78514558172613\n",
      "abs(round((mean_mean-y_mean)/y_mean)) 0.0\n"
     ]
    },
    {
     "name": "stderr",
     "output_type": "stream",
     "text": [
      "\r",
      " 87%|████████▋ | 313/360 [04:18<00:34,  1.37it/s]"
     ]
    },
    {
     "name": "stdout",
     "output_type": "stream",
     "text": [
      "2\n",
      "y_mean 5.861697418717336\n",
      "mean_mean 5.776997921047756\n",
      "abs(round((mean_mean-y_mean)/y_mean)) 0.0\n",
      "1\n",
      "y_mean 9.131447427546846\n",
      "mean_mean 9.128952312282626\n",
      "abs(round((mean_mean-y_mean)/y_mean)) 0.0\n"
     ]
    },
    {
     "name": "stderr",
     "output_type": "stream",
     "text": [
      "\r",
      " 87%|████████▋ | 314/360 [04:18<00:33,  1.38it/s]"
     ]
    },
    {
     "name": "stdout",
     "output_type": "stream",
     "text": [
      "2\n",
      "y_mean 9.131447427546846\n",
      "mean_mean 9.128952302790811\n",
      "abs(round((mean_mean-y_mean)/y_mean)) 0.0\n",
      "1\n",
      "y_mean 6.412821016177022\n",
      "mean_mean 6.399789153410925\n",
      "abs(round((mean_mean-y_mean)/y_mean)) 0.0\n"
     ]
    },
    {
     "name": "stderr",
     "output_type": "stream",
     "text": [
      "\r",
      " 88%|████████▊ | 315/360 [04:19<00:31,  1.43it/s]"
     ]
    },
    {
     "name": "stdout",
     "output_type": "stream",
     "text": [
      "2\n",
      "y_mean 6.412821016177022\n",
      "mean_mean 6.374840536495624\n",
      "abs(round((mean_mean-y_mean)/y_mean)) 0.0\n",
      "1\n",
      "y_mean 8.71190196423881\n",
      "mean_mean 8.710297072729723\n",
      "abs(round((mean_mean-y_mean)/y_mean)) 0.0\n"
     ]
    },
    {
     "name": "stderr",
     "output_type": "stream",
     "text": [
      "\r",
      " 88%|████████▊ | 316/360 [04:20<00:32,  1.36it/s]"
     ]
    },
    {
     "name": "stdout",
     "output_type": "stream",
     "text": [
      "2\n",
      "y_mean 8.71190196423881\n",
      "mean_mean 8.710296625432076\n",
      "abs(round((mean_mean-y_mean)/y_mean)) 0.0\n",
      "1\n",
      "y_mean 6.194901992408224\n",
      "mean_mean 6.189458441108883\n",
      "abs(round((mean_mean-y_mean)/y_mean)) 0.0\n"
     ]
    },
    {
     "name": "stderr",
     "output_type": "stream",
     "text": [
      "\r",
      " 88%|████████▊ | 317/360 [04:21<00:30,  1.41it/s]"
     ]
    },
    {
     "name": "stdout",
     "output_type": "stream",
     "text": [
      "2\n",
      "y_mean 6.194901992408224\n",
      "mean_mean 6.163474439288486\n",
      "abs(round((mean_mean-y_mean)/y_mean)) 0.0\n",
      "1\n",
      "y_mean 8.375056232197167\n",
      "mean_mean 8.373533588813997\n",
      "abs(round((mean_mean-y_mean)/y_mean)) 0.0\n"
     ]
    },
    {
     "name": "stderr",
     "output_type": "stream",
     "text": [
      "\r",
      " 88%|████████▊ | 318/360 [04:21<00:29,  1.44it/s]"
     ]
    },
    {
     "name": "stdout",
     "output_type": "stream",
     "text": [
      "2\n",
      "y_mean 8.375056232197167\n",
      "mean_mean 8.373533702905274\n",
      "abs(round((mean_mean-y_mean)/y_mean)) 0.0\n",
      "1\n",
      "y_mean 5.686563027497338\n",
      "mean_mean 5.271242504839259\n",
      "abs(round((mean_mean-y_mean)/y_mean)) 0.0\n"
     ]
    },
    {
     "name": "stderr",
     "output_type": "stream",
     "text": [
      "\r",
      " 89%|████████▊ | 319/360 [04:22<00:29,  1.39it/s]"
     ]
    },
    {
     "name": "stdout",
     "output_type": "stream",
     "text": [
      "2\n",
      "y_mean 5.686563027497338\n",
      "mean_mean 5.610217606409805\n",
      "abs(round((mean_mean-y_mean)/y_mean)) 0.0\n",
      "1\n",
      "y_mean 9.998784465459025\n",
      "mean_mean 9.996708525274876\n",
      "abs(round((mean_mean-y_mean)/y_mean)) 0.0\n"
     ]
    },
    {
     "name": "stderr",
     "output_type": "stream",
     "text": [
      "\r",
      " 89%|████████▉ | 320/360 [04:23<00:28,  1.38it/s]"
     ]
    },
    {
     "name": "stdout",
     "output_type": "stream",
     "text": [
      "2\n",
      "y_mean 9.998784465459025\n",
      "mean_mean 9.996708544351309\n",
      "abs(round((mean_mean-y_mean)/y_mean)) 0.0\n",
      "1\n",
      "y_mean 6.9499495049587345\n",
      "mean_mean 6.738168994627281\n",
      "abs(round((mean_mean-y_mean)/y_mean)) 0.0\n"
     ]
    },
    {
     "name": "stderr",
     "output_type": "stream",
     "text": [
      "\r",
      " 89%|████████▉ | 321/360 [04:23<00:27,  1.42it/s]"
     ]
    },
    {
     "name": "stdout",
     "output_type": "stream",
     "text": [
      "2\n",
      "y_mean 6.9499495049587345\n",
      "mean_mean 6.929346962111868\n",
      "abs(round((mean_mean-y_mean)/y_mean)) 0.0\n",
      "1\n",
      "y_mean 9.805129970494232\n",
      "mean_mean 9.803362600783005\n",
      "abs(round((mean_mean-y_mean)/y_mean)) 0.0\n"
     ]
    },
    {
     "name": "stderr",
     "output_type": "stream",
     "text": [
      "\r",
      " 89%|████████▉ | 322/360 [04:24<00:26,  1.44it/s]"
     ]
    },
    {
     "name": "stdout",
     "output_type": "stream",
     "text": [
      "2\n",
      "y_mean 9.805129970494232\n",
      "mean_mean 9.80336230502725\n",
      "abs(round((mean_mean-y_mean)/y_mean)) 0.0\n",
      "1\n",
      "y_mean 7.364906899170496\n",
      "mean_mean 7.113459656419231\n",
      "abs(round((mean_mean-y_mean)/y_mean)) 0.0\n"
     ]
    },
    {
     "name": "stderr",
     "output_type": "stream",
     "text": [
      "\r",
      " 90%|████████▉ | 323/360 [04:25<00:25,  1.47it/s]"
     ]
    },
    {
     "name": "stdout",
     "output_type": "stream",
     "text": [
      "2\n",
      "y_mean 7.364906899170496\n",
      "mean_mean 7.355441212125106\n",
      "abs(round((mean_mean-y_mean)/y_mean)) 0.0\n",
      "1\n",
      "y_mean 9.501254339256306\n",
      "mean_mean 9.499668535213152\n",
      "abs(round((mean_mean-y_mean)/y_mean)) 0.0\n"
     ]
    },
    {
     "name": "stderr",
     "output_type": "stream",
     "text": [
      "\r",
      " 90%|█████████ | 324/360 [04:25<00:24,  1.47it/s]"
     ]
    },
    {
     "name": "stdout",
     "output_type": "stream",
     "text": [
      "2\n",
      "y_mean 9.501254339256306\n",
      "mean_mean 9.499668565510772\n",
      "abs(round((mean_mean-y_mean)/y_mean)) 0.0\n",
      "1\n",
      "y_mean 5.799517681655012\n",
      "mean_mean 5.854607541202605\n",
      "abs(round((mean_mean-y_mean)/y_mean)) 0.0\n"
     ]
    },
    {
     "name": "stderr",
     "output_type": "stream",
     "text": [
      "\r",
      " 90%|█████████ | 325/360 [04:26<00:23,  1.49it/s]"
     ]
    },
    {
     "name": "stdout",
     "output_type": "stream",
     "text": [
      "2\n",
      "y_mean 5.799517681655012\n",
      "mean_mean 5.731473734470658\n",
      "abs(round((mean_mean-y_mean)/y_mean)) 0.0\n",
      "1\n",
      "y_mean 9.661994587425745\n",
      "mean_mean 9.660315245952965\n",
      "abs(round((mean_mean-y_mean)/y_mean)) 0.0\n"
     ]
    },
    {
     "name": "stderr",
     "output_type": "stream",
     "text": [
      "\r",
      " 91%|█████████ | 326/360 [04:27<00:23,  1.47it/s]"
     ]
    },
    {
     "name": "stdout",
     "output_type": "stream",
     "text": [
      "2\n",
      "y_mean 9.661994587425745\n",
      "mean_mean 9.660315207667445\n",
      "abs(round((mean_mean-y_mean)/y_mean)) 0.0\n",
      "1\n",
      "y_mean 6.78477294664785\n",
      "mean_mean 7.080455262900907\n",
      "abs(round((mean_mean-y_mean)/y_mean)) 0.0\n"
     ]
    },
    {
     "name": "stderr",
     "output_type": "stream",
     "text": [
      "\r",
      " 91%|█████████ | 327/360 [04:27<00:21,  1.50it/s]"
     ]
    },
    {
     "name": "stdout",
     "output_type": "stream",
     "text": [
      "2\n",
      "y_mean 6.78477294664785\n",
      "mean_mean 6.7536387844884835\n",
      "abs(round((mean_mean-y_mean)/y_mean)) 0.0\n",
      "1\n",
      "y_mean 9.317817522590941\n",
      "mean_mean 9.316559771423588\n",
      "abs(round((mean_mean-y_mean)/y_mean)) 0.0\n"
     ]
    },
    {
     "name": "stderr",
     "output_type": "stream",
     "text": [
      "\r",
      " 91%|█████████ | 328/360 [04:28<00:21,  1.48it/s]"
     ]
    },
    {
     "name": "stdout",
     "output_type": "stream",
     "text": [
      "2\n",
      "y_mean 9.317817522590941\n",
      "mean_mean 9.316545508639743\n",
      "abs(round((mean_mean-y_mean)/y_mean)) 0.0\n",
      "1\n",
      "y_mean 8.143347171239231\n",
      "mean_mean 8.120171580963307\n",
      "abs(round((mean_mean-y_mean)/y_mean)) 0.0\n"
     ]
    },
    {
     "name": "stderr",
     "output_type": "stream",
     "text": [
      "\r",
      " 91%|█████████▏| 329/360 [04:29<00:20,  1.49it/s]"
     ]
    },
    {
     "name": "stdout",
     "output_type": "stream",
     "text": [
      "2\n",
      "y_mean 8.143347171239231\n",
      "mean_mean 8.120172517208916\n",
      "abs(round((mean_mean-y_mean)/y_mean)) 0.0\n",
      "1\n",
      "y_mean 9.867049596843842\n",
      "mean_mean 9.866454054969124\n",
      "abs(round((mean_mean-y_mean)/y_mean)) 0.0\n"
     ]
    },
    {
     "name": "stderr",
     "output_type": "stream",
     "text": [
      "\r",
      " 92%|█████████▏| 330/360 [04:30<00:21,  1.38it/s]"
     ]
    },
    {
     "name": "stdout",
     "output_type": "stream",
     "text": [
      "2\n",
      "y_mean 9.867049596843842\n",
      "mean_mean 9.866454298616178\n",
      "abs(round((mean_mean-y_mean)/y_mean)) 0.0\n",
      "1\n",
      "y_mean 5.3389135069475975\n",
      "mean_mean 4.88892017822531\n",
      "abs(round((mean_mean-y_mean)/y_mean)) 0.0\n"
     ]
    },
    {
     "name": "stderr",
     "output_type": "stream",
     "text": [
      "\r",
      " 92%|█████████▏| 331/360 [04:31<00:23,  1.22it/s]"
     ]
    },
    {
     "name": "stdout",
     "output_type": "stream",
     "text": [
      "2\n",
      "y_mean 5.3389135069475975\n",
      "mean_mean 5.2698779514033705\n",
      "abs(round((mean_mean-y_mean)/y_mean)) 0.0\n",
      "1\n",
      "y_mean 9.566419561149395\n",
      "mean_mean 9.565357391986943\n",
      "abs(round((mean_mean-y_mean)/y_mean)) 0.0\n"
     ]
    },
    {
     "name": "stderr",
     "output_type": "stream",
     "text": [
      "\r",
      " 92%|█████████▏| 332/360 [04:31<00:23,  1.20it/s]"
     ]
    },
    {
     "name": "stdout",
     "output_type": "stream",
     "text": [
      "2\n",
      "y_mean 9.566419561149395\n",
      "mean_mean 9.565357092939774\n",
      "abs(round((mean_mean-y_mean)/y_mean)) 0.0\n",
      "1\n",
      "y_mean 5.433994693718671\n",
      "mean_mean 5.392411026644805\n",
      "abs(round((mean_mean-y_mean)/y_mean)) 0.0\n"
     ]
    },
    {
     "name": "stderr",
     "output_type": "stream",
     "text": [
      "\r",
      " 92%|█████████▎| 333/360 [04:32<00:21,  1.25it/s]"
     ]
    },
    {
     "name": "stdout",
     "output_type": "stream",
     "text": [
      "2\n",
      "y_mean 5.433994693718671\n",
      "mean_mean 5.379085115083934\n",
      "abs(round((mean_mean-y_mean)/y_mean)) 0.0\n",
      "1\n",
      "y_mean 9.131866227388095\n",
      "mean_mean 9.130933359534367\n",
      "abs(round((mean_mean-y_mean)/y_mean)) 0.0\n"
     ]
    },
    {
     "name": "stderr",
     "output_type": "stream",
     "text": [
      "\r",
      " 93%|█████████▎| 334/360 [04:33<00:20,  1.25it/s]"
     ]
    },
    {
     "name": "stdout",
     "output_type": "stream",
     "text": [
      "2\n",
      "y_mean 9.131866227388095\n",
      "mean_mean 9.130933469379364\n",
      "abs(round((mean_mean-y_mean)/y_mean)) 0.0\n",
      "1\n",
      "y_mean 6.718130990487922\n",
      "mean_mean 6.078473890053325\n",
      "abs(round((mean_mean-y_mean)/y_mean)) 0.0\n"
     ]
    },
    {
     "name": "stderr",
     "output_type": "stream",
     "text": [
      "\r",
      " 93%|█████████▎| 335/360 [04:34<00:20,  1.24it/s]"
     ]
    },
    {
     "name": "stdout",
     "output_type": "stream",
     "text": [
      "2\n",
      "y_mean 6.718130990487922\n",
      "mean_mean 6.645383240426098\n",
      "abs(round((mean_mean-y_mean)/y_mean)) 0.0\n",
      "1\n",
      "y_mean 10.09645503474953\n",
      "mean_mean 10.095800082013286\n",
      "abs(round((mean_mean-y_mean)/y_mean)) 0.0\n"
     ]
    },
    {
     "name": "stderr",
     "output_type": "stream",
     "text": [
      "\r",
      " 93%|█████████▎| 336/360 [04:35<00:18,  1.26it/s]"
     ]
    },
    {
     "name": "stdout",
     "output_type": "stream",
     "text": [
      "2\n",
      "y_mean 10.09645503474953\n",
      "mean_mean 10.095800097305988\n",
      "abs(round((mean_mean-y_mean)/y_mean)) 0.0\n",
      "1\n",
      "y_mean 4.018494530615349\n",
      "mean_mean 3.8116704945188404\n",
      "abs(round((mean_mean-y_mean)/y_mean)) 0.0\n"
     ]
    },
    {
     "name": "stderr",
     "output_type": "stream",
     "text": [
      "\r",
      " 94%|█████████▎| 337/360 [04:35<00:18,  1.25it/s]"
     ]
    },
    {
     "name": "stdout",
     "output_type": "stream",
     "text": [
      "2\n",
      "y_mean 4.018494530615349\n",
      "mean_mean 3.9852770283294645\n",
      "abs(round((mean_mean-y_mean)/y_mean)) 0.0\n",
      "1\n",
      "y_mean 6.925153991897331\n",
      "mean_mean 6.924356285259237\n",
      "abs(round((mean_mean-y_mean)/y_mean)) 0.0\n"
     ]
    },
    {
     "name": "stderr",
     "output_type": "stream",
     "text": [
      "\r",
      " 94%|█████████▍| 338/360 [04:36<00:18,  1.19it/s]"
     ]
    },
    {
     "name": "stdout",
     "output_type": "stream",
     "text": [
      "2\n",
      "y_mean 6.925153991897331\n",
      "mean_mean 6.92223859019177\n",
      "abs(round((mean_mean-y_mean)/y_mean)) 0.0\n",
      "1\n",
      "y_mean 6.431328493452535\n",
      "mean_mean 6.419391509728212\n",
      "abs(round((mean_mean-y_mean)/y_mean)) 0.0\n"
     ]
    },
    {
     "name": "stderr",
     "output_type": "stream",
     "text": [
      "\r",
      " 94%|█████████▍| 339/360 [04:37<00:17,  1.23it/s]"
     ]
    },
    {
     "name": "stdout",
     "output_type": "stream",
     "text": [
      "2\n",
      "y_mean 6.431328493452535\n",
      "mean_mean 6.391500357762376\n",
      "abs(round((mean_mean-y_mean)/y_mean)) 0.0\n",
      "1\n",
      "y_mean 8.806646611710754\n",
      "mean_mean 8.804451044404432\n",
      "abs(round((mean_mean-y_mean)/y_mean)) 0.0\n"
     ]
    },
    {
     "name": "stderr",
     "output_type": "stream",
     "text": [
      "\r",
      " 94%|█████████▍| 340/360 [04:38<00:15,  1.28it/s]"
     ]
    },
    {
     "name": "stdout",
     "output_type": "stream",
     "text": [
      "2\n",
      "y_mean 8.806646611710754\n",
      "mean_mean 8.804448786397437\n",
      "abs(round((mean_mean-y_mean)/y_mean)) 0.0\n",
      "1\n",
      "y_mean 6.349835890468752\n",
      "mean_mean 6.297347501787167\n",
      "abs(round((mean_mean-y_mean)/y_mean)) 0.0\n"
     ]
    },
    {
     "name": "stderr",
     "output_type": "stream",
     "text": [
      "\r",
      " 95%|█████████▍| 341/360 [04:39<00:14,  1.29it/s]"
     ]
    },
    {
     "name": "stdout",
     "output_type": "stream",
     "text": [
      "2\n",
      "y_mean 6.349835890468752\n",
      "mean_mean 6.315957250505205\n",
      "abs(round((mean_mean-y_mean)/y_mean)) 0.0\n",
      "1\n",
      "y_mean 8.551576878447927\n",
      "mean_mean 8.549922086585681\n",
      "abs(round((mean_mean-y_mean)/y_mean)) 0.0\n"
     ]
    },
    {
     "name": "stderr",
     "output_type": "stream",
     "text": [
      "\r",
      " 95%|█████████▌| 342/360 [04:39<00:13,  1.31it/s]"
     ]
    },
    {
     "name": "stdout",
     "output_type": "stream",
     "text": [
      "2\n",
      "y_mean 8.551576878447927\n",
      "mean_mean 8.549822048333569\n",
      "abs(round((mean_mean-y_mean)/y_mean)) 0.0\n",
      "1\n",
      "y_mean 5.618023495629473\n",
      "mean_mean 5.248296029109627\n",
      "abs(round((mean_mean-y_mean)/y_mean)) 0.0\n"
     ]
    },
    {
     "name": "stderr",
     "output_type": "stream",
     "text": [
      "\r",
      " 95%|█████████▌| 343/360 [04:40<00:13,  1.28it/s]"
     ]
    },
    {
     "name": "stdout",
     "output_type": "stream",
     "text": [
      "2\n",
      "y_mean 5.618023495629473\n",
      "mean_mean 5.569960441008442\n",
      "abs(round((mean_mean-y_mean)/y_mean)) 0.0\n",
      "1\n",
      "y_mean 9.911943752610917\n",
      "mean_mean 9.908312029452777\n",
      "abs(round((mean_mean-y_mean)/y_mean)) 0.0\n"
     ]
    },
    {
     "name": "stderr",
     "output_type": "stream",
     "text": [
      "\r",
      " 96%|█████████▌| 344/360 [04:41<00:12,  1.28it/s]"
     ]
    },
    {
     "name": "stdout",
     "output_type": "stream",
     "text": [
      "2\n",
      "y_mean 9.911943752610917\n",
      "mean_mean 9.907243617986284\n",
      "abs(round((mean_mean-y_mean)/y_mean)) 0.0\n",
      "1\n",
      "y_mean 6.746028696866923\n",
      "mean_mean 6.6386546773528154\n",
      "abs(round((mean_mean-y_mean)/y_mean)) 0.0\n"
     ]
    },
    {
     "name": "stderr",
     "output_type": "stream",
     "text": [
      "\r",
      " 96%|█████████▌| 345/360 [04:42<00:11,  1.35it/s]"
     ]
    },
    {
     "name": "stdout",
     "output_type": "stream",
     "text": [
      "2\n",
      "y_mean 6.746028696866923\n",
      "mean_mean 6.704863908851988\n",
      "abs(round((mean_mean-y_mean)/y_mean)) 0.0\n"
     ]
    },
    {
     "name": "stderr",
     "output_type": "stream",
     "text": [
      "\r",
      " 96%|█████████▌| 346/360 [04:42<00:09,  1.53it/s]"
     ]
    },
    {
     "name": "stdout",
     "output_type": "stream",
     "text": [
      "1\n",
      "y_mean 9.75859226587286\n",
      "mean_mean 9.757874492983136\n",
      "abs(round((mean_mean-y_mean)/y_mean)) 0.0\n",
      "2\n",
      "y_mean 9.75859226587286\n",
      "mean_mean 9.755845091752139\n",
      "abs(round((mean_mean-y_mean)/y_mean)) 0.0\n",
      "1\n",
      "y_mean 7.395225550335423\n",
      "mean_mean 7.412893160817929\n",
      "abs(round((mean_mean-y_mean)/y_mean)) 0.0\n",
      "2\n",
      "y_mean 7.395225550335423\n",
      "mean_mean 7.371313766032354\n",
      "abs(round((mean_mean-y_mean)/y_mean)) 0.0\n"
     ]
    },
    {
     "name": "stderr",
     "output_type": "stream",
     "text": [
      "\r",
      " 96%|█████████▋| 347/360 [04:42<00:07,  1.66it/s]"
     ]
    },
    {
     "name": "stdout",
     "output_type": "stream",
     "text": [
      "1\n",
      "y_mean 9.945570808856301\n",
      "mean_mean 9.945347416205738\n",
      "abs(round((mean_mean-y_mean)/y_mean)) 0.0\n"
     ]
    },
    {
     "name": "stderr",
     "output_type": "stream",
     "text": [
      "\r",
      " 97%|█████████▋| 348/360 [04:43<00:06,  1.74it/s]"
     ]
    },
    {
     "name": "stdout",
     "output_type": "stream",
     "text": [
      "2\n",
      "y_mean 9.945570808856301\n",
      "mean_mean 9.944296315325055\n",
      "abs(round((mean_mean-y_mean)/y_mean)) 0.0\n",
      "1\n",
      "y_mean 4.8385870702747855\n",
      "mean_mean 4.272735121592461\n",
      "abs(round((mean_mean-y_mean)/y_mean)) 0.0\n"
     ]
    },
    {
     "name": "stderr",
     "output_type": "stream",
     "text": [
      "\r",
      " 97%|█████████▋| 349/360 [04:44<00:06,  1.68it/s]"
     ]
    },
    {
     "name": "stdout",
     "output_type": "stream",
     "text": [
      "2\n",
      "y_mean 4.8385870702747855\n",
      "mean_mean 4.667626178402227\n",
      "abs(round((mean_mean-y_mean)/y_mean)) 0.0\n"
     ]
    },
    {
     "name": "stderr",
     "output_type": "stream",
     "text": [
      "\r",
      " 97%|█████████▋| 350/360 [04:44<00:05,  1.79it/s]"
     ]
    },
    {
     "name": "stdout",
     "output_type": "stream",
     "text": [
      "1\n",
      "y_mean 10.004069822232431\n",
      "mean_mean 10.001231493537693\n",
      "abs(round((mean_mean-y_mean)/y_mean)) 0.0\n",
      "2\n",
      "y_mean 10.004069822232431\n",
      "mean_mean 10.001227043970918\n",
      "abs(round((mean_mean-y_mean)/y_mean)) 0.0\n"
     ]
    },
    {
     "name": "stderr",
     "output_type": "stream",
     "text": [
      "\r",
      " 98%|█████████▊| 351/360 [04:45<00:04,  1.90it/s]"
     ]
    },
    {
     "name": "stdout",
     "output_type": "stream",
     "text": [
      "1\n",
      "y_mean 6.447891972207106\n",
      "mean_mean 6.3798827978457515\n",
      "abs(round((mean_mean-y_mean)/y_mean)) 0.0\n",
      "2\n",
      "y_mean 6.447891972207106\n",
      "mean_mean 6.392722398524041\n",
      "abs(round((mean_mean-y_mean)/y_mean)) 0.0\n"
     ]
    },
    {
     "name": "stderr",
     "output_type": "stream",
     "text": [
      "\r",
      " 98%|█████████▊| 352/360 [04:45<00:04,  1.91it/s]"
     ]
    },
    {
     "name": "stdout",
     "output_type": "stream",
     "text": [
      "1\n",
      "y_mean 9.67205636628734\n",
      "mean_mean 9.670307572375432\n",
      "abs(round((mean_mean-y_mean)/y_mean)) 0.0\n",
      "2\n",
      "y_mean 9.67205636628734\n",
      "mean_mean 9.670307378804916\n",
      "abs(round((mean_mean-y_mean)/y_mean)) 0.0\n",
      "1\n",
      "y_mean 6.89789106235767\n",
      "mean_mean 6.645539096819027\n",
      "abs(round((mean_mean-y_mean)/y_mean)) 0.0\n"
     ]
    },
    {
     "name": "stderr",
     "output_type": "stream",
     "text": [
      "\r",
      " 98%|█████████▊| 353/360 [04:46<00:03,  1.94it/s]"
     ]
    },
    {
     "name": "stdout",
     "output_type": "stream",
     "text": [
      "2\n",
      "y_mean 6.89789106235767\n",
      "mean_mean 6.860764412442863\n",
      "abs(round((mean_mean-y_mean)/y_mean)) 0.0\n",
      "1\n",
      "y_mean 9.51564240200717\n",
      "mean_mean 9.514258508580362\n",
      "abs(round((mean_mean-y_mean)/y_mean)) 0.0\n"
     ]
    },
    {
     "name": "stderr",
     "output_type": "stream",
     "text": [
      "\r",
      " 98%|█████████▊| 354/360 [04:46<00:03,  1.87it/s]"
     ]
    },
    {
     "name": "stdout",
     "output_type": "stream",
     "text": [
      "2\n",
      "y_mean 9.51564240200717\n",
      "mean_mean 9.514258939802112\n",
      "abs(round((mean_mean-y_mean)/y_mean)) 0.0\n",
      "1\n",
      "y_mean 5.306274895824206\n",
      "mean_mean 4.868807947927513\n",
      "abs(round((mean_mean-y_mean)/y_mean)) 0.0\n"
     ]
    },
    {
     "name": "stderr",
     "output_type": "stream",
     "text": [
      "\r",
      " 99%|█████████▊| 355/360 [04:47<00:02,  1.77it/s]"
     ]
    },
    {
     "name": "stdout",
     "output_type": "stream",
     "text": [
      "2\n",
      "y_mean 5.306274895824206\n",
      "mean_mean 5.195243212143872\n",
      "abs(round((mean_mean-y_mean)/y_mean)) 0.0\n",
      "Cholesky decomposition was not successful.\n",
      "1\n",
      "y_mean 10.183956364714728\n",
      "mean_mean 10.182425241342058\n",
      "abs(round((mean_mean-y_mean)/y_mean)) 0.0\n",
      "1\n",
      "y_mean 10.183956364714728\n",
      "mean_mean 10.182425241342058\n",
      "abs(round((mean_mean-y_mean)/y_mean)) 0.0\n"
     ]
    },
    {
     "name": "stderr",
     "output_type": "stream",
     "text": [
      "\r",
      " 99%|█████████▉| 356/360 [04:48<00:02,  1.46it/s]"
     ]
    },
    {
     "name": "stdout",
     "output_type": "stream",
     "text": [
      "2\n",
      "y_mean 10.183956364714728\n",
      "mean_mean 10.18202184620395\n",
      "abs(round((mean_mean-y_mean)/y_mean)) 0.0\n",
      "1\n",
      "y_mean 6.548211744962301\n",
      "mean_mean 6.355014122620288\n",
      "abs(round((mean_mean-y_mean)/y_mean)) 0.0\n"
     ]
    },
    {
     "name": "stderr",
     "output_type": "stream",
     "text": [
      "\r",
      " 99%|█████████▉| 357/360 [04:49<00:02,  1.37it/s]"
     ]
    },
    {
     "name": "stdout",
     "output_type": "stream",
     "text": [
      "2\n",
      "y_mean 6.548211744962301\n",
      "mean_mean 6.506303838706557\n",
      "abs(round((mean_mean-y_mean)/y_mean)) 0.0\n",
      "1\n",
      "y_mean 9.995832454177911\n",
      "mean_mean 9.995108525278226\n",
      "abs(round((mean_mean-y_mean)/y_mean)) 0.0\n"
     ]
    },
    {
     "name": "stderr",
     "output_type": "stream",
     "text": [
      "\r",
      " 99%|█████████▉| 358/360 [04:49<00:01,  1.41it/s]"
     ]
    },
    {
     "name": "stdout",
     "output_type": "stream",
     "text": [
      "2\n",
      "y_mean 9.995832454177911\n",
      "mean_mean 9.995105514270021\n",
      "abs(round((mean_mean-y_mean)/y_mean)) 0.0\n",
      "1\n",
      "y_mean 7.453833347658965\n",
      "mean_mean 7.092301245773167\n",
      "abs(round((mean_mean-y_mean)/y_mean)) 0.0\n",
      "2\n",
      "y_mean "
     ]
    },
    {
     "name": "stderr",
     "output_type": "stream",
     "text": [
      "\r",
      "100%|█████████▉| 359/360 [04:50<00:00,  1.56it/s]"
     ]
    },
    {
     "name": "stdout",
     "output_type": "stream",
     "text": [
      "7.453833347658965\n",
      "mean_mean 7.431695728470482\n",
      "abs(round((mean_mean-y_mean)/y_mean)) 0.0\n",
      "1\n",
      "y_mean 10.010943744887905\n",
      "mean_mean 10.01047777602939\n",
      "abs(round((mean_mean-y_mean)/y_mean)) 0.0\n"
     ]
    },
    {
     "name": "stderr",
     "output_type": "stream",
     "text": [
      "100%|██████████| 360/360 [04:51<00:00,  1.24it/s]"
     ]
    },
    {
     "name": "stdout",
     "output_type": "stream",
     "text": [
      "2\n",
      "y_mean 10.010943744887905\n",
      "mean_mean 10.010202259233342\n",
      "abs(round((mean_mean-y_mean)/y_mean)) 0.0\n"
     ]
    },
    {
     "name": "stderr",
     "output_type": "stream",
     "text": [
      "\n"
     ]
    },
    {
     "data": {
      "text/html": [
       "<div>\n",
       "<style scoped>\n",
       "    .dataframe tbody tr th:only-of-type {\n",
       "        vertical-align: middle;\n",
       "    }\n",
       "\n",
       "    .dataframe tbody tr th {\n",
       "        vertical-align: top;\n",
       "    }\n",
       "\n",
       "    .dataframe thead th {\n",
       "        text-align: right;\n",
       "    }\n",
       "</style>\n",
       "<table border=\"1\" class=\"dataframe\">\n",
       "  <thead>\n",
       "    <tr style=\"text-align: right;\">\n",
       "      <th></th>\n",
       "      <th>Dynamic_model_log_likelihood</th>\n",
       "      <th>Constant_model_log_likelihood</th>\n",
       "      <th>log_likelihood_ratio</th>\n",
       "    </tr>\n",
       "  </thead>\n",
       "  <tbody>\n",
       "    <tr>\n",
       "      <th>gene_1</th>\n",
       "      <td>-37.574788</td>\n",
       "      <td>-42.269266</td>\n",
       "      <td>4.694478</td>\n",
       "    </tr>\n",
       "    <tr>\n",
       "      <th>gene_2</th>\n",
       "      <td>-21.127475</td>\n",
       "      <td>-21.127412</td>\n",
       "      <td>-0.000062</td>\n",
       "    </tr>\n",
       "    <tr>\n",
       "      <th>gene_3</th>\n",
       "      <td>-37.914913</td>\n",
       "      <td>-37.508437</td>\n",
       "      <td>-0.406476</td>\n",
       "    </tr>\n",
       "    <tr>\n",
       "      <th>gene_4</th>\n",
       "      <td>-20.675636</td>\n",
       "      <td>-20.675634</td>\n",
       "      <td>-0.000003</td>\n",
       "    </tr>\n",
       "    <tr>\n",
       "      <th>gene_5</th>\n",
       "      <td>-34.471219</td>\n",
       "      <td>-42.191281</td>\n",
       "      <td>7.720062</td>\n",
       "    </tr>\n",
       "    <tr>\n",
       "      <th>...</th>\n",
       "      <td>...</td>\n",
       "      <td>...</td>\n",
       "      <td>...</td>\n",
       "    </tr>\n",
       "    <tr>\n",
       "      <th>gene_356</th>\n",
       "      <td>-20.323807</td>\n",
       "      <td>-20.494668</td>\n",
       "      <td>0.170861</td>\n",
       "    </tr>\n",
       "    <tr>\n",
       "      <th>gene_357</th>\n",
       "      <td>-39.783372</td>\n",
       "      <td>-42.442096</td>\n",
       "      <td>2.658723</td>\n",
       "    </tr>\n",
       "    <tr>\n",
       "      <th>gene_358</th>\n",
       "      <td>-11.997632</td>\n",
       "      <td>-11.997737</td>\n",
       "      <td>0.000105</td>\n",
       "    </tr>\n",
       "    <tr>\n",
       "      <th>gene_359</th>\n",
       "      <td>-35.116495</td>\n",
       "      <td>-38.247876</td>\n",
       "      <td>3.131381</td>\n",
       "    </tr>\n",
       "    <tr>\n",
       "      <th>gene_360</th>\n",
       "      <td>-11.745407</td>\n",
       "      <td>-12.180920</td>\n",
       "      <td>0.435512</td>\n",
       "    </tr>\n",
       "  </tbody>\n",
       "</table>\n",
       "<p>360 rows × 3 columns</p>\n",
       "</div>"
      ],
      "text/plain": [
       "          Dynamic_model_log_likelihood  Constant_model_log_likelihood  \\\n",
       "gene_1                      -37.574788                     -42.269266   \n",
       "gene_2                      -21.127475                     -21.127412   \n",
       "gene_3                      -37.914913                     -37.508437   \n",
       "gene_4                      -20.675636                     -20.675634   \n",
       "gene_5                      -34.471219                     -42.191281   \n",
       "...                                ...                            ...   \n",
       "gene_356                    -20.323807                     -20.494668   \n",
       "gene_357                    -39.783372                     -42.442096   \n",
       "gene_358                    -11.997632                     -11.997737   \n",
       "gene_359                    -35.116495                     -38.247876   \n",
       "gene_360                    -11.745407                     -12.180920   \n",
       "\n",
       "          log_likelihood_ratio  \n",
       "gene_1                4.694478  \n",
       "gene_2               -0.000062  \n",
       "gene_3               -0.406476  \n",
       "gene_4               -0.000003  \n",
       "gene_5                7.720062  \n",
       "...                        ...  \n",
       "gene_356              0.170861  \n",
       "gene_357              2.658723  \n",
       "gene_358              0.000105  \n",
       "gene_359              3.131381  \n",
       "gene_360              0.435512  \n",
       "\n",
       "[360 rows x 3 columns]"
      ]
     },
     "execution_count": 5,
     "metadata": {},
     "output_type": "execute_result"
    }
   ],
   "source": [
    "genes_log_likelihoods = {}\n",
    "lik_name = 'Gaussian'\n",
    "column_name = ['Dynamic_model_log_likelihood','Constant_model_log_likelihood','log_likelihood_ratio']\n",
    "#Y.shape[0]\n",
    "for i in tqdm(range(Y.shape[0])):\n",
    "    model_index = 1 #dynamic model GP with RBF kernel  \n",
    "    model_1_log_likelihood,model = fit_model(lik_name)\n",
    "     \n",
    "    if not(np.isnan(model_1_log_likelihood)):\n",
    "        ls = model.kernel.lengthscales.numpy()\n",
    "\n",
    "    model_index = 2 #constant model GP with constant kernel \n",
    "    model_2_log_likelihood,model = fit_model(lik_name)\n",
    "\n",
    "    if np.isnan(model_1_log_likelihood) or np.isnan(model_2_log_likelihood):\n",
    "            ll_ratio = np.nan\n",
    "    else:              \n",
    "        #test local optima case 2\n",
    "        ll_ratio = model_1_log_likelihood - model_2_log_likelihood\n",
    "        if (ls < ((np.max(X)-np.min(X))/10.) and round(ll_ratio) <= 0):\n",
    "            model_index = 1 #dynamic model GP with RBF kernel  \n",
    "            model_1_log_likelihood,model = fit_model(lik_name)\n",
    "     \n",
    "            if not(np.isnan(model_1_log_likelihood)):\n",
    "                ls = model.kernel.lengthscales.numpy()\n",
    "\n",
    "            model_index = 2 #constant model GP with constant kernel \n",
    "            model_2_log_likelihood,model = fit_model(lik_name)\n",
    "\n",
    "        ll_ratio = model_1_log_likelihood - model_2_log_likelihood\n",
    "\n",
    "    log_likelihood =  [model_1_log_likelihood,model_2_log_likelihood,ll_ratio]                           \n",
    "\n",
    "    genes_log_likelihoods[genes_name[i]] = log_likelihood\n",
    "\n",
    "  \n",
    "log_likelihood_ratio = pd.DataFrame.from_dict(genes_log_likelihoods, orient='index', columns= column_name)\n",
    "log_likelihood_ratio.to_csv('log_likelihood_ratio_Apr_6_'+lik_name+'.csv')\n",
    "log_likelihood_ratio"
   ]
  },
  {
   "cell_type": "code",
   "execution_count": 6,
   "metadata": {},
   "outputs": [
    {
     "data": {
      "image/png": "[encoded data removed]",
      "text/plain": [
       "<Figure size 432x288 with 1 Axes>"
      ]
     },
     "metadata": {
      "needs_background": "light"
     },
     "output_type": "display_data"
    },
    {
     "name": "stdout",
     "output_type": "stream",
     "text": [
      "AUC for GPflow with Jan_31 likelihood 0.7714506172839506\n",
      "AUC for GPflow with Apr_1 likelihood 0.770679012345679\n",
      "AUC for GPflow with Apr_6 likelihood 0.770679012345679\n"
     ]
    }
   ],
   "source": [
    "fig = plt.figure()\n",
    "\n",
    "Jan_31 = pd.read_csv('log_likelihood_ratio_Jan_31_'+lik_name+'.csv',index_col=[0])\n",
    "Apr_1 = pd.read_csv('log_likelihood_ratio_Apr_1_'+lik_name+'.csv',index_col=[0])\n",
    "Apr_6 = pd.read_csv('log_likelihood_ratio_Apr_6_'+lik_name+'.csv',index_col=[0])\n",
    "\n",
    "\n",
    "D = Apr_6.shape[0]\n",
    "true_label = np.zeros(D)\n",
    "\n",
    "for j in range(D):\n",
    "    if j %2 == 0:\n",
    "        true_label[j] = 1\n",
    "\n",
    "labels = pd.DataFrame(true_label, index =Apr_6.index.values, columns =['label'])\n",
    "Apr_6 = pd.concat([Apr_1,labels],axis = 1)\n",
    "\n",
    "\n",
    "fpr_Jan_31, tpr_Jan_31, thresholds_Jan_31= metrics.roc_curve(Apr_6['label'],Jan_31['log_likelihood_ratio'])\n",
    "plt.plot(fpr_Jan_31, tpr_Jan_31, color='darkorange', label='GPflow Jan_31')\n",
    "\n",
    "fpr_Apr_1, tpr_Apr_1, thresholds_Apr_1 = metrics.roc_curve( Apr_6['label'], Apr_1['log_likelihood_ratio'])\n",
    "plt.plot(fpr_Apr_1, tpr_Apr_1,color='green',label='GPflow Apr_1')\n",
    "\n",
    "fpr_Apr_6, tpr_Apr_6, thresholds_Apr_6 = metrics.roc_curve( Apr_6['label'], Apr_6['log_likelihood_ratio'])\n",
    "plt.plot(fpr_Apr_6, tpr_Apr_6,color='blue',label='GPflow Apr_6')\n",
    "\n",
    "plt.plot([0, 1], [0, 1], color='navy', lw=2, linestyle='--')    \n",
    "plt.xlabel('False Positive Rate')\n",
    "plt.ylabel('True Positive Rate')\n",
    "\n",
    "plt.legend(loc='upper center', bbox_to_anchor=(.6, 0.2))\n",
    "plt.show()\n",
    "\n",
    "AUC_Jan_31=metrics.auc(fpr_Jan_31, tpr_Jan_31)\n",
    "AUC_Apr_1=metrics.auc(fpr_Apr_1, tpr_Apr_1)\n",
    "AUC_Apr_6=metrics.auc(fpr_Apr_6, tpr_Apr_6)\n",
    "\n",
    "print('AUC for GPflow with Jan_31 likelihood',AUC_Jan_31)\n",
    "print('AUC for GPflow with Apr_1 likelihood',AUC_Apr_1)\n",
    "print('AUC for GPflow with Apr_6 likelihood',AUC_Apr_6)\n"
   ]
  },
  {
   "cell_type": "code",
   "execution_count": null,
   "metadata": {},
   "outputs": [],
   "source": []
  }
 ],
 "metadata": {
  "kernelspec": {
   "display_name": "Python [conda env:myenv2] *",
   "language": "python",
   "name": "conda-env-myenv2-py"
  },
  "language_info": {
   "codemirror_mode": {
    "name": "ipython",
    "version": 3
   },
   "file_extension": ".py",
   "mimetype": "text/x-python",
   "name": "python",
   "nbconvert_exporter": "python",
   "pygments_lexer": "ipython3",
   "version": "3.7.6"
  }
 },
 "nbformat": 4,
 "nbformat_minor": 2
}
