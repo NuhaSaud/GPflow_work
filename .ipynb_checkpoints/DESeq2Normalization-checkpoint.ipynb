{
 "cells": [
  {
   "cell_type": "markdown",
   "metadata": {},
   "source": [
    "# Normalize fission yeast dataset"
   ]
  },
  {
   "cell_type": "markdown",
   "metadata": {},
   "source": [
    "Nuha BinTayyash, 2020\n",
    "\n",
    "This notebook shows how to run [DESeq2](https://bioconductor.org/packages/release/bioc/html/DESeq2.html) R package to normalize [fission yeast](https://bioconductor.org/packages/release/data/experiment/html/fission.html) gene expression data."
   ]
  },
  {
   "cell_type": "markdown",
   "metadata": {},
   "source": [
    "### load [fission dataset](https://bioconductor.org/packages/3.11/data/experiment/html/fission.html) and normalize it using DESeq2"
   ]
  },
  {
   "cell_type": "code",
   "execution_count": 1,
   "metadata": {},
   "outputs": [
    {
     "name": "stderr",
     "output_type": "stream",
     "text": [
      "Loading required package: SummarizedExperiment\n",
      "Loading required package: GenomicRanges\n",
      "Loading required package: stats4\n",
      "Loading required package: BiocGenerics\n",
      "Loading required package: parallel\n",
      "\n",
      "Attaching package: ‘BiocGenerics’\n",
      "\n",
      "The following objects are masked from ‘package:parallel’:\n",
      "\n",
      "    clusterApply, clusterApplyLB, clusterCall, clusterEvalQ,\n",
      "    clusterExport, clusterMap, parApply, parCapply, parLapply,\n",
      "    parLapplyLB, parRapply, parSapply, parSapplyLB\n",
      "\n",
      "The following objects are masked from ‘package:stats’:\n",
      "\n",
      "    IQR, mad, sd, var, xtabs\n",
      "\n",
      "The following objects are masked from ‘package:base’:\n",
      "\n",
      "    anyDuplicated, append, as.data.frame, basename, cbind, colnames,\n",
      "    dirname, do.call, duplicated, eval, evalq, Filter, Find, get, grep,\n",
      "    grepl, intersect, is.unsorted, lapply, Map, mapply, match, mget,\n",
      "    order, paste, pmax, pmax.int, pmin, pmin.int, Position, rank,\n",
      "    rbind, Reduce, rownames, sapply, setdiff, sort, table, tapply,\n",
      "    union, unique, unsplit, which, which.max, which.min\n",
      "\n",
      "Loading required package: S4Vectors\n",
      "\n",
      "Attaching package: ‘S4Vectors’\n",
      "\n",
      "The following object is masked from ‘package:base’:\n",
      "\n",
      "    expand.grid\n",
      "\n",
      "Loading required package: IRanges\n",
      "Loading required package: GenomeInfoDb\n",
      "Loading required package: Biobase\n",
      "Welcome to Bioconductor\n",
      "\n",
      "    Vignettes contain introductory material; view with\n",
      "    'browseVignettes()'. To cite Bioconductor, see\n",
      "    'citation(\"Biobase\")', and for packages 'citation(\"pkgname\")'.\n",
      "\n",
      "Loading required package: DelayedArray\n",
      "Loading required package: matrixStats\n",
      "\n",
      "Attaching package: ‘matrixStats’\n",
      "\n",
      "The following objects are masked from ‘package:Biobase’:\n",
      "\n",
      "    anyMissing, rowMedians\n",
      "\n",
      "Loading required package: BiocParallel\n",
      "\n",
      "Attaching package: ‘DelayedArray’\n",
      "\n",
      "The following objects are masked from ‘package:matrixStats’:\n",
      "\n",
      "    colMaxs, colMins, colRanges, rowMaxs, rowMins, rowRanges\n",
      "\n",
      "The following objects are masked from ‘package:base’:\n",
      "\n",
      "    aperm, apply, rowsum\n",
      "\n"
     ]
    }
   ],
   "source": [
    "library(\"fission\")\n",
    "data(\"fission\")\n",
    "counts <- SummarizedExperiment::assay(fission)\n",
    "keep <- rowMeans(counts) >1\n",
    "counts <- counts[keep,]\n",
    "col_data <- fission@colData\n",
    "wt_counts <- counts[,1:18]"
   ]
  },
  {
   "cell_type": "code",
   "execution_count": 2,
   "metadata": {},
   "outputs": [],
   "source": [
    "col_data_scaled <- read.csv(file = 'wt_col_data_scaled.csv',row.names = 1, header = TRUE) #scaled time points\n",
    "library(\"DESeq2\")\n",
    "dds <- DESeqDataSetFromMatrix(countData = wt_counts,\n",
    "                              colData = col_data_scaled,\n",
    "                              design = ~  minute)\n",
    "\n",
    "dds <- estimateSizeFactors(dds)\n",
    "normalized_counts<-counts(dds, normalized=TRUE)\n",
    "write.csv(normalized_counts, file = \"wt_normalized_counts_scaled.csv\")"
   ]
  },
  {
   "cell_type": "code",
   "execution_count": 3,
   "metadata": {},
   "outputs": [
    {
     "data": {
      "text/plain": [
       "R version 3.6.2 (2019-12-12)\n",
       "Platform: x86_64-apple-darwin13.4.0 (64-bit)\n",
       "Running under: macOS Catalina 10.15.4\n",
       "\n",
       "Matrix products: default\n",
       "BLAS/LAPACK: /Users/nuhabintayyash/opt/anaconda3/envs/tensonflow_2.1/lib/libopenblasp-r0.3.7.dylib\n",
       "\n",
       "locale:\n",
       "[1] en_GB.UTF-8/en_GB.UTF-8/en_GB.UTF-8/C/en_GB.UTF-8/en_GB.UTF-8\n",
       "\n",
       "attached base packages:\n",
       "[1] parallel  stats4    stats     graphics  grDevices utils     datasets \n",
       "[8] methods   base     \n",
       "\n",
       "other attached packages:\n",
       " [1] DESeq2_1.26.0               fission_1.6.0              \n",
       " [3] SummarizedExperiment_1.16.0 DelayedArray_0.12.0        \n",
       " [5] BiocParallel_1.20.0         matrixStats_0.55.0         \n",
       " [7] Biobase_2.46.0              GenomicRanges_1.38.0       \n",
       " [9] GenomeInfoDb_1.22.0         IRanges_2.20.0             \n",
       "[11] S4Vectors_0.24.0            BiocGenerics_0.32.0        \n",
       "\n",
       "loaded via a namespace (and not attached):\n",
       " [1] bit64_0.9-7            jsonlite_1.6           splines_3.6.2         \n",
       " [4] Formula_1.2-3          latticeExtra_0.6-29    blob_1.2.1            \n",
       " [7] GenomeInfoDbData_1.2.2 RSQLite_2.1.5          pillar_1.4.3          \n",
       "[10] backports_1.1.5        lattice_0.20-38        uuid_0.1-2            \n",
       "[13] digest_0.6.18          RColorBrewer_1.1-2     XVector_0.26.0        \n",
       "[16] checkmate_1.9.4        colorspace_1.4-1       htmltools_0.3.6       \n",
       "[19] Matrix_1.2-18          XML_3.99-0.3           pkgconfig_2.0.3       \n",
       "[22] genefilter_1.68.0      zlibbioc_1.32.0        xtable_1.8-4          \n",
       "[25] scales_1.1.0           jpeg_0.1-8.1           htmlTable_1.13.3      \n",
       "[28] tibble_2.1.3           annotate_1.64.0        ggplot2_3.2.1         \n",
       "[31] repr_0.19.2            nnet_7.3-12            lazyeval_0.2.2        \n",
       "[34] survival_3.1-8         magrittr_1.5           crayon_1.3.4          \n",
       "[37] memoise_1.1.0          evaluate_0.13          foreign_0.8-75        \n",
       "[40] tools_3.6.2            data.table_1.12.8      lifecycle_0.1.0       \n",
       "[43] stringr_1.4.0          locfit_1.5-9.1         munsell_0.5.0         \n",
       "[46] cluster_2.1.0          AnnotationDbi_1.48.0   compiler_3.6.2        \n",
       "[49] rlang_0.4.3            grid_3.6.2             RCurl_1.98-1.1        \n",
       "[52] pbdZMQ_0.3-3           IRkernel_0.8.15        rstudioapi_0.10       \n",
       "[55] htmlwidgets_1.5.1      bitops_1.0-6           base64enc_0.1-3       \n",
       "[58] gtable_0.3.0           DBI_1.1.0              R6_2.4.1              \n",
       "[61] gridExtra_2.3          knitr_1.27             bit_1.1-15.1          \n",
       "[64] Hmisc_4.3-0            stringi_1.4.5          IRdisplay_0.7.0       \n",
       "[67] Rcpp_1.0.1             geneplotter_1.64.0     vctrs_0.2.2           \n",
       "[70] rpart_4.1-15           acepack_1.4.1          png_0.1-7             \n",
       "[73] xfun_0.12             "
      ]
     },
     "metadata": {},
     "output_type": "display_data"
    }
   ],
   "source": [
    "sessionInfo()"
   ]
  },
  {
   "cell_type": "code",
   "execution_count": null,
   "metadata": {},
   "outputs": [],
   "source": []
  }
 ],
 "metadata": {
  "kernelspec": {
   "display_name": "R [conda env:tensonflow_2.1]",
   "language": "R",
   "name": "conda-env-tensonflow_2.1-r"
  },
  "language_info": {
   "codemirror_mode": "r",
   "file_extension": ".r",
   "mimetype": "text/x-r-source",
   "name": "R",
   "pygments_lexer": "r",
   "version": "3.6.2"
  }
 },
 "nbformat": 4,
 "nbformat_minor": 2
}
